{
 "metadata": {
  "language_info": {
   "codemirror_mode": {
    "name": "ipython",
    "version": 3
   },
   "file_extension": ".py",
   "mimetype": "text/x-python",
   "name": "python",
   "nbconvert_exporter": "python",
   "pygments_lexer": "ipython3",
   "version": "3.8.6-final"
  },
  "orig_nbformat": 2,
  "kernelspec": {
   "name": "python3",
   "language": "python",
   "display_name": "Python 3"
  }
 },
 "nbformat": 4,
 "nbformat_minor": 2,
 "cells": [
  {
   "cell_type": "code",
   "execution_count": 7,
   "metadata": {},
   "outputs": [],
   "source": [
    "import pandas as pd\n",
    "import numpy as np\n",
    "from sklearn.model_selection import train_test_split\n",
    "from helper import read_x_train, fill_nan, trans2trader\n",
    "from sklearn.ensemble import RandomForestClassifier\n",
    "from sklearn import metrics"
   ]
  },
  {
   "cell_type": "code",
   "execution_count": 8,
   "metadata": {},
   "outputs": [],
   "source": [
    "y_train = pd.read_csv('data/AMF_train_Y.csv')"
   ]
  },
  {
   "cell_type": "code",
   "execution_count": 9,
   "metadata": {},
   "outputs": [],
   "source": [
    "x_train = read_x_train('data/AMF_train_X.csv', includeShare=True, includeDay=True)\n",
    "x_train = fill_nan(x_train)\n",
    "\n",
    "n_rows, n_cols = x_train.shape"
   ]
  },
  {
   "source": [
    "### The NaN ratio in each columns"
   ],
   "cell_type": "markdown",
   "metadata": {}
  },
  {
   "cell_type": "code",
   "execution_count": 12,
   "metadata": {},
   "outputs": [
    {
     "data": {
      "text/plain": "Share                         0.0\nDay                           0.0\nTrader                        0.0\nOTR                           0.0\nOCR                           0.0\nOMR                           0.0\nmin_time_two_events           0.0\nmean_time_two_events          0.0\n10_p_time_two_events          0.0\nmed_time_two_events           0.0\n25_p_time_two_events          0.0\n75_p_time_two_events          0.0\n90_p_time_two_events          0.0\nmax_time_two_events           0.0\nmin_lifetime_cancel           0.0\nmean_lifetime_cancel          0.0\n10_p_lifetime_cancel          0.0\nmed_lifetime_cancel           0.0\n25_p_lifetime_cancel          0.0\n75_p_lifetime_cancel          0.0\n90_p_lifetime_cancel          0.0\nmax_lifetime_cancel           0.0\nNbTradeVenueMic               0.0\nMaxNbTradesBySecond           0.0\nMeanNbTradesBySecond          0.0\nmin_dt_TV1                    0.0\nmean_dt_TV1                   0.0\nmed_dt_TV1                    0.0\nmin_dt_TV1_TV2                0.0\nmean_dt_TV1_TV2               0.0\nmed_dt_TV1_TV2                0.0\nmin_dt_TV1_TV3                0.0\nmean_dt_TV1_TV3               0.0\nmed_dt_TV1_TV3                0.0\nmin_dt_TV1_TV4                0.0\nmean_dt_TV1_TV4               0.0\nmed_dt_TV1_TV4                0.0\nNbSecondWithAtLeatOneTrade    0.0\ndtype: float64"
     },
     "execution_count": 12,
     "metadata": {},
     "output_type": "execute_result"
    }
   ],
   "source": [
    "x_train.isnull().sum()/n_rows"
   ]
  },
  {
   "cell_type": "code",
   "execution_count": 13,
   "metadata": {},
   "outputs": [
    {
     "name": "stdout",
     "output_type": "stream",
     "text": [
      "<class 'pandas.core.frame.DataFrame'>\n",
      "RangeIndex: 105782 entries, 0 to 105781\n",
      "Data columns (total 38 columns):\n",
      " #   Column                      Non-Null Count   Dtype  \n",
      "---  ------                      --------------   -----  \n",
      " 0   Share                       105782 non-null  int64  \n",
      " 1   Day                         105782 non-null  int64  \n",
      " 2   Trader                      105782 non-null  object \n",
      " 3   OTR                         105782 non-null  float64\n",
      " 4   OCR                         105782 non-null  float64\n",
      " 5   OMR                         105782 non-null  float64\n",
      " 6   min_time_two_events         105782 non-null  float64\n",
      " 7   mean_time_two_events        105782 non-null  float64\n",
      " 8   10_p_time_two_events        105782 non-null  float64\n",
      " 9   med_time_two_events         105782 non-null  float64\n",
      " 10  25_p_time_two_events        105782 non-null  float64\n",
      " 11  75_p_time_two_events        105782 non-null  float64\n",
      " 12  90_p_time_two_events        105782 non-null  float64\n",
      " 13  max_time_two_events         105782 non-null  float64\n",
      " 14  min_lifetime_cancel         105782 non-null  float64\n",
      " 15  mean_lifetime_cancel        105782 non-null  float64\n",
      " 16  10_p_lifetime_cancel        105782 non-null  float64\n",
      " 17  med_lifetime_cancel         105782 non-null  float64\n",
      " 18  25_p_lifetime_cancel        105782 non-null  float64\n",
      " 19  75_p_lifetime_cancel        105782 non-null  float64\n",
      " 20  90_p_lifetime_cancel        105782 non-null  float64\n",
      " 21  max_lifetime_cancel         105782 non-null  float64\n",
      " 22  NbTradeVenueMic             105782 non-null  int64  \n",
      " 23  MaxNbTradesBySecond         105782 non-null  int64  \n",
      " 24  MeanNbTradesBySecond        105782 non-null  float64\n",
      " 25  min_dt_TV1                  105782 non-null  float64\n",
      " 26  mean_dt_TV1                 105782 non-null  float64\n",
      " 27  med_dt_TV1                  105782 non-null  float64\n",
      " 28  min_dt_TV1_TV2              105782 non-null  float64\n",
      " 29  mean_dt_TV1_TV2             105782 non-null  float64\n",
      " 30  med_dt_TV1_TV2              105782 non-null  float64\n",
      " 31  min_dt_TV1_TV3              105782 non-null  float64\n",
      " 32  mean_dt_TV1_TV3             105782 non-null  float64\n",
      " 33  med_dt_TV1_TV3              105782 non-null  float64\n",
      " 34  min_dt_TV1_TV4              105782 non-null  float64\n",
      " 35  mean_dt_TV1_TV4             105782 non-null  float64\n",
      " 36  med_dt_TV1_TV4              105782 non-null  float64\n",
      " 37  NbSecondWithAtLeatOneTrade  105782 non-null  int64  \n",
      "dtypes: float64(32), int64(5), object(1)\n",
      "memory usage: 30.7+ MB\n"
     ]
    }
   ],
   "source": [
    "x_train.info()"
   ]
  },
  {
   "cell_type": "code",
   "execution_count": 14,
   "metadata": {},
   "outputs": [],
   "source": [
    "x_train_data = np.array(x_train.drop(['Trader'], axis = 1))"
   ]
  },
  {
   "cell_type": "code",
   "execution_count": 15,
   "metadata": {},
   "outputs": [],
   "source": [
    "ind2type = {0: 'HFT', 1: 'MIX', 2: 'NON HFT'}\n",
    "type2ind = {'HFT': 0, 'MIX': 1, 'NON HFT': 2}"
   ]
  },
  {
   "cell_type": "code",
   "execution_count": 16,
   "metadata": {},
   "outputs": [
    {
     "data": {
      "text/plain": "        Trader     type\n0   Trader_285      MIX\n1   Trader_114  NON HFT\n2   Trader_110  NON HFT\n3    Trader_57  NON HFT\n4   Trader_128  NON HFT\n..         ...      ...\n81  Trader_140      MIX\n82  Trader_451      MIX\n83  Trader_438      MIX\n84  Trader_278      HFT\n85  Trader_330      MIX\n\n[86 rows x 2 columns]",
      "text/html": "<div>\n<style scoped>\n    .dataframe tbody tr th:only-of-type {\n        vertical-align: middle;\n    }\n\n    .dataframe tbody tr th {\n        vertical-align: top;\n    }\n\n    .dataframe thead th {\n        text-align: right;\n    }\n</style>\n<table border=\"1\" class=\"dataframe\">\n  <thead>\n    <tr style=\"text-align: right;\">\n      <th></th>\n      <th>Trader</th>\n      <th>type</th>\n    </tr>\n  </thead>\n  <tbody>\n    <tr>\n      <th>0</th>\n      <td>Trader_285</td>\n      <td>MIX</td>\n    </tr>\n    <tr>\n      <th>1</th>\n      <td>Trader_114</td>\n      <td>NON HFT</td>\n    </tr>\n    <tr>\n      <th>2</th>\n      <td>Trader_110</td>\n      <td>NON HFT</td>\n    </tr>\n    <tr>\n      <th>3</th>\n      <td>Trader_57</td>\n      <td>NON HFT</td>\n    </tr>\n    <tr>\n      <th>4</th>\n      <td>Trader_128</td>\n      <td>NON HFT</td>\n    </tr>\n    <tr>\n      <th>...</th>\n      <td>...</td>\n      <td>...</td>\n    </tr>\n    <tr>\n      <th>81</th>\n      <td>Trader_140</td>\n      <td>MIX</td>\n    </tr>\n    <tr>\n      <th>82</th>\n      <td>Trader_451</td>\n      <td>MIX</td>\n    </tr>\n    <tr>\n      <th>83</th>\n      <td>Trader_438</td>\n      <td>MIX</td>\n    </tr>\n    <tr>\n      <th>84</th>\n      <td>Trader_278</td>\n      <td>HFT</td>\n    </tr>\n    <tr>\n      <th>85</th>\n      <td>Trader_330</td>\n      <td>MIX</td>\n    </tr>\n  </tbody>\n</table>\n<p>86 rows × 2 columns</p>\n</div>"
     },
     "execution_count": 16,
     "metadata": {},
     "output_type": "execute_result"
    }
   ],
   "source": [
    "y_train"
   ]
  },
  {
   "cell_type": "code",
   "execution_count": 17,
   "metadata": {},
   "outputs": [],
   "source": [
    "name2type = dict(zip(y_train.Trader, y_train.type))"
   ]
  },
  {
   "cell_type": "code",
   "execution_count": 18,
   "metadata": {},
   "outputs": [],
   "source": [
    "x_train = x_train.fillna(-1)"
   ]
  },
  {
   "cell_type": "code",
   "execution_count": 19,
   "metadata": {
    "tags": []
   },
   "outputs": [],
   "source": [
    "x_train['label'] = x_train.apply(lambda row: 0 if name2type[row.Trader] == 'HFT' else (1 if name2type[row.Trader] == 'MIX' else 2), axis=1)"
   ]
  },
  {
   "cell_type": "code",
   "execution_count": 80,
   "metadata": {},
   "outputs": [],
   "source": [
    "y_train_data = x_train['label']\n",
    "y_trader_label= x_train[['Trader', 'label']]"
   ]
  },
  {
   "cell_type": "code",
   "execution_count": 82,
   "metadata": {},
   "outputs": [],
   "source": [
    "# x_train_b, x_test_b, y_train_b, y_test_b = train_test_split(x_train_data, y_train_data, test_size=0.3)\n",
    "\n",
    "x_train_b_, x_test_b_, y_train_b, y_test_b = train_test_split(x_train.drop('label', axis=1), y_train_data, test_size=0.3)\n",
    "x_train_b = x_train_b_.drop('Trader', axis=1)\n",
    "x_test_b = x_test_b_.drop('Trader', axis=1)"
   ]
  },
  {
   "cell_type": "code",
   "execution_count": 82,
   "metadata": {},
   "outputs": [],
   "source": [
    "x_train_data.shape"
   ]
  },
  {
   "cell_type": "code",
   "execution_count": 84,
   "metadata": {},
   "outputs": [],
   "source": [
    "\n",
    "# Instantiate model with 1000 decision trees\n",
    "rf = RandomForestClassifier(n_estimators = 1000, random_state = 42, n_jobs=-1)\n",
    "# Train the model on training data\n",
    "rf.fit(x_train_b, y_train_b)\n",
    "y_test_pred = rf.predict(x_test_b)"
   ]
  },
  {
   "cell_type": "code",
   "execution_count": 119,
   "outputs": [
    {
     "data": {
      "text/plain": "1    51483\n0    31950\n2    22349\nName: label, dtype: int64"
     },
     "execution_count": 119,
     "metadata": {},
     "output_type": "execute_result"
    }
   ],
   "source": [
    "real_type.value_counts()"
   ],
   "metadata": {
    "collapsed": false,
    "pycharm": {
     "name": "#%%\n"
    }
   }
  },
  {
   "cell_type": "code",
   "execution_count": 86,
   "metadata": {},
   "outputs": [
    {
     "name": "stdout",
     "output_type": "stream",
     "text": [
      "0.9800535686150937\n",
      "0.9800535686150937\n"
     ]
    }
   ],
   "source": [
    "print(len(np.where(y_test_pred == y_test_b)[0]) / len(y_test_b))\n",
    "print(metrics.f1_score(\n",
    "        y_test_b, y_test_pred, average=\"micro\"))"
   ]
  },
  {
   "cell_type": "code",
   "execution_count": 105,
   "outputs": [
    {
     "data": {
      "text/plain": "Trader      label\nTrader_209  1        10208\nTrader_161  0         7587\nTrader_386  0         5808\nTrader_430  1         5044\nTrader_431  1         2552\n                     ...  \nTrader_375  2            4\nTrader_149  2            4\nTrader_191  2            4\nTrader_257  2            2\nTrader_425  2            1\nLength: 86, dtype: int64"
     },
     "execution_count": 105,
     "metadata": {},
     "output_type": "execute_result"
    }
   ],
   "source": [
    "y_trader_label.value_counts()"
   ],
   "metadata": {
    "collapsed": false,
    "pycharm": {
     "name": "#%%\n"
    }
   }
  },
  {
   "cell_type": "code",
   "execution_count": 121,
   "outputs": [],
   "source": [
    "final = trans2trader(x_test_b_, y_test_pred)"
   ],
   "metadata": {
    "collapsed": false,
    "pycharm": {
     "name": "#%%\n"
    }
   }
  },
  {
   "cell_type": "code",
   "execution_count": 128,
   "outputs": [],
   "source": [
    "# traders_in_res = y_trader_label.Trader.unique()\n",
    "real_type =y_trader_label.drop_duplicates()\n",
    "# pred_type = pd.DataFrame.from_dict(data=final, orient='index', columns=['type'])['type'].map(type2ind)\n",
    "pred_type = real_type.Trader.map(final).map(type2ind)\n",
    "# pred_type = y_trader_label.Trader.map(final).map(type2ind).values"
   ],
   "metadata": {
    "collapsed": false,
    "pycharm": {
     "name": "#%%\n"
    }
   }
  },
  {
   "cell_type": "code",
   "execution_count": 130,
   "outputs": [
    {
     "data": {
      "text/plain": "Counter({2.0: 48, 1.0: 23, 0.0: 13, nan: 1, nan: 1})"
     },
     "execution_count": 130,
     "metadata": {},
     "output_type": "execute_result"
    }
   ],
   "source": [
    "Counter(pred_type)"
   ],
   "metadata": {
    "collapsed": false,
    "pycharm": {
     "name": "#%%\n"
    }
   }
  },
  {
   "cell_type": "code",
   "execution_count": 132,
   "outputs": [
    {
     "name": "stdout",
     "output_type": "stream",
     "text": [
      "0.9418604651162791\n"
     ]
    }
   ],
   "source": [
    "print(metrics.f1_score(\n",
    "        real_type.label, pred_type.fillna(0), average=\"micro\"))"
   ],
   "metadata": {
    "collapsed": false,
    "pycharm": {
     "name": "#%%\n"
    }
   }
  },
  {
   "cell_type": "code",
   "execution_count": 30,
   "metadata": {},
   "outputs": [],
   "source": [
    "final = {}\n",
    "for k,v in dicts.items():\n",
    "    if len(np.where(np.array(v) == 0)[0])/len(v) > 0.85:\n",
    "        final[k] = 'HFT'\n",
    "    elif len(np.where(np.array(v) == 1)[0])/len(v) > 0.5:\n",
    "        final[k] = 'MIX'\n",
    "    else:\n",
    "        final[k] = 'NON HFT'"
   ]
  },
  {
   "cell_type": "code",
   "execution_count": 133,
   "outputs": [],
   "source": [
    "x_real_test = read_x_train('data/AMF_test_X.csv', includeShare=True, includeDay=True)\n",
    "x_real_test = fill_nan(x_real_test)\n",
    "\n"
   ],
   "metadata": {
    "collapsed": false,
    "pycharm": {
     "name": "#%%\n"
    }
   }
  },
  {
   "cell_type": "code",
   "execution_count": 135,
   "metadata": {},
   "outputs": [],
   "source": [
    "x_real_test_data = np.array(x_real_test.drop('Trader', axis=1))"
   ]
  },
  {
   "cell_type": "code",
   "execution_count": 136,
   "outputs": [],
   "source": [
    "# x_real_test_data['label'] = x_real_test_data.apply(lambda row: 0 if name2type[row.Trader] == 'HFT' else (1 if name2type[row.Trader] == 'MIX' else 2), axis=1)"
   ],
   "metadata": {
    "collapsed": false,
    "pycharm": {
     "name": "#%%\n"
    }
   }
  },
  {
   "cell_type": "code",
   "execution_count": 137,
   "metadata": {},
   "outputs": [],
   "source": [
    "y_test_predict = rf.predict(x_real_test_data)"
   ]
  },
  {
   "cell_type": "code",
   "execution_count": 138,
   "metadata": {},
   "outputs": [
    {
     "data": {
      "text/plain": "(85304, 37)"
     },
     "execution_count": 138,
     "metadata": {},
     "output_type": "execute_result"
    }
   ],
   "source": [
    "x_real_test_data.shape"
   ]
  },
  {
   "cell_type": "code",
   "execution_count": 139,
   "metadata": {},
   "outputs": [
    {
     "data": {
      "text/plain": "array([2, 2, 2, ..., 1, 1, 1], dtype=int64)"
     },
     "execution_count": 139,
     "metadata": {},
     "output_type": "execute_result"
    }
   ],
   "source": [
    "y_test_predict"
   ]
  },
  {
   "cell_type": "code",
   "execution_count": 141,
   "outputs": [],
   "source": [
    "final = trans2trader(x_real_test, y_test_predict)"
   ],
   "metadata": {
    "collapsed": false,
    "pycharm": {
     "name": "#%%\n"
    }
   }
  },
  {
   "cell_type": "code",
   "execution_count": 142,
   "metadata": {},
   "outputs": [],
   "source": [
    "from collections import Counter, defaultdict\n",
    "ratio_dict={}\n",
    "for trader in dicts:\n",
    "    _c = dict(Counter(dicts[trader]))\n",
    "    _sum = sum(_c.values())\n",
    "    _defdict = defaultdict(lambda: 0)\n",
    "    for _type in _c:\n",
    "        _defdict[_type] = _c[_type] / _sum\n",
    "    ratio_dict[trader] = _defdict\n"
   ]
  },
  {
   "cell_type": "code",
   "execution_count": 145,
   "metadata": {
    "pycharm": {
     "name": "#%%\n"
    }
   },
   "outputs": [],
   "source": [
    "res_df = pd.DataFrame.from_dict(data=final, orient='index', columns=['type'])\n",
    "res_df['Trader'] = res_df.index\n",
    "res_df[['Trader', 'type']].set_index('Trader').to_csv('dict_file.csv')"
   ]
  }
 ]
}