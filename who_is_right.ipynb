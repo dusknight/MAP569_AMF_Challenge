{
 "metadata": {
  "language_info": {
   "codemirror_mode": {
    "name": "ipython",
    "version": 3
   },
   "file_extension": ".py",
   "mimetype": "text/x-python",
   "name": "python",
   "nbconvert_exporter": "python",
   "pygments_lexer": "ipython3",
   "version": "3.8.3-final"
  },
  "orig_nbformat": 2,
  "kernelspec": {
   "name": "python3",
   "display_name": "Python 3",
   "language": "python"
  }
 },
 "nbformat": 4,
 "nbformat_minor": 2,
 "cells": [
  {
   "cell_type": "code",
   "execution_count": 1,
   "metadata": {},
   "outputs": [],
   "source": [
    "import pandas as pd\n",
    "import numpy as np\n",
    "result_path = 'result/'\n",
    "file_names = ['DL-0.9.csv', 'DLmaxpooling-0.9.csv', 'DLmultihead-0.9.csv', 'Human-0.9.csv', 'Agmt-0.9.csv', 'Trans-0.9.csv', 'RF-0.92.csv'] "
   ]
  },
  {
   "cell_type": "code",
   "execution_count": 2,
   "metadata": {},
   "outputs": [],
   "source": [
    "dfs = [pd.read_csv(result_path+file_name) for file_name in file_names]\n"
   ]
  },
  {
   "cell_type": "code",
   "execution_count": 3,
   "metadata": {},
   "outputs": [],
   "source": [
    "trader_types = [dict(zip(df['Trader'], df['type'])) for df in dfs]"
   ]
  },
  {
   "cell_type": "code",
   "execution_count": 4,
   "metadata": {},
   "outputs": [],
   "source": [
    "good = [] # Well classified (maybe)\n",
    "bad = [] # Bad classified\n",
    "for key in trader_types[0].keys():\n",
    "    if len(list(set([d[key] for d in trader_types]))) == 1:\n",
    "        good.append(key)\n",
    "    else:\n",
    "        bad.append(key)\n",
    "\n"
   ]
  },
  {
   "cell_type": "code",
   "execution_count": 5,
   "metadata": {},
   "outputs": [
    {
     "output_type": "stream",
     "name": "stdout",
     "text": [
      "['Adelaide', 'Alana', 'Alcmene', 'Alice', 'Alices Sister', 'Angel (Experiment 624)', 'Arthur/Wart', 'Backwoods Beagle', 'Bacon Beagle', 'Baileywick', 'Bat Queen', 'Becky', 'Bent-Tail the Coyote', 'Big Al', 'Big Mama', 'Bill Green', 'Black Bart', 'Bobble', 'Boomer', 'Brer Bear', 'Bruno the Dog', 'Buck Leatherleaf', 'Bucky Oryx-Antlerson', 'Butcher Boy', 'Dallben', 'Danny', 'Dennis Avarius', 'Digger the Mole', 'Dijon the Thief', 'Doug Dalmatian', 'Dr. Joshua Sweet', 'Dr. Teeth', 'Duchess', 'Duke of Weselton', 'Dylan Dalmatian', 'Edric Blight', 'Elliott', 'Emperor Belos', 'Evinrude', 'Fidget', 'Flora', 'Friend Owl', 'Madame Medusa', 'Maddie Flour', 'Major the Horse', 'Marlon the Alligator', 'Mattholomule', 'Megavolt', 'Melpomene', 'Merlock the Magician', 'Miss Bianca', 'Miss Nettle', 'Moana', 'Morgana', 'The Doorman', 'The Magic Mirror']\n"
     ]
    }
   ],
   "source": [
    "print(good)"
   ]
  },
  {
   "cell_type": "code",
   "execution_count": 6,
   "metadata": {},
   "outputs": [
    {
     "output_type": "stream",
     "name": "stdout",
     "text": [
      "['Annette', 'Armoire', 'Axe', 'Baby Red Bird', 'Bomber Beagle', 'Bookseller', 'Bowler Hat Guy', 'Braddock', 'Brudo Avarius', 'Butch the Bulldog', 'Don Karnage', 'Donald Duck', 'Dr. Delbert Doppler', 'Dr. Facilier', 'Fairy Mary', 'Flash', 'Flounder', 'Flunkey the Baboon', 'Francis', 'Mad Hatter', 'Magic Carpet', 'Marahute', 'March Hare', 'Mary Darling', 'Maui', 'Max the Sheepdog', 'Mike the Microphone', 'Monstro', 'The Doorknob']\n"
     ]
    }
   ],
   "source": [
    "print(bad)"
   ]
  },
  {
   "cell_type": "code",
   "execution_count": 7,
   "metadata": {},
   "outputs": [],
   "source": [
    "bad_types = dict([(trader, [type_dict[trader] for type_dict in trader_types]) for trader in bad])"
   ]
  },
  {
   "cell_type": "code",
   "execution_count": 10,
   "metadata": {},
   "outputs": [
    {
     "output_type": "execute_result",
     "data": {
      "text/plain": [
       "{'Annette': ['NON HFT', 'MIX', 'MIX', 'MIX', 'MIX', 'MIX', 'MIX'],\n",
       " 'Armoire': ['MIX', 'MIX', 'MIX', 'MIX', 'NON HFT', 'MIX', 'MIX'],\n",
       " 'Axe': ['HFT', 'MIX', 'NON HFT', 'HFT', 'NON HFT', 'MIX', 'MIX'],\n",
       " 'Baby Red Bird': ['MIX', 'MIX', 'NON HFT', 'MIX', 'MIX', 'MIX', 'MIX'],\n",
       " 'Bomber Beagle': ['NON HFT',\n",
       "  'NON HFT',\n",
       "  'MIX',\n",
       "  'NON HFT',\n",
       "  'NON HFT',\n",
       "  'NON HFT',\n",
       "  'NON HFT'],\n",
       " 'Bookseller': ['HFT',\n",
       "  'NON HFT',\n",
       "  'HFT',\n",
       "  'NON HFT',\n",
       "  'HFT',\n",
       "  'NON HFT',\n",
       "  'NON HFT'],\n",
       " 'Bowler Hat Guy': ['MIX', 'MIX', 'MIX', 'MIX', 'MIX', 'NON HFT', 'NON HFT'],\n",
       " 'Braddock': ['HFT',\n",
       "  'NON HFT',\n",
       "  'NON HFT',\n",
       "  'NON HFT',\n",
       "  'NON HFT',\n",
       "  'NON HFT',\n",
       "  'NON HFT'],\n",
       " 'Brudo Avarius': ['NON HFT', 'HFT', 'HFT', 'HFT', 'HFT', 'HFT', 'HFT'],\n",
       " 'Butch the Bulldog': ['NON HFT', 'MIX', 'MIX', 'MIX', 'MIX', 'MIX', 'MIX'],\n",
       " 'Don Karnage': ['NON HFT',\n",
       "  'HFT',\n",
       "  'NON HFT',\n",
       "  'NON HFT',\n",
       "  'NON HFT',\n",
       "  'HFT',\n",
       "  'HFT'],\n",
       " 'Donald Duck': ['HFT', 'HFT', 'NON HFT', 'HFT', 'HFT', 'MIX', 'HFT'],\n",
       " 'Dr. Delbert Doppler': ['HFT',\n",
       "  'NON HFT',\n",
       "  'NON HFT',\n",
       "  'NON HFT',\n",
       "  'NON HFT',\n",
       "  'NON HFT',\n",
       "  'NON HFT'],\n",
       " 'Dr. Facilier': ['MIX', 'MIX', 'MIX', 'MIX', 'MIX', 'NON HFT', 'MIX'],\n",
       " 'Fairy Mary': ['NON HFT',\n",
       "  'HFT',\n",
       "  'NON HFT',\n",
       "  'NON HFT',\n",
       "  'NON HFT',\n",
       "  'NON HFT',\n",
       "  'NON HFT'],\n",
       " 'Flash': ['NON HFT', 'MIX', 'NON HFT', 'NON MIX', 'NON HFT', 'MIX', 'MIX'],\n",
       " 'Flounder': ['MIX', 'NON HFT', 'MIX', 'MIX', 'MIX', 'MIX', 'MIX'],\n",
       " 'Flunkey the Baboon': ['HFT',\n",
       "  'NON HFT',\n",
       "  'NON HFT',\n",
       "  'NON HFT',\n",
       "  'NON HFT',\n",
       "  'NON HFT',\n",
       "  'NON HFT'],\n",
       " 'Francis': ['MIX', 'MIX', 'NON HFT', 'MIX', 'MIX', 'MIX', 'HFT'],\n",
       " 'Mad Hatter': ['NON HFT',\n",
       "  'HFT',\n",
       "  'NON HFT',\n",
       "  'NON HFT',\n",
       "  'NON HFT',\n",
       "  'NON HFT',\n",
       "  'NON HFT'],\n",
       " 'Magic Carpet': ['NON HFT',\n",
       "  'NON HFT',\n",
       "  'NON HFT',\n",
       "  'NON HFT',\n",
       "  'NON HFT',\n",
       "  'MIX',\n",
       "  'NON HFT'],\n",
       " 'Marahute': ['NON HFT', 'HFT', 'HFT', 'HFT', 'HFT', 'HFT', 'HFT'],\n",
       " 'March Hare': ['MIX',\n",
       "  'NON HFT',\n",
       "  'NON HFT',\n",
       "  'NON HFT',\n",
       "  'NON HFT',\n",
       "  'NON HFT',\n",
       "  'NON HFT'],\n",
       " 'Mary Darling': ['NON HFT',\n",
       "  'HFT',\n",
       "  'NON HFT',\n",
       "  'NON HFT',\n",
       "  'NON HFT',\n",
       "  'NON HFT',\n",
       "  'NON HFT'],\n",
       " 'Maui': ['MIX', 'NON HFT', 'HFT', 'MIX', 'NON HFT', 'NON HFT', 'HFT'],\n",
       " 'Max the Sheepdog': ['NON HFT',\n",
       "  'NON HFT',\n",
       "  'MIX',\n",
       "  'NON HFT',\n",
       "  'MIX',\n",
       "  'MIX',\n",
       "  'MIX'],\n",
       " 'Mike the Microphone': ['HFT',\n",
       "  'MIX',\n",
       "  'HFT',\n",
       "  'HFT',\n",
       "  'NON HFT',\n",
       "  'MIX',\n",
       "  'NON HFT'],\n",
       " 'Monstro': ['MIX', 'HFT', 'NON HFT', 'NON HFT', 'NON HFT', 'MIX', 'MIX'],\n",
       " 'The Doorknob': ['HFT', 'NON HFT', 'HFT', 'HFT', 'HFT', 'MIX', 'HFT']}"
      ]
     },
     "metadata": {},
     "execution_count": 10
    }
   ],
   "source": [
    "bad_types"
   ]
  },
  {
   "cell_type": "code",
   "execution_count": null,
   "metadata": {},
   "outputs": [],
   "source": []
  }
 ]
}