{
 "metadata": {
  "language_info": {
   "codemirror_mode": {
    "name": "ipython",
    "version": 3
   },
   "file_extension": ".py",
   "mimetype": "text/x-python",
   "name": "python",
   "nbconvert_exporter": "python",
   "pygments_lexer": "ipython3",
   "version": "3.8.3-final"
  },
  "orig_nbformat": 2,
  "kernelspec": {
   "name": "python3",
   "display_name": "Python 3",
   "language": "python"
  }
 },
 "nbformat": 4,
 "nbformat_minor": 2,
 "cells": [
  {
   "cell_type": "code",
   "execution_count": 2,
   "metadata": {},
   "outputs": [],
   "source": [
    "import pandas as pd\n",
    "import numpy as np\n",
    "result_path = 'result/'\n",
    "file_names = ['DL-0.9.csv', 'DLmaxpooling-0.9.csv', 'DLmultihead-0.9.csv', 'RF-0.92.csv'] "
   ]
  },
  {
   "cell_type": "code",
   "execution_count": 3,
   "metadata": {},
   "outputs": [],
   "source": [
    "dfs = [pd.read_csv(result_path+file_name) for file_name in file_names]\n"
   ]
  },
  {
   "cell_type": "code",
   "execution_count": 5,
   "metadata": {},
   "outputs": [],
   "source": [
    "trader_types = [dict(zip(df['Trader'], df['type'])) for df in dfs]"
   ]
  },
  {
   "cell_type": "code",
   "execution_count": 13,
   "metadata": {},
   "outputs": [],
   "source": [
    "good = [] # Well classified (maybe)\n",
    "bad = [] # Bad classified\n",
    "for key in trader_types[0].keys():\n",
    "    if len(list(set([d[key] for d in trader_types]))) == 1:\n",
    "        good.append(key)\n",
    "    else:\n",
    "        bad.append(key)\n",
    "\n"
   ]
  },
  {
   "cell_type": "code",
   "execution_count": 15,
   "metadata": {},
   "outputs": [
    {
     "output_type": "stream",
     "name": "stdout",
     "text": [
      "['Adelaide', 'Alana', 'Alcmene', 'Alice', 'Alices Sister', 'Angel (Experiment 624)', 'Armoire', 'Arthur/Wart', 'Backwoods Beagle', 'Bacon Beagle', 'Baileywick', 'Bat Queen', 'Becky', 'Bent-Tail the Coyote', 'Big Al', 'Big Mama', 'Bill Green', 'Black Bart', 'Bobble', 'Boomer', 'Brer Bear', 'Bruno the Dog', 'Buck Leatherleaf', 'Bucky Oryx-Antlerson', 'Butcher Boy', 'Dallben', 'Danny', 'Dennis Avarius', 'Digger the Mole', 'Dijon the Thief', 'Doug Dalmatian', 'Dr. Facilier', 'Dr. Joshua Sweet', 'Dr. Teeth', 'Duchess', 'Duke of Weselton', 'Dylan Dalmatian', 'Edric Blight', 'Elliott', 'Emperor Belos', 'Evinrude', 'Fidget', 'Flora', 'Friend Owl', 'Madame Medusa', 'Maddie Flour', 'Magic Carpet', 'Major the Horse', 'Marlon the Alligator', 'Mattholomule', 'Megavolt', 'Melpomene', 'Merlock the Magician', 'Miss Bianca', 'Miss Nettle', 'Moana', 'Morgana', 'The Doorman', 'The Magic Mirror']\n"
     ]
    }
   ],
   "source": [
    "print(good)"
   ]
  },
  {
   "cell_type": "code",
   "execution_count": 16,
   "metadata": {},
   "outputs": [
    {
     "output_type": "stream",
     "name": "stdout",
     "text": [
      "['Annette', 'Axe', 'Baby Red Bird', 'Bomber Beagle', 'Bookseller', 'Bowler Hat Guy', 'Braddock', 'Brudo Avarius', 'Butch the Bulldog', 'Don Karnage', 'Donald Duck', 'Dr. Delbert Doppler', 'Fairy Mary', 'Flash', 'Flounder', 'Flunkey the Baboon', 'Francis', 'Mad Hatter', 'Marahute', 'March Hare', 'Mary Darling', 'Maui', 'Max the Sheepdog', 'Mike the Microphone', 'Monstro', 'The Doorknob']\n"
     ]
    }
   ],
   "source": [
    "print(bad)"
   ]
  },
  {
   "cell_type": "code",
   "execution_count": 17,
   "metadata": {},
   "outputs": [],
   "source": [
    "bad_types = dict([(trader, [type_dict[trader] for type_dict in trader_types]) for trader in bad])"
   ]
  },
  {
   "cell_type": "code",
   "execution_count": 18,
   "metadata": {},
   "outputs": [
    {
     "output_type": "execute_result",
     "data": {
      "text/plain": [
       "{'Annette': ['NON HFT', 'MIX', 'MIX', 'MIX'],\n",
       " 'Axe': ['HFT', 'MIX', 'NON HFT', 'MIX'],\n",
       " 'Baby Red Bird': ['MIX', 'MIX', 'NON HFT', 'MIX'],\n",
       " 'Bomber Beagle': ['NON HFT', 'NON HFT', 'MIX', 'NON HFT'],\n",
       " 'Bookseller': ['HFT', 'NON HFT', 'HFT', 'NON HFT'],\n",
       " 'Bowler Hat Guy': ['MIX', 'MIX', 'MIX', 'NON HFT'],\n",
       " 'Braddock': ['HFT', 'NON HFT', 'NON HFT', 'NON HFT'],\n",
       " 'Brudo Avarius': ['NON HFT', 'HFT', 'HFT', 'HFT'],\n",
       " 'Butch the Bulldog': ['NON HFT', 'MIX', 'MIX', 'MIX'],\n",
       " 'Don Karnage': ['NON HFT', 'HFT', 'NON HFT', 'HFT'],\n",
       " 'Donald Duck': ['HFT', 'HFT', 'NON HFT', 'HFT'],\n",
       " 'Dr. Delbert Doppler': ['HFT', 'NON HFT', 'NON HFT', 'NON HFT'],\n",
       " 'Fairy Mary': ['NON HFT', 'HFT', 'NON HFT', 'NON HFT'],\n",
       " 'Flash': ['NON HFT', 'MIX', 'NON HFT', 'MIX'],\n",
       " 'Flounder': ['MIX', 'NON HFT', 'MIX', 'MIX'],\n",
       " 'Flunkey the Baboon': ['HFT', 'NON HFT', 'NON HFT', 'NON HFT'],\n",
       " 'Francis': ['MIX', 'MIX', 'NON HFT', 'HFT'],\n",
       " 'Mad Hatter': ['NON HFT', 'HFT', 'NON HFT', 'NON HFT'],\n",
       " 'Marahute': ['NON HFT', 'HFT', 'HFT', 'HFT'],\n",
       " 'March Hare': ['MIX', 'NON HFT', 'NON HFT', 'NON HFT'],\n",
       " 'Mary Darling': ['NON HFT', 'HFT', 'NON HFT', 'NON HFT'],\n",
       " 'Maui': ['MIX', 'NON HFT', 'HFT', 'HFT'],\n",
       " 'Max the Sheepdog': ['NON HFT', 'NON HFT', 'MIX', 'MIX'],\n",
       " 'Mike the Microphone': ['HFT', 'MIX', 'HFT', 'NON HFT'],\n",
       " 'Monstro': ['MIX', 'HFT', 'NON HFT', 'MIX'],\n",
       " 'The Doorknob': ['HFT', 'NON HFT', 'HFT', 'HFT']}"
      ]
     },
     "metadata": {},
     "execution_count": 18
    }
   ],
   "source": [
    "bad_types"
   ]
  },
  {
   "cell_type": "code",
   "execution_count": null,
   "metadata": {},
   "outputs": [],
   "source": []
  }
 ]
}