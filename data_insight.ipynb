{
 "metadata": {
  "language_info": {
   "codemirror_mode": {
    "name": "ipython",
    "version": 3
   },
   "file_extension": ".py",
   "mimetype": "text/x-python",
   "name": "python",
   "nbconvert_exporter": "python",
   "pygments_lexer": "ipython3",
   "version": "3.8.6-final"
  },
  "orig_nbformat": 2,
  "kernelspec": {
   "name": "python3",
   "display_name": "Python 3.8.6 64-bit ('inf581': conda)",
   "metadata": {
    "interpreter": {
     "hash": "65b4a03f8aa35aea76f25802c7b784787b9f74c4de9d71db05e90a9868d81373"
    }
   }
  }
 },
 "nbformat": 4,
 "nbformat_minor": 2,
 "cells": [
  {
   "cell_type": "code",
   "execution_count": 12,
   "metadata": {},
   "outputs": [],
   "source": [
    "import pandas as pd\n",
    "import numpy as np"
   ]
  },
  {
   "cell_type": "code",
   "execution_count": 44,
   "metadata": {},
   "outputs": [],
   "source": [
    "y_train = pd.read_csv('data/AMF_train_Y.csv')"
   ]
  },
  {
   "cell_type": "code",
   "execution_count": 3,
   "metadata": {},
   "outputs": [],
   "source": [
    "from helper import read_x_train, fill_nan\n",
    "x_train = read_x_train('data/AMF_train_X.csv', includeShare=True, includeDay=True)"
   ]
  },
  {
   "cell_type": "code",
   "execution_count": 56,
   "metadata": {},
   "outputs": [
    {
     "output_type": "execute_result",
     "data": {
      "text/plain": [
       "        Trader     type\n",
       "0   Trader_285      MIX\n",
       "1   Trader_114  NON HFT\n",
       "2   Trader_110  NON HFT\n",
       "3    Trader_57  NON HFT\n",
       "4   Trader_128  NON HFT\n",
       "..         ...      ...\n",
       "81  Trader_140      MIX\n",
       "82  Trader_451      MIX\n",
       "83  Trader_438      MIX\n",
       "84  Trader_278      HFT\n",
       "85  Trader_330      MIX\n",
       "\n",
       "[86 rows x 2 columns]"
      ],
      "text/html": "<div>\n<style scoped>\n    .dataframe tbody tr th:only-of-type {\n        vertical-align: middle;\n    }\n\n    .dataframe tbody tr th {\n        vertical-align: top;\n    }\n\n    .dataframe thead th {\n        text-align: right;\n    }\n</style>\n<table border=\"1\" class=\"dataframe\">\n  <thead>\n    <tr style=\"text-align: right;\">\n      <th></th>\n      <th>Trader</th>\n      <th>type</th>\n    </tr>\n  </thead>\n  <tbody>\n    <tr>\n      <th>0</th>\n      <td>Trader_285</td>\n      <td>MIX</td>\n    </tr>\n    <tr>\n      <th>1</th>\n      <td>Trader_114</td>\n      <td>NON HFT</td>\n    </tr>\n    <tr>\n      <th>2</th>\n      <td>Trader_110</td>\n      <td>NON HFT</td>\n    </tr>\n    <tr>\n      <th>3</th>\n      <td>Trader_57</td>\n      <td>NON HFT</td>\n    </tr>\n    <tr>\n      <th>4</th>\n      <td>Trader_128</td>\n      <td>NON HFT</td>\n    </tr>\n    <tr>\n      <th>...</th>\n      <td>...</td>\n      <td>...</td>\n    </tr>\n    <tr>\n      <th>81</th>\n      <td>Trader_140</td>\n      <td>MIX</td>\n    </tr>\n    <tr>\n      <th>82</th>\n      <td>Trader_451</td>\n      <td>MIX</td>\n    </tr>\n    <tr>\n      <th>83</th>\n      <td>Trader_438</td>\n      <td>MIX</td>\n    </tr>\n    <tr>\n      <th>84</th>\n      <td>Trader_278</td>\n      <td>HFT</td>\n    </tr>\n    <tr>\n      <th>85</th>\n      <td>Trader_330</td>\n      <td>MIX</td>\n    </tr>\n  </tbody>\n</table>\n<p>86 rows × 2 columns</p>\n</div>"
     },
     "metadata": {},
     "execution_count": 56
    }
   ],
   "source": [
    "y_train"
   ]
  },
  {
   "cell_type": "code",
   "execution_count": 57,
   "metadata": {},
   "outputs": [],
   "source": [
    "n_rows, n_cols = x_train.shape"
   ]
  },
  {
   "cell_type": "code",
   "execution_count": 70,
   "metadata": {},
   "outputs": [
    {
     "output_type": "execute_result",
     "data": {
      "text/plain": [
       "array([[[1],\n",
       "        [2]]])"
      ]
     },
     "metadata": {},
     "execution_count": 70
    }
   ],
   "source": [
    "np.array([[[1], [2]]])"
   ]
  },
  {
   "cell_type": "code",
   "execution_count": 23,
   "metadata": {},
   "outputs": [],
   "source": [
    "trader_list = x_train['Trader'].unique()\n",
    "trader_list.sort()"
   ]
  },
  {
   "cell_type": "code",
   "execution_count": 47,
   "metadata": {},
   "outputs": [
    {
     "output_type": "execute_result",
     "data": {
      "text/plain": [
       "array(['Trader_10', 'Trader_105', 'Trader_107', 'Trader_110',\n",
       "       'Trader_114', 'Trader_120', 'Trader_127', 'Trader_128',\n",
       "       'Trader_132', 'Trader_136', 'Trader_140', 'Trader_149',\n",
       "       'Trader_150', 'Trader_155', 'Trader_158', 'Trader_16',\n",
       "       'Trader_161', 'Trader_164', 'Trader_169', 'Trader_172',\n",
       "       'Trader_177', 'Trader_178', 'Trader_179', 'Trader_184',\n",
       "       'Trader_191', 'Trader_195', 'Trader_205', 'Trader_208',\n",
       "       'Trader_209', 'Trader_221', 'Trader_222', 'Trader_226',\n",
       "       'Trader_233', 'Trader_237', 'Trader_241', 'Trader_244',\n",
       "       'Trader_245', 'Trader_255', 'Trader_256', 'Trader_257',\n",
       "       'Trader_26', 'Trader_264', 'Trader_275', 'Trader_278',\n",
       "       'Trader_279', 'Trader_280', 'Trader_285', 'Trader_288',\n",
       "       'Trader_293', 'Trader_310', 'Trader_312', 'Trader_328',\n",
       "       'Trader_329', 'Trader_330', 'Trader_338', 'Trader_340',\n",
       "       'Trader_341', 'Trader_35', 'Trader_358', 'Trader_375', 'Trader_38',\n",
       "       'Trader_380', 'Trader_385', 'Trader_386', 'Trader_395',\n",
       "       'Trader_398', 'Trader_40', 'Trader_41', 'Trader_422', 'Trader_424',\n",
       "       'Trader_425', 'Trader_430', 'Trader_431', 'Trader_435',\n",
       "       'Trader_438', 'Trader_442', 'Trader_446', 'Trader_451',\n",
       "       'Trader_453', 'Trader_46', 'Trader_461', 'Trader_51', 'Trader_54',\n",
       "       'Trader_57', 'Trader_59', 'Trader_60'], dtype=object)"
      ]
     },
     "metadata": {},
     "execution_count": 47
    }
   ],
   "source": [
    "trader_list"
   ]
  },
  {
   "cell_type": "code",
   "execution_count": 92,
   "metadata": {},
   "outputs": [],
   "source": [
    "a =[np.array(x_train[x_train['Trader'] == trader].sort_values(\n",
    "        by=['Day']).drop(['Trader'], axis=1).values.tolist()).reshape(-1,37).flatten().reshape(1,-1) for trader in trader_list]"
   ]
  },
  {
   "cell_type": "code",
   "execution_count": 98,
   "metadata": {},
   "outputs": [
    {
     "output_type": "execute_result",
     "data": {
      "text/plain": [
       "(1, 67932)"
      ]
     },
     "metadata": {},
     "execution_count": 98
    }
   ],
   "source": [
    "a[2].shape"
   ]
  },
  {
   "cell_type": "code",
   "execution_count": 42,
   "metadata": {},
   "outputs": [
    {
     "output_type": "stream",
     "name": "stdout",
     "text": [
      "(77, 37)\n(77, 37)\n(77, 37)\n(77, 37)\n(77, 37)\n(77, 37)\n(77, 37)\n(77, 37)\n(77, 37)\n(77, 37)\n(77, 37)\n(77, 37)\n(77, 37)\n(77, 37)\n(77, 37)\n(77, 37)\n(77, 37)\n(77, 37)\n(77, 37)\n(77, 37)\n(77, 37)\n(77, 37)\n(77, 37)\n(77, 37)\n(77, 37)\n(77, 37)\n(77, 37)\n(77, 37)\n(77, 37)\n(77, 37)\n(77, 37)\n(77, 37)\n(77, 37)\n(77, 37)\n(77, 37)\n(77, 37)\n(77, 37)\n(77, 37)\n(77, 37)\n(77, 37)\n(77, 37)\n(77, 37)\n(77, 37)\n(77, 37)\n(77, 37)\n(77, 37)\n(77, 37)\n(77, 37)\n(77, 37)\n(77, 37)\n(77, 37)\n(77, 37)\n(77, 37)\n(77, 37)\n(77, 37)\n(77, 37)\n(77, 37)\n(77, 37)\n(77, 37)\n(77, 37)\n(77, 37)\n(77, 37)\n(77, 37)\n(77, 37)\n(77, 37)\n(77, 37)\n(77, 37)\n(77, 37)\n(77, 37)\n(77, 37)\n(77, 37)\n(77, 37)\n(77, 37)\n(77, 37)\n(77, 37)\n(77, 37)\n(77, 37)\n(77, 37)\n(77, 37)\n(77, 37)\n(77, 37)\n(77, 37)\n(77, 37)\n(77, 37)\n(77, 37)\n(77, 37)\n"
     ]
    }
   ],
   "source": [
    "for data in trader_data:\n",
    "    print(data.shape)"
   ]
  },
  {
   "cell_type": "code",
   "execution_count": 52,
   "metadata": {},
   "outputs": [
    {
     "output_type": "execute_result",
     "data": {
      "text/plain": [
       "[[0, 0, 1],\n",
       " [0, 0, 1],\n",
       " [0, 1, 0],\n",
       " [0, 0, 1],\n",
       " [0, 0, 1],\n",
       " [1, 0, 0],\n",
       " [0, 0, 1],\n",
       " [0, 0, 1],\n",
       " [1, 0, 0],\n",
       " [1, 0, 0],\n",
       " [0, 1, 0],\n",
       " [0, 0, 1],\n",
       " [0, 0, 1],\n",
       " [0, 0, 1],\n",
       " [0, 0, 1],\n",
       " [0, 0, 1],\n",
       " [1, 0, 0],\n",
       " [0, 1, 0],\n",
       " [0, 0, 1],\n",
       " [0, 1, 0],\n",
       " [0, 0, 1],\n",
       " [0, 0, 1],\n",
       " [0, 0, 1],\n",
       " [0, 0, 1],\n",
       " [0, 0, 1],\n",
       " [0, 0, 1],\n",
       " [0, 1, 0],\n",
       " [0, 0, 1],\n",
       " [0, 1, 0],\n",
       " [0, 0, 1],\n",
       " [0, 0, 1],\n",
       " [1, 0, 0],\n",
       " [0, 1, 0],\n",
       " [0, 0, 1],\n",
       " [0, 1, 0],\n",
       " [1, 0, 0],\n",
       " [0, 1, 0],\n",
       " [0, 0, 1],\n",
       " [0, 0, 1],\n",
       " [0, 0, 1],\n",
       " [0, 1, 0],\n",
       " [0, 1, 0],\n",
       " [0, 0, 1],\n",
       " [1, 0, 0],\n",
       " [0, 0, 1],\n",
       " [0, 0, 1],\n",
       " [0, 1, 0],\n",
       " [0, 0, 1],\n",
       " [0, 0, 1],\n",
       " [0, 1, 0],\n",
       " [0, 0, 1],\n",
       " [1, 0, 0],\n",
       " [0, 1, 0],\n",
       " [0, 1, 0],\n",
       " [0, 1, 0],\n",
       " [0, 0, 1],\n",
       " [1, 0, 0],\n",
       " [1, 0, 0],\n",
       " [0, 1, 0],\n",
       " [0, 0, 1],\n",
       " [0, 1, 0],\n",
       " [0, 0, 1],\n",
       " [1, 0, 0],\n",
       " [1, 0, 0],\n",
       " [0, 1, 0],\n",
       " [0, 0, 1],\n",
       " [1, 0, 0],\n",
       " [0, 0, 1],\n",
       " [1, 0, 0],\n",
       " [0, 0, 1],\n",
       " [0, 0, 1],\n",
       " [0, 1, 0],\n",
       " [0, 1, 0],\n",
       " [0, 0, 1],\n",
       " [0, 1, 0],\n",
       " [0, 0, 1],\n",
       " [0, 0, 1],\n",
       " [0, 1, 0],\n",
       " [1, 0, 0],\n",
       " [0, 0, 1],\n",
       " [0, 1, 0],\n",
       " [0, 0, 1],\n",
       " [0, 0, 1],\n",
       " [0, 0, 1],\n",
       " [0, 0, 1],\n",
       " [0, 0, 1]]"
      ]
     },
     "metadata": {},
     "execution_count": 52
    }
   ],
   "source": [
    "list(y_train.sort_values(by=['Trader'])['type'].apply(lambda x: [1, 0, 0] if x=='HFT' else ([0, 1, 0] if x=='MIX' else [0, 0, 1])))"
   ]
  },
  {
   "cell_type": "code",
   "execution_count": 95,
   "metadata": {},
   "outputs": [],
   "source": [
    "a = np.vstack(x_train.groupby(['Trader', 'Day']).apply(np.array))"
   ]
  },
  {
   "cell_type": "code",
   "execution_count": 100,
   "metadata": {},
   "outputs": [
    {
     "output_type": "execute_result",
     "data": {
      "text/plain": [
       "array([8, 2, 'Trader_10', 1.326086956521739, 30.5, 30.5, 0.0,\n",
       "       101.49396872997386, 0.0, 0.0, 0.0, 0.000711, 207.46196, 1404.7513,\n",
       "       3.745041, 704.2481918334961, 3.745041, 3.745041, 3.745041,\n",
       "       1404.7513, 1404.7513, 1404.7513, 1, 12, 4.6, 0.000307,\n",
       "       2332.9639597692303, 1207.43965, nan, nan, nan, nan, nan, nan, nan,\n",
       "       nan, nan, 10], dtype=object)"
      ]
     },
     "metadata": {},
     "execution_count": 100
    }
   ],
   "source": [
    "a[0]"
   ]
  },
  {
   "cell_type": "code",
   "execution_count": 99,
   "metadata": {},
   "outputs": [
    {
     "output_type": "execute_result",
     "data": {
      "text/plain": [
       "(1, 1, 1)"
      ]
     },
     "metadata": {},
     "execution_count": 99
    }
   ],
   "source": [
    "b.shape"
   ]
  },
  {
   "cell_type": "code",
   "execution_count": 41,
   "metadata": {},
   "outputs": [],
   "source": [
    "x_train_data = np.array(x_train.drop(['Trader'], axis = 1))"
   ]
  },
  {
   "cell_type": "code",
   "execution_count": 42,
   "metadata": {},
   "outputs": [],
   "source": [
    "ind2type = {0: 'HFT', 1: 'MIX', 2: 'NON HFT'}\n",
    "type2ind = {'HFT': 0, 'MIX': 1, 'NON HFT': 2}"
   ]
  },
  {
   "cell_type": "code",
   "execution_count": 43,
   "metadata": {},
   "outputs": [
    {
     "output_type": "execute_result",
     "data": {
      "text/plain": [
       "        Trader     type\n",
       "0   Trader_285      MIX\n",
       "1   Trader_114  NON HFT\n",
       "2   Trader_110  NON HFT\n",
       "3    Trader_57  NON HFT\n",
       "4   Trader_128  NON HFT\n",
       "..         ...      ...\n",
       "81  Trader_140      MIX\n",
       "82  Trader_451      MIX\n",
       "83  Trader_438      MIX\n",
       "84  Trader_278      HFT\n",
       "85  Trader_330      MIX\n",
       "\n",
       "[86 rows x 2 columns]"
      ],
      "text/html": "<div>\n<style scoped>\n    .dataframe tbody tr th:only-of-type {\n        vertical-align: middle;\n    }\n\n    .dataframe tbody tr th {\n        vertical-align: top;\n    }\n\n    .dataframe thead th {\n        text-align: right;\n    }\n</style>\n<table border=\"1\" class=\"dataframe\">\n  <thead>\n    <tr style=\"text-align: right;\">\n      <th></th>\n      <th>Trader</th>\n      <th>type</th>\n    </tr>\n  </thead>\n  <tbody>\n    <tr>\n      <th>0</th>\n      <td>Trader_285</td>\n      <td>MIX</td>\n    </tr>\n    <tr>\n      <th>1</th>\n      <td>Trader_114</td>\n      <td>NON HFT</td>\n    </tr>\n    <tr>\n      <th>2</th>\n      <td>Trader_110</td>\n      <td>NON HFT</td>\n    </tr>\n    <tr>\n      <th>3</th>\n      <td>Trader_57</td>\n      <td>NON HFT</td>\n    </tr>\n    <tr>\n      <th>4</th>\n      <td>Trader_128</td>\n      <td>NON HFT</td>\n    </tr>\n    <tr>\n      <th>...</th>\n      <td>...</td>\n      <td>...</td>\n    </tr>\n    <tr>\n      <th>81</th>\n      <td>Trader_140</td>\n      <td>MIX</td>\n    </tr>\n    <tr>\n      <th>82</th>\n      <td>Trader_451</td>\n      <td>MIX</td>\n    </tr>\n    <tr>\n      <th>83</th>\n      <td>Trader_438</td>\n      <td>MIX</td>\n    </tr>\n    <tr>\n      <th>84</th>\n      <td>Trader_278</td>\n      <td>HFT</td>\n    </tr>\n    <tr>\n      <th>85</th>\n      <td>Trader_330</td>\n      <td>MIX</td>\n    </tr>\n  </tbody>\n</table>\n<p>86 rows × 2 columns</p>\n</div>"
     },
     "metadata": {},
     "execution_count": 43
    }
   ],
   "source": [
    "y_train"
   ]
  },
  {
   "cell_type": "code",
   "execution_count": 44,
   "metadata": {},
   "outputs": [],
   "source": [
    "name2type = dict(zip(y_train.Trader, y_train.type))"
   ]
  },
  {
   "cell_type": "code",
   "execution_count": 45,
   "metadata": {},
   "outputs": [],
   "source": [
    "x_train = x_train.fillna(-1)"
   ]
  },
  {
   "cell_type": "code",
   "execution_count": 46,
   "metadata": {
    "tags": []
   },
   "outputs": [],
   "source": [
    "x_train['label'] = x_train.apply(lambda row: 0 if name2type[row.Trader] == 'HFT' else (1 if name2type[row.Trader] == 'MIX' else 2), axis=1)"
   ]
  },
  {
   "cell_type": "code",
   "execution_count": 47,
   "metadata": {},
   "outputs": [],
   "source": [
    "y_train_data = x_train['label']"
   ]
  },
  {
   "cell_type": "code",
   "execution_count": 48,
   "metadata": {},
   "outputs": [],
   "source": [
    "from sklearn.model_selection import train_test_split"
   ]
  },
  {
   "cell_type": "code",
   "execution_count": 51,
   "metadata": {},
   "outputs": [],
   "source": [
    "x_train_b, x_test_b, y_train_b, y_test_b = train_test_split(x_train_data, y_train_data, test_size=0.3)"
   ]
  },
  {
   "cell_type": "code",
   "execution_count": 52,
   "metadata": {},
   "outputs": [
    {
     "output_type": "execute_result",
     "data": {
      "text/plain": [
       "RandomForestRegressor(n_estimators=1000, random_state=42)"
      ]
     },
     "metadata": {},
     "execution_count": 52
    }
   ],
   "source": [
    "from sklearn.ensemble import RandomForestRegressor\n",
    "# Instantiate model with 1000 decision trees\n",
    "rf = RandomForestRegressor(n_estimators = 1000, random_state = 42)\n",
    "# Train the model on training data\n",
    "rf.fit(x_train_b, y_train_b)"
   ]
  },
  {
   "cell_type": "code",
   "execution_count": 50,
   "metadata": {},
   "outputs": [],
   "source": [
    "from sklearn.multioutput import MultiOutputClassifier\n",
    "from sklearn.svm import LinearSVC\n",
    "\n",
    "# Create the SVM\n",
    "svm = LinearSVC(random_state=42)\n",
    "\n",
    "# Make it an Multilabel classifier\n",
    "\n",
    "# Fit the data to the Multilabel classifier\n",
    "svm.fit(x_train_b, y_train_b)\n",
    "\n",
    "# Get predictions for test data\n",
    "y_test_pred = svm.predict(x_test_b)"
   ]
  },
  {
   "cell_type": "code",
   "execution_count": 20,
   "metadata": {},
   "outputs": [
    {
     "output_type": "execute_result",
     "data": {
      "text/plain": [
       "0.47981723648968017"
      ]
     },
     "metadata": {},
     "execution_count": 20
    }
   ],
   "source": [
    "len(np.where(y_test_pred == y_test_b)[0]) / len(y_test_b)"
   ]
  },
  {
   "cell_type": "code",
   "execution_count": 23,
   "metadata": {},
   "outputs": [],
   "source": [
    "x_real_test = read_x_train('data/AMF_test_X.csv', includeShare=False, includeDay=False)\n",
    "x_real_test = fill_nan(x_real_test)"
   ]
  },
  {
   "cell_type": "code",
   "execution_count": 24,
   "metadata": {},
   "outputs": [],
   "source": [
    "x_real_test_data = np.array(x_real_test)[:,1:]"
   ]
  },
  {
   "cell_type": "code",
   "execution_count": 25,
   "metadata": {},
   "outputs": [],
   "source": [
    "y_test_predict = svm.predict(x_real_test_data)"
   ]
  },
  {
   "cell_type": "code",
   "execution_count": 26,
   "metadata": {},
   "outputs": [
    {
     "output_type": "execute_result",
     "data": {
      "text/plain": [
       "(85304, 35)"
      ]
     },
     "metadata": {},
     "execution_count": 26
    }
   ],
   "source": [
    "x_real_test_data.shape"
   ]
  },
  {
   "cell_type": "code",
   "execution_count": 27,
   "metadata": {},
   "outputs": [
    {
     "output_type": "execute_result",
     "data": {
      "text/plain": [
       "(105782, 35)"
      ]
     },
     "metadata": {},
     "execution_count": 27
    }
   ],
   "source": [
    "x_train_data.shape"
   ]
  },
  {
   "cell_type": "code",
   "execution_count": 28,
   "metadata": {},
   "outputs": [
    {
     "output_type": "execute_result",
     "data": {
      "text/plain": [
       "array([1, 0, 1, ..., 1, 1, 1], dtype=int64)"
      ]
     },
     "metadata": {},
     "execution_count": 28
    }
   ],
   "source": [
    "y_test_predict\n"
   ]
  },
  {
   "cell_type": "code",
   "execution_count": 29,
   "metadata": {},
   "outputs": [],
   "source": [
    "res = [(row.Trader, y_test_predict[i])  for i, row in x_real_test.iterrows()]\n",
    "    "
   ]
  },
  {
   "cell_type": "code",
   "execution_count": 30,
   "metadata": {},
   "outputs": [],
   "source": [
    "dicts = {}\n",
    "for row in res:\n",
    "    if row[0] in dicts:\n",
    "        dicts[row[0]].append(row[1])\n",
    "    else:\n",
    "        dicts[row[0]] = [row[1]]"
   ]
  },
  {
   "cell_type": "code",
   "execution_count": 31,
   "metadata": {},
   "outputs": [],
   "source": [
    "final = {}\n",
    "for k,v in dicts.items():\n",
    "    if len(np.where(np.array(v) == 0)[0])/len(v) > 0.4:\n",
    "        final[k] = 'HFT'\n",
    "    elif len(np.where(np.array(v) == 0)[0])/len(v) > 0.2:\n",
    "        final[k] = 'MIX'\n",
    "    else:\n",
    "        final[k] = 'NON HFT'"
   ]
  },
  {
   "cell_type": "code",
   "execution_count": 32,
   "metadata": {},
   "outputs": [],
   "source": [
    "import csv\n",
    "(pd.DataFrame.from_dict(data=final, orient='index').to_csv('dict_file.csv'))"
   ]
  },
  {
   "cell_type": "code",
   "execution_count": 162,
   "metadata": {},
   "outputs": [
    {
     "output_type": "execute_result",
     "data": {
      "text/plain": [
       "array([], dtype=int64)"
      ]
     },
     "metadata": {},
     "execution_count": 162
    }
   ],
   "source": [
    "np.where(dicts['Adelaide']==0)[0]"
   ]
  },
  {
   "cell_type": "code",
   "execution_count": 161,
   "metadata": {},
   "outputs": [
    {
     "output_type": "execute_result",
     "data": {
      "text/plain": [
       "[2, 2, 2, 2, 1, 0, 0, 0, 2, 1]"
      ]
     },
     "metadata": {},
     "execution_count": 161
    }
   ],
   "source": [
    "dicts['Adelaide']"
   ]
  },
  {
   "cell_type": "code",
   "execution_count": null,
   "metadata": {},
   "outputs": [],
   "source": []
  }
 ]
}