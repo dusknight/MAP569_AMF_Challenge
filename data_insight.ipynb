{
 "metadata": {
  "language_info": {
   "codemirror_mode": {
    "name": "ipython",
    "version": 3
   },
   "file_extension": ".py",
   "mimetype": "text/x-python",
   "name": "python",
   "nbconvert_exporter": "python",
   "pygments_lexer": "ipython3",
   "version": "3.8.3-final"
  },
  "orig_nbformat": 2,
  "kernelspec": {
   "name": "python3",
   "display_name": "Python 3",
   "language": "python"
  }
 },
 "nbformat": 4,
 "nbformat_minor": 2,
 "cells": [
  {
   "cell_type": "code",
   "execution_count": 2,
   "metadata": {},
   "outputs": [],
   "source": [
    "import pandas as pd\n",
    "import numpy as np\n",
    "from sklearn import preprocessing"
   ]
  },
  {
   "cell_type": "code",
   "execution_count": 2,
   "metadata": {},
   "outputs": [],
   "source": [
    "y_train = pd.read_csv('data/AMF_train_Y.csv')"
   ]
  },
  {
   "cell_type": "code",
   "execution_count": 1,
   "metadata": {},
   "outputs": [],
   "source": [
    "from helper import read_x_train, fill_nan\n",
    "x_train = read_x_train('data/AMF_train_X.csv', includeShare=True, includeDay=True)"
   ]
  },
  {
   "cell_type": "code",
   "execution_count": 11,
   "metadata": {},
   "outputs": [
    {
     "output_type": "execute_result",
     "data": {
      "text/plain": [
       "         Trader\n",
       "type           \n",
       "HFT          15\n",
       "MIX          24\n",
       "NON HFT      47"
      ],
      "text/html": "<div>\n<style scoped>\n    .dataframe tbody tr th:only-of-type {\n        vertical-align: middle;\n    }\n\n    .dataframe tbody tr th {\n        vertical-align: top;\n    }\n\n    .dataframe thead th {\n        text-align: right;\n    }\n</style>\n<table border=\"1\" class=\"dataframe\">\n  <thead>\n    <tr style=\"text-align: right;\">\n      <th></th>\n      <th>Trader</th>\n    </tr>\n    <tr>\n      <th>type</th>\n      <th></th>\n    </tr>\n  </thead>\n  <tbody>\n    <tr>\n      <th>HFT</th>\n      <td>15</td>\n    </tr>\n    <tr>\n      <th>MIX</th>\n      <td>24</td>\n    </tr>\n    <tr>\n      <th>NON HFT</th>\n      <td>47</td>\n    </tr>\n  </tbody>\n</table>\n</div>"
     },
     "metadata": {},
     "execution_count": 11
    }
   ],
   "source": [
    "y_train.groupby('type').count()"
   ]
  },
  {
   "cell_type": "code",
   "execution_count": 12,
   "metadata": {},
   "outputs": [],
   "source": [
    "name2type = dict(zip(y_train.Trader, y_train.type))"
   ]
  },
  {
   "cell_type": "code",
   "execution_count": 5,
   "metadata": {},
   "outputs": [],
   "source": [
    "n_rows, n_cols = x_train.shape"
   ]
  },
  {
   "cell_type": "code",
   "execution_count": 3,
   "metadata": {},
   "outputs": [
    {
     "output_type": "execute_result",
     "data": {
      "text/plain": [
       "        Share  Day     Trader       OTR         OCR         OMR  \\\n",
       "0           8   24  Trader_10  2.272727    8.333333   12.500000   \n",
       "1          87   29  Trader_10  1.696629   25.166667   21.571429   \n",
       "2          87   23  Trader_10  1.482759   47.300000  118.250000   \n",
       "3          12   11  Trader_10  1.705882   14.500000   29.000000   \n",
       "4          87    9  Trader_10  1.517730   26.750000         NaN   \n",
       "...       ...  ...        ...       ...         ...         ...   \n",
       "105777     84   27  Trader_60  1.150000   23.000000         NaN   \n",
       "105778    102   18  Trader_60  1.352941   23.000000         NaN   \n",
       "105779     12   13  Trader_60  1.146667   86.000000         NaN   \n",
       "105780     27   30  Trader_60  1.179191  204.000000         NaN   \n",
       "105781     47   12  Trader_60  1.178571   66.000000         NaN   \n",
       "\n",
       "        min_time_two_events  mean_time_two_events  10_p_time_two_events  \\\n",
       "0                       0.0           5117.830300              0.000000   \n",
       "1                       0.0           1846.968401              0.000074   \n",
       "2                       0.0            686.300630              0.000071   \n",
       "3                       0.0           2174.335265              0.000000   \n",
       "4                       0.0            944.008551              0.000071   \n",
       "...                     ...                   ...                   ...   \n",
       "105777                  0.0            736.500080              0.000000   \n",
       "105778                  0.0             63.672695              0.000000   \n",
       "105779                  0.0            708.440816              0.000000   \n",
       "105780                  0.0            384.893976              0.000000   \n",
       "105781                  0.0            122.636320              0.000000   \n",
       "\n",
       "        med_time_two_events  ...  min_dt_TV1_TV2  mean_dt_TV1_TV2  \\\n",
       "0                419.688500  ...             NaN              NaN   \n",
       "1                  0.003374  ...             NaN              NaN   \n",
       "2                  0.000599  ...             NaN              NaN   \n",
       "3                  6.152666  ...             NaN              NaN   \n",
       "4                  0.001364  ...             NaN              NaN   \n",
       "...                     ...  ...             ...              ...   \n",
       "105777             0.000188  ...             NaN              NaN   \n",
       "105778             0.000963  ...             NaN              NaN   \n",
       "105779             0.000578  ...             NaN              NaN   \n",
       "105780             0.000536  ...             NaN              NaN   \n",
       "105781             0.000689  ...             NaN              NaN   \n",
       "\n",
       "        med_dt_TV1_TV2  min_dt_TV1_TV3  mean_dt_TV1_TV3  med_dt_TV1_TV3  \\\n",
       "0                  NaN             NaN              NaN             NaN   \n",
       "1                  NaN             NaN              NaN             NaN   \n",
       "2                  NaN             NaN              NaN             NaN   \n",
       "3                  NaN             NaN              NaN             NaN   \n",
       "4                  NaN             NaN              NaN             NaN   \n",
       "...                ...             ...              ...             ...   \n",
       "105777             NaN             NaN              NaN             NaN   \n",
       "105778             NaN             NaN              NaN             NaN   \n",
       "105779             NaN             NaN              NaN             NaN   \n",
       "105780             NaN             NaN              NaN             NaN   \n",
       "105781             NaN             NaN              NaN             NaN   \n",
       "\n",
       "        min_dt_TV1_TV4  mean_dt_TV1_TV4  med_dt_TV1_TV4  \\\n",
       "0                  NaN              NaN             NaN   \n",
       "1                  NaN              NaN             NaN   \n",
       "2                  NaN              NaN             NaN   \n",
       "3                  NaN              NaN             NaN   \n",
       "4                  NaN              NaN             NaN   \n",
       "...                ...              ...             ...   \n",
       "105777             NaN              NaN             NaN   \n",
       "105778             NaN              NaN             NaN   \n",
       "105779             NaN              NaN             NaN   \n",
       "105780             NaN              NaN             NaN   \n",
       "105781             NaN              NaN             NaN   \n",
       "\n",
       "        NbSecondWithAtLeatOneTrade  \n",
       "0                                4  \n",
       "1                               15  \n",
       "2                               63  \n",
       "3                                4  \n",
       "4                               38  \n",
       "...                            ...  \n",
       "105777                           3  \n",
       "105778                           7  \n",
       "105779                          16  \n",
       "105780                          35  \n",
       "105781                           9  \n",
       "\n",
       "[105782 rows x 38 columns]"
      ],
      "text/html": "<div>\n<style scoped>\n    .dataframe tbody tr th:only-of-type {\n        vertical-align: middle;\n    }\n\n    .dataframe tbody tr th {\n        vertical-align: top;\n    }\n\n    .dataframe thead th {\n        text-align: right;\n    }\n</style>\n<table border=\"1\" class=\"dataframe\">\n  <thead>\n    <tr style=\"text-align: right;\">\n      <th></th>\n      <th>Share</th>\n      <th>Day</th>\n      <th>Trader</th>\n      <th>OTR</th>\n      <th>OCR</th>\n      <th>OMR</th>\n      <th>min_time_two_events</th>\n      <th>mean_time_two_events</th>\n      <th>10_p_time_two_events</th>\n      <th>med_time_two_events</th>\n      <th>...</th>\n      <th>min_dt_TV1_TV2</th>\n      <th>mean_dt_TV1_TV2</th>\n      <th>med_dt_TV1_TV2</th>\n      <th>min_dt_TV1_TV3</th>\n      <th>mean_dt_TV1_TV3</th>\n      <th>med_dt_TV1_TV3</th>\n      <th>min_dt_TV1_TV4</th>\n      <th>mean_dt_TV1_TV4</th>\n      <th>med_dt_TV1_TV4</th>\n      <th>NbSecondWithAtLeatOneTrade</th>\n    </tr>\n  </thead>\n  <tbody>\n    <tr>\n      <th>0</th>\n      <td>8</td>\n      <td>24</td>\n      <td>Trader_10</td>\n      <td>2.272727</td>\n      <td>8.333333</td>\n      <td>12.500000</td>\n      <td>0.0</td>\n      <td>5117.830300</td>\n      <td>0.000000</td>\n      <td>419.688500</td>\n      <td>...</td>\n      <td>NaN</td>\n      <td>NaN</td>\n      <td>NaN</td>\n      <td>NaN</td>\n      <td>NaN</td>\n      <td>NaN</td>\n      <td>NaN</td>\n      <td>NaN</td>\n      <td>NaN</td>\n      <td>4</td>\n    </tr>\n    <tr>\n      <th>1</th>\n      <td>87</td>\n      <td>29</td>\n      <td>Trader_10</td>\n      <td>1.696629</td>\n      <td>25.166667</td>\n      <td>21.571429</td>\n      <td>0.0</td>\n      <td>1846.968401</td>\n      <td>0.000074</td>\n      <td>0.003374</td>\n      <td>...</td>\n      <td>NaN</td>\n      <td>NaN</td>\n      <td>NaN</td>\n      <td>NaN</td>\n      <td>NaN</td>\n      <td>NaN</td>\n      <td>NaN</td>\n      <td>NaN</td>\n      <td>NaN</td>\n      <td>15</td>\n    </tr>\n    <tr>\n      <th>2</th>\n      <td>87</td>\n      <td>23</td>\n      <td>Trader_10</td>\n      <td>1.482759</td>\n      <td>47.300000</td>\n      <td>118.250000</td>\n      <td>0.0</td>\n      <td>686.300630</td>\n      <td>0.000071</td>\n      <td>0.000599</td>\n      <td>...</td>\n      <td>NaN</td>\n      <td>NaN</td>\n      <td>NaN</td>\n      <td>NaN</td>\n      <td>NaN</td>\n      <td>NaN</td>\n      <td>NaN</td>\n      <td>NaN</td>\n      <td>NaN</td>\n      <td>63</td>\n    </tr>\n    <tr>\n      <th>3</th>\n      <td>12</td>\n      <td>11</td>\n      <td>Trader_10</td>\n      <td>1.705882</td>\n      <td>14.500000</td>\n      <td>29.000000</td>\n      <td>0.0</td>\n      <td>2174.335265</td>\n      <td>0.000000</td>\n      <td>6.152666</td>\n      <td>...</td>\n      <td>NaN</td>\n      <td>NaN</td>\n      <td>NaN</td>\n      <td>NaN</td>\n      <td>NaN</td>\n      <td>NaN</td>\n      <td>NaN</td>\n      <td>NaN</td>\n      <td>NaN</td>\n      <td>4</td>\n    </tr>\n    <tr>\n      <th>4</th>\n      <td>87</td>\n      <td>9</td>\n      <td>Trader_10</td>\n      <td>1.517730</td>\n      <td>26.750000</td>\n      <td>NaN</td>\n      <td>0.0</td>\n      <td>944.008551</td>\n      <td>0.000071</td>\n      <td>0.001364</td>\n      <td>...</td>\n      <td>NaN</td>\n      <td>NaN</td>\n      <td>NaN</td>\n      <td>NaN</td>\n      <td>NaN</td>\n      <td>NaN</td>\n      <td>NaN</td>\n      <td>NaN</td>\n      <td>NaN</td>\n      <td>38</td>\n    </tr>\n    <tr>\n      <th>...</th>\n      <td>...</td>\n      <td>...</td>\n      <td>...</td>\n      <td>...</td>\n      <td>...</td>\n      <td>...</td>\n      <td>...</td>\n      <td>...</td>\n      <td>...</td>\n      <td>...</td>\n      <td>...</td>\n      <td>...</td>\n      <td>...</td>\n      <td>...</td>\n      <td>...</td>\n      <td>...</td>\n      <td>...</td>\n      <td>...</td>\n      <td>...</td>\n      <td>...</td>\n      <td>...</td>\n    </tr>\n    <tr>\n      <th>105777</th>\n      <td>84</td>\n      <td>27</td>\n      <td>Trader_60</td>\n      <td>1.150000</td>\n      <td>23.000000</td>\n      <td>NaN</td>\n      <td>0.0</td>\n      <td>736.500080</td>\n      <td>0.000000</td>\n      <td>0.000188</td>\n      <td>...</td>\n      <td>NaN</td>\n      <td>NaN</td>\n      <td>NaN</td>\n      <td>NaN</td>\n      <td>NaN</td>\n      <td>NaN</td>\n      <td>NaN</td>\n      <td>NaN</td>\n      <td>NaN</td>\n      <td>3</td>\n    </tr>\n    <tr>\n      <th>105778</th>\n      <td>102</td>\n      <td>18</td>\n      <td>Trader_60</td>\n      <td>1.352941</td>\n      <td>23.000000</td>\n      <td>NaN</td>\n      <td>0.0</td>\n      <td>63.672695</td>\n      <td>0.000000</td>\n      <td>0.000963</td>\n      <td>...</td>\n      <td>NaN</td>\n      <td>NaN</td>\n      <td>NaN</td>\n      <td>NaN</td>\n      <td>NaN</td>\n      <td>NaN</td>\n      <td>NaN</td>\n      <td>NaN</td>\n      <td>NaN</td>\n      <td>7</td>\n    </tr>\n    <tr>\n      <th>105779</th>\n      <td>12</td>\n      <td>13</td>\n      <td>Trader_60</td>\n      <td>1.146667</td>\n      <td>86.000000</td>\n      <td>NaN</td>\n      <td>0.0</td>\n      <td>708.440816</td>\n      <td>0.000000</td>\n      <td>0.000578</td>\n      <td>...</td>\n      <td>NaN</td>\n      <td>NaN</td>\n      <td>NaN</td>\n      <td>NaN</td>\n      <td>NaN</td>\n      <td>NaN</td>\n      <td>NaN</td>\n      <td>NaN</td>\n      <td>NaN</td>\n      <td>16</td>\n    </tr>\n    <tr>\n      <th>105780</th>\n      <td>27</td>\n      <td>30</td>\n      <td>Trader_60</td>\n      <td>1.179191</td>\n      <td>204.000000</td>\n      <td>NaN</td>\n      <td>0.0</td>\n      <td>384.893976</td>\n      <td>0.000000</td>\n      <td>0.000536</td>\n      <td>...</td>\n      <td>NaN</td>\n      <td>NaN</td>\n      <td>NaN</td>\n      <td>NaN</td>\n      <td>NaN</td>\n      <td>NaN</td>\n      <td>NaN</td>\n      <td>NaN</td>\n      <td>NaN</td>\n      <td>35</td>\n    </tr>\n    <tr>\n      <th>105781</th>\n      <td>47</td>\n      <td>12</td>\n      <td>Trader_60</td>\n      <td>1.178571</td>\n      <td>66.000000</td>\n      <td>NaN</td>\n      <td>0.0</td>\n      <td>122.636320</td>\n      <td>0.000000</td>\n      <td>0.000689</td>\n      <td>...</td>\n      <td>NaN</td>\n      <td>NaN</td>\n      <td>NaN</td>\n      <td>NaN</td>\n      <td>NaN</td>\n      <td>NaN</td>\n      <td>NaN</td>\n      <td>NaN</td>\n      <td>NaN</td>\n      <td>9</td>\n    </tr>\n  </tbody>\n</table>\n<p>105782 rows × 38 columns</p>\n</div>"
     },
     "metadata": {},
     "execution_count": 3
    }
   ],
   "source": [
    "x_train"
   ]
  },
  {
   "cell_type": "code",
   "execution_count": null,
   "metadata": {},
   "outputs": [],
   "source": [
    "scale_list = ['OTR', 'OCR', 'OMR', 'mean_time_two_events', 'med_time_two_events']"
   ]
  },
  {
   "cell_type": "code",
   "execution_count": 14,
   "metadata": {},
   "outputs": [],
   "source": [
    "x_train['10_p_time_two_events'] = preprocessing.scale(x_train['10_p_time_two_events'])"
   ]
  },
  {
   "cell_type": "code",
   "execution_count": 15,
   "metadata": {},
   "outputs": [
    {
     "output_type": "execute_result",
     "data": {
      "text/plain": [
       "        Share  Day     Trader       OTR       OCR       OMR  \\\n",
       "0           8   24  Trader_10 -0.234316 -0.127020 -0.163583   \n",
       "1          87   29  Trader_10 -0.238513  0.107288 -0.153818   \n",
       "2          87   23  Trader_10 -0.240071  0.415368 -0.049751   \n",
       "3          12   11  Trader_10 -0.238446 -0.041184 -0.145822   \n",
       "4          87    9  Trader_10 -0.239816  0.129327       NaN   \n",
       "...       ...  ...        ...       ...       ...       ...   \n",
       "105777     84   27  Trader_60 -0.242495  0.077130       NaN   \n",
       "105778    102   18  Trader_60 -0.241017  0.077130       NaN   \n",
       "105779     12   13  Trader_60 -0.242520  0.954043       NaN   \n",
       "105780     27   30  Trader_60 -0.242283  2.596516       NaN   \n",
       "105781     47   12  Trader_60 -0.242287  0.675658       NaN   \n",
       "\n",
       "        min_time_two_events  mean_time_two_events  10_p_time_two_events  \\\n",
       "0                 -0.056435           5117.830300             -0.063888   \n",
       "1                 -0.056435           1846.968401             -0.063888   \n",
       "2                 -0.056435            686.300630             -0.063888   \n",
       "3                 -0.056435           2174.335265             -0.063888   \n",
       "4                 -0.056435            944.008551             -0.063888   \n",
       "...                     ...                   ...                   ...   \n",
       "105777            -0.056435            736.500080             -0.063888   \n",
       "105778            -0.056435             63.672695             -0.063888   \n",
       "105779            -0.056435            708.440816             -0.063888   \n",
       "105780            -0.056435            384.893976             -0.063888   \n",
       "105781            -0.056435            122.636320             -0.063888   \n",
       "\n",
       "        med_time_two_events  ...  min_dt_TV1_TV2  mean_dt_TV1_TV2  \\\n",
       "0                419.688500  ...             NaN              NaN   \n",
       "1                  0.003374  ...             NaN              NaN   \n",
       "2                  0.000599  ...             NaN              NaN   \n",
       "3                  6.152666  ...             NaN              NaN   \n",
       "4                  0.001364  ...             NaN              NaN   \n",
       "...                     ...  ...             ...              ...   \n",
       "105777             0.000188  ...             NaN              NaN   \n",
       "105778             0.000963  ...             NaN              NaN   \n",
       "105779             0.000578  ...             NaN              NaN   \n",
       "105780             0.000536  ...             NaN              NaN   \n",
       "105781             0.000689  ...             NaN              NaN   \n",
       "\n",
       "        med_dt_TV1_TV2  min_dt_TV1_TV3  mean_dt_TV1_TV3  med_dt_TV1_TV3  \\\n",
       "0                  NaN             NaN              NaN             NaN   \n",
       "1                  NaN             NaN              NaN             NaN   \n",
       "2                  NaN             NaN              NaN             NaN   \n",
       "3                  NaN             NaN              NaN             NaN   \n",
       "4                  NaN             NaN              NaN             NaN   \n",
       "...                ...             ...              ...             ...   \n",
       "105777             NaN             NaN              NaN             NaN   \n",
       "105778             NaN             NaN              NaN             NaN   \n",
       "105779             NaN             NaN              NaN             NaN   \n",
       "105780             NaN             NaN              NaN             NaN   \n",
       "105781             NaN             NaN              NaN             NaN   \n",
       "\n",
       "        min_dt_TV1_TV4  mean_dt_TV1_TV4  med_dt_TV1_TV4  \\\n",
       "0                  NaN              NaN             NaN   \n",
       "1                  NaN              NaN             NaN   \n",
       "2                  NaN              NaN             NaN   \n",
       "3                  NaN              NaN             NaN   \n",
       "4                  NaN              NaN             NaN   \n",
       "...                ...              ...             ...   \n",
       "105777             NaN              NaN             NaN   \n",
       "105778             NaN              NaN             NaN   \n",
       "105779             NaN              NaN             NaN   \n",
       "105780             NaN              NaN             NaN   \n",
       "105781             NaN              NaN             NaN   \n",
       "\n",
       "        NbSecondWithAtLeatOneTrade  \n",
       "0                                4  \n",
       "1                               15  \n",
       "2                               63  \n",
       "3                                4  \n",
       "4                               38  \n",
       "...                            ...  \n",
       "105777                           3  \n",
       "105778                           7  \n",
       "105779                          16  \n",
       "105780                          35  \n",
       "105781                           9  \n",
       "\n",
       "[105782 rows x 38 columns]"
      ],
      "text/html": "<div>\n<style scoped>\n    .dataframe tbody tr th:only-of-type {\n        vertical-align: middle;\n    }\n\n    .dataframe tbody tr th {\n        vertical-align: top;\n    }\n\n    .dataframe thead th {\n        text-align: right;\n    }\n</style>\n<table border=\"1\" class=\"dataframe\">\n  <thead>\n    <tr style=\"text-align: right;\">\n      <th></th>\n      <th>Share</th>\n      <th>Day</th>\n      <th>Trader</th>\n      <th>OTR</th>\n      <th>OCR</th>\n      <th>OMR</th>\n      <th>min_time_two_events</th>\n      <th>mean_time_two_events</th>\n      <th>10_p_time_two_events</th>\n      <th>med_time_two_events</th>\n      <th>...</th>\n      <th>min_dt_TV1_TV2</th>\n      <th>mean_dt_TV1_TV2</th>\n      <th>med_dt_TV1_TV2</th>\n      <th>min_dt_TV1_TV3</th>\n      <th>mean_dt_TV1_TV3</th>\n      <th>med_dt_TV1_TV3</th>\n      <th>min_dt_TV1_TV4</th>\n      <th>mean_dt_TV1_TV4</th>\n      <th>med_dt_TV1_TV4</th>\n      <th>NbSecondWithAtLeatOneTrade</th>\n    </tr>\n  </thead>\n  <tbody>\n    <tr>\n      <th>0</th>\n      <td>8</td>\n      <td>24</td>\n      <td>Trader_10</td>\n      <td>-0.234316</td>\n      <td>-0.127020</td>\n      <td>-0.163583</td>\n      <td>-0.056435</td>\n      <td>5117.830300</td>\n      <td>-0.063888</td>\n      <td>419.688500</td>\n      <td>...</td>\n      <td>NaN</td>\n      <td>NaN</td>\n      <td>NaN</td>\n      <td>NaN</td>\n      <td>NaN</td>\n      <td>NaN</td>\n      <td>NaN</td>\n      <td>NaN</td>\n      <td>NaN</td>\n      <td>4</td>\n    </tr>\n    <tr>\n      <th>1</th>\n      <td>87</td>\n      <td>29</td>\n      <td>Trader_10</td>\n      <td>-0.238513</td>\n      <td>0.107288</td>\n      <td>-0.153818</td>\n      <td>-0.056435</td>\n      <td>1846.968401</td>\n      <td>-0.063888</td>\n      <td>0.003374</td>\n      <td>...</td>\n      <td>NaN</td>\n      <td>NaN</td>\n      <td>NaN</td>\n      <td>NaN</td>\n      <td>NaN</td>\n      <td>NaN</td>\n      <td>NaN</td>\n      <td>NaN</td>\n      <td>NaN</td>\n      <td>15</td>\n    </tr>\n    <tr>\n      <th>2</th>\n      <td>87</td>\n      <td>23</td>\n      <td>Trader_10</td>\n      <td>-0.240071</td>\n      <td>0.415368</td>\n      <td>-0.049751</td>\n      <td>-0.056435</td>\n      <td>686.300630</td>\n      <td>-0.063888</td>\n      <td>0.000599</td>\n      <td>...</td>\n      <td>NaN</td>\n      <td>NaN</td>\n      <td>NaN</td>\n      <td>NaN</td>\n      <td>NaN</td>\n      <td>NaN</td>\n      <td>NaN</td>\n      <td>NaN</td>\n      <td>NaN</td>\n      <td>63</td>\n    </tr>\n    <tr>\n      <th>3</th>\n      <td>12</td>\n      <td>11</td>\n      <td>Trader_10</td>\n      <td>-0.238446</td>\n      <td>-0.041184</td>\n      <td>-0.145822</td>\n      <td>-0.056435</td>\n      <td>2174.335265</td>\n      <td>-0.063888</td>\n      <td>6.152666</td>\n      <td>...</td>\n      <td>NaN</td>\n      <td>NaN</td>\n      <td>NaN</td>\n      <td>NaN</td>\n      <td>NaN</td>\n      <td>NaN</td>\n      <td>NaN</td>\n      <td>NaN</td>\n      <td>NaN</td>\n      <td>4</td>\n    </tr>\n    <tr>\n      <th>4</th>\n      <td>87</td>\n      <td>9</td>\n      <td>Trader_10</td>\n      <td>-0.239816</td>\n      <td>0.129327</td>\n      <td>NaN</td>\n      <td>-0.056435</td>\n      <td>944.008551</td>\n      <td>-0.063888</td>\n      <td>0.001364</td>\n      <td>...</td>\n      <td>NaN</td>\n      <td>NaN</td>\n      <td>NaN</td>\n      <td>NaN</td>\n      <td>NaN</td>\n      <td>NaN</td>\n      <td>NaN</td>\n      <td>NaN</td>\n      <td>NaN</td>\n      <td>38</td>\n    </tr>\n    <tr>\n      <th>...</th>\n      <td>...</td>\n      <td>...</td>\n      <td>...</td>\n      <td>...</td>\n      <td>...</td>\n      <td>...</td>\n      <td>...</td>\n      <td>...</td>\n      <td>...</td>\n      <td>...</td>\n      <td>...</td>\n      <td>...</td>\n      <td>...</td>\n      <td>...</td>\n      <td>...</td>\n      <td>...</td>\n      <td>...</td>\n      <td>...</td>\n      <td>...</td>\n      <td>...</td>\n      <td>...</td>\n    </tr>\n    <tr>\n      <th>105777</th>\n      <td>84</td>\n      <td>27</td>\n      <td>Trader_60</td>\n      <td>-0.242495</td>\n      <td>0.077130</td>\n      <td>NaN</td>\n      <td>-0.056435</td>\n      <td>736.500080</td>\n      <td>-0.063888</td>\n      <td>0.000188</td>\n      <td>...</td>\n      <td>NaN</td>\n      <td>NaN</td>\n      <td>NaN</td>\n      <td>NaN</td>\n      <td>NaN</td>\n      <td>NaN</td>\n      <td>NaN</td>\n      <td>NaN</td>\n      <td>NaN</td>\n      <td>3</td>\n    </tr>\n    <tr>\n      <th>105778</th>\n      <td>102</td>\n      <td>18</td>\n      <td>Trader_60</td>\n      <td>-0.241017</td>\n      <td>0.077130</td>\n      <td>NaN</td>\n      <td>-0.056435</td>\n      <td>63.672695</td>\n      <td>-0.063888</td>\n      <td>0.000963</td>\n      <td>...</td>\n      <td>NaN</td>\n      <td>NaN</td>\n      <td>NaN</td>\n      <td>NaN</td>\n      <td>NaN</td>\n      <td>NaN</td>\n      <td>NaN</td>\n      <td>NaN</td>\n      <td>NaN</td>\n      <td>7</td>\n    </tr>\n    <tr>\n      <th>105779</th>\n      <td>12</td>\n      <td>13</td>\n      <td>Trader_60</td>\n      <td>-0.242520</td>\n      <td>0.954043</td>\n      <td>NaN</td>\n      <td>-0.056435</td>\n      <td>708.440816</td>\n      <td>-0.063888</td>\n      <td>0.000578</td>\n      <td>...</td>\n      <td>NaN</td>\n      <td>NaN</td>\n      <td>NaN</td>\n      <td>NaN</td>\n      <td>NaN</td>\n      <td>NaN</td>\n      <td>NaN</td>\n      <td>NaN</td>\n      <td>NaN</td>\n      <td>16</td>\n    </tr>\n    <tr>\n      <th>105780</th>\n      <td>27</td>\n      <td>30</td>\n      <td>Trader_60</td>\n      <td>-0.242283</td>\n      <td>2.596516</td>\n      <td>NaN</td>\n      <td>-0.056435</td>\n      <td>384.893976</td>\n      <td>-0.063888</td>\n      <td>0.000536</td>\n      <td>...</td>\n      <td>NaN</td>\n      <td>NaN</td>\n      <td>NaN</td>\n      <td>NaN</td>\n      <td>NaN</td>\n      <td>NaN</td>\n      <td>NaN</td>\n      <td>NaN</td>\n      <td>NaN</td>\n      <td>35</td>\n    </tr>\n    <tr>\n      <th>105781</th>\n      <td>47</td>\n      <td>12</td>\n      <td>Trader_60</td>\n      <td>-0.242287</td>\n      <td>0.675658</td>\n      <td>NaN</td>\n      <td>-0.056435</td>\n      <td>122.636320</td>\n      <td>-0.063888</td>\n      <td>0.000689</td>\n      <td>...</td>\n      <td>NaN</td>\n      <td>NaN</td>\n      <td>NaN</td>\n      <td>NaN</td>\n      <td>NaN</td>\n      <td>NaN</td>\n      <td>NaN</td>\n      <td>NaN</td>\n      <td>NaN</td>\n      <td>9</td>\n    </tr>\n  </tbody>\n</table>\n<p>105782 rows × 38 columns</p>\n</div>"
     },
     "metadata": {},
     "execution_count": 15
    }
   ],
   "source": [
    "x_train"
   ]
  },
  {
   "cell_type": "code",
   "execution_count": 18,
   "metadata": {},
   "outputs": [
    {
     "output_type": "execute_result",
     "data": {
      "text/plain": [
       "count      15.000000\n",
       "mean     2130.000000\n",
       "std      2089.542602\n",
       "min         8.000000\n",
       "25%       643.000000\n",
       "50%      1709.000000\n",
       "75%      2500.500000\n",
       "max      7587.000000\n",
       "Name: Day, dtype: float64"
      ]
     },
     "metadata": {},
     "execution_count": 18
    }
   ],
   "source": [
    "x_train[x_train.apply(lambda x: name2type[x['Trader']] == 'HFT', axis=1)].groupby('Trader')['Day'].count().describe()"
   ]
  },
  {
   "cell_type": "code",
   "execution_count": 19,
   "metadata": {},
   "outputs": [
    {
     "output_type": "execute_result",
     "data": {
      "text/plain": [
       "count       24.00000\n",
       "mean      2145.12500\n",
       "std       2097.22598\n",
       "min          9.00000\n",
       "25%        670.50000\n",
       "50%       2329.50000\n",
       "75%       2547.50000\n",
       "max      10208.00000\n",
       "Name: Day, dtype: float64"
      ]
     },
     "metadata": {},
     "execution_count": 19
    }
   ],
   "source": [
    "x_train[x_train.apply(lambda x: name2type[x['Trader']] == 'MIX', axis=1)].groupby('Trader')['Day'].count().describe()"
   ]
  },
  {
   "cell_type": "code",
   "execution_count": 20,
   "metadata": {},
   "outputs": [
    {
     "output_type": "execute_result",
     "data": {
      "text/plain": [
       "count      47.000000\n",
       "mean      475.510638\n",
       "std       787.638625\n",
       "min         1.000000\n",
       "25%        26.000000\n",
       "50%        95.000000\n",
       "75%       306.000000\n",
       "max      2393.000000\n",
       "Name: Day, dtype: float64"
      ]
     },
     "metadata": {},
     "execution_count": 20
    }
   ],
   "source": [
    "x_train[x_train.apply(lambda x: name2type[x['Trader']] == 'NON HFT', axis=1)].groupby('Trader')['Day'].count().describe()"
   ]
  },
  {
   "cell_type": "code",
   "execution_count": 23,
   "metadata": {},
   "outputs": [],
   "source": [
    "trader_list = x_train['Trader'].unique()\n",
    "trader_list.sort()"
   ]
  },
  {
   "cell_type": "code",
   "execution_count": 47,
   "metadata": {},
   "outputs": [
    {
     "output_type": "execute_result",
     "data": {
      "text/plain": [
       "array(['Trader_10', 'Trader_105', 'Trader_107', 'Trader_110',\n",
       "       'Trader_114', 'Trader_120', 'Trader_127', 'Trader_128',\n",
       "       'Trader_132', 'Trader_136', 'Trader_140', 'Trader_149',\n",
       "       'Trader_150', 'Trader_155', 'Trader_158', 'Trader_16',\n",
       "       'Trader_161', 'Trader_164', 'Trader_169', 'Trader_172',\n",
       "       'Trader_177', 'Trader_178', 'Trader_179', 'Trader_184',\n",
       "       'Trader_191', 'Trader_195', 'Trader_205', 'Trader_208',\n",
       "       'Trader_209', 'Trader_221', 'Trader_222', 'Trader_226',\n",
       "       'Trader_233', 'Trader_237', 'Trader_241', 'Trader_244',\n",
       "       'Trader_245', 'Trader_255', 'Trader_256', 'Trader_257',\n",
       "       'Trader_26', 'Trader_264', 'Trader_275', 'Trader_278',\n",
       "       'Trader_279', 'Trader_280', 'Trader_285', 'Trader_288',\n",
       "       'Trader_293', 'Trader_310', 'Trader_312', 'Trader_328',\n",
       "       'Trader_329', 'Trader_330', 'Trader_338', 'Trader_340',\n",
       "       'Trader_341', 'Trader_35', 'Trader_358', 'Trader_375', 'Trader_38',\n",
       "       'Trader_380', 'Trader_385', 'Trader_386', 'Trader_395',\n",
       "       'Trader_398', 'Trader_40', 'Trader_41', 'Trader_422', 'Trader_424',\n",
       "       'Trader_425', 'Trader_430', 'Trader_431', 'Trader_435',\n",
       "       'Trader_438', 'Trader_442', 'Trader_446', 'Trader_451',\n",
       "       'Trader_453', 'Trader_46', 'Trader_461', 'Trader_51', 'Trader_54',\n",
       "       'Trader_57', 'Trader_59', 'Trader_60'], dtype=object)"
      ]
     },
     "metadata": {},
     "execution_count": 47
    }
   ],
   "source": [
    "trader_list"
   ]
  },
  {
   "cell_type": "code",
   "execution_count": 92,
   "metadata": {},
   "outputs": [],
   "source": [
    "a =[np.array(x_train[x_train['Trader'] == trader].sort_values(\n",
    "        by=['Day']).drop(['Trader'], axis=1).values.tolist()).reshape(-1,37).flatten().reshape(1,-1) for trader in trader_list]"
   ]
  },
  {
   "cell_type": "code",
   "execution_count": 98,
   "metadata": {},
   "outputs": [
    {
     "output_type": "execute_result",
     "data": {
      "text/plain": [
       "(1, 67932)"
      ]
     },
     "metadata": {},
     "execution_count": 98
    }
   ],
   "source": [
    "a[2].shape"
   ]
  },
  {
   "cell_type": "code",
   "execution_count": 42,
   "metadata": {},
   "outputs": [
    {
     "output_type": "stream",
     "name": "stdout",
     "text": [
      "(77, 37)\n(77, 37)\n(77, 37)\n(77, 37)\n(77, 37)\n(77, 37)\n(77, 37)\n(77, 37)\n(77, 37)\n(77, 37)\n(77, 37)\n(77, 37)\n(77, 37)\n(77, 37)\n(77, 37)\n(77, 37)\n(77, 37)\n(77, 37)\n(77, 37)\n(77, 37)\n(77, 37)\n(77, 37)\n(77, 37)\n(77, 37)\n(77, 37)\n(77, 37)\n(77, 37)\n(77, 37)\n(77, 37)\n(77, 37)\n(77, 37)\n(77, 37)\n(77, 37)\n(77, 37)\n(77, 37)\n(77, 37)\n(77, 37)\n(77, 37)\n(77, 37)\n(77, 37)\n(77, 37)\n(77, 37)\n(77, 37)\n(77, 37)\n(77, 37)\n(77, 37)\n(77, 37)\n(77, 37)\n(77, 37)\n(77, 37)\n(77, 37)\n(77, 37)\n(77, 37)\n(77, 37)\n(77, 37)\n(77, 37)\n(77, 37)\n(77, 37)\n(77, 37)\n(77, 37)\n(77, 37)\n(77, 37)\n(77, 37)\n(77, 37)\n(77, 37)\n(77, 37)\n(77, 37)\n(77, 37)\n(77, 37)\n(77, 37)\n(77, 37)\n(77, 37)\n(77, 37)\n(77, 37)\n(77, 37)\n(77, 37)\n(77, 37)\n(77, 37)\n(77, 37)\n(77, 37)\n(77, 37)\n(77, 37)\n(77, 37)\n(77, 37)\n(77, 37)\n(77, 37)\n"
     ]
    }
   ],
   "source": [
    "for data in trader_data:\n",
    "    print(data.shape)"
   ]
  },
  {
   "cell_type": "code",
   "execution_count": 52,
   "metadata": {},
   "outputs": [
    {
     "output_type": "execute_result",
     "data": {
      "text/plain": [
       "[[0, 0, 1],\n",
       " [0, 0, 1],\n",
       " [0, 1, 0],\n",
       " [0, 0, 1],\n",
       " [0, 0, 1],\n",
       " [1, 0, 0],\n",
       " [0, 0, 1],\n",
       " [0, 0, 1],\n",
       " [1, 0, 0],\n",
       " [1, 0, 0],\n",
       " [0, 1, 0],\n",
       " [0, 0, 1],\n",
       " [0, 0, 1],\n",
       " [0, 0, 1],\n",
       " [0, 0, 1],\n",
       " [0, 0, 1],\n",
       " [1, 0, 0],\n",
       " [0, 1, 0],\n",
       " [0, 0, 1],\n",
       " [0, 1, 0],\n",
       " [0, 0, 1],\n",
       " [0, 0, 1],\n",
       " [0, 0, 1],\n",
       " [0, 0, 1],\n",
       " [0, 0, 1],\n",
       " [0, 0, 1],\n",
       " [0, 1, 0],\n",
       " [0, 0, 1],\n",
       " [0, 1, 0],\n",
       " [0, 0, 1],\n",
       " [0, 0, 1],\n",
       " [1, 0, 0],\n",
       " [0, 1, 0],\n",
       " [0, 0, 1],\n",
       " [0, 1, 0],\n",
       " [1, 0, 0],\n",
       " [0, 1, 0],\n",
       " [0, 0, 1],\n",
       " [0, 0, 1],\n",
       " [0, 0, 1],\n",
       " [0, 1, 0],\n",
       " [0, 1, 0],\n",
       " [0, 0, 1],\n",
       " [1, 0, 0],\n",
       " [0, 0, 1],\n",
       " [0, 0, 1],\n",
       " [0, 1, 0],\n",
       " [0, 0, 1],\n",
       " [0, 0, 1],\n",
       " [0, 1, 0],\n",
       " [0, 0, 1],\n",
       " [1, 0, 0],\n",
       " [0, 1, 0],\n",
       " [0, 1, 0],\n",
       " [0, 1, 0],\n",
       " [0, 0, 1],\n",
       " [1, 0, 0],\n",
       " [1, 0, 0],\n",
       " [0, 1, 0],\n",
       " [0, 0, 1],\n",
       " [0, 1, 0],\n",
       " [0, 0, 1],\n",
       " [1, 0, 0],\n",
       " [1, 0, 0],\n",
       " [0, 1, 0],\n",
       " [0, 0, 1],\n",
       " [1, 0, 0],\n",
       " [0, 0, 1],\n",
       " [1, 0, 0],\n",
       " [0, 0, 1],\n",
       " [0, 0, 1],\n",
       " [0, 1, 0],\n",
       " [0, 1, 0],\n",
       " [0, 0, 1],\n",
       " [0, 1, 0],\n",
       " [0, 0, 1],\n",
       " [0, 0, 1],\n",
       " [0, 1, 0],\n",
       " [1, 0, 0],\n",
       " [0, 0, 1],\n",
       " [0, 1, 0],\n",
       " [0, 0, 1],\n",
       " [0, 0, 1],\n",
       " [0, 0, 1],\n",
       " [0, 0, 1],\n",
       " [0, 0, 1]]"
      ]
     },
     "metadata": {},
     "execution_count": 52
    }
   ],
   "source": [
    "list(y_train.sort_values(by=['Trader'])['type'].apply(lambda x: [1, 0, 0] if x=='HFT' else ([0, 1, 0] if x=='MIX' else [0, 0, 1])))"
   ]
  },
  {
   "cell_type": "code",
   "execution_count": 95,
   "metadata": {},
   "outputs": [],
   "source": [
    "a = np.vstack(x_train.groupby(['Trader', 'Day']).apply(np.array))"
   ]
  },
  {
   "cell_type": "code",
   "execution_count": 100,
   "metadata": {},
   "outputs": [
    {
     "output_type": "execute_result",
     "data": {
      "text/plain": [
       "array([8, 2, 'Trader_10', 1.326086956521739, 30.5, 30.5, 0.0,\n",
       "       101.49396872997386, 0.0, 0.0, 0.0, 0.000711, 207.46196, 1404.7513,\n",
       "       3.745041, 704.2481918334961, 3.745041, 3.745041, 3.745041,\n",
       "       1404.7513, 1404.7513, 1404.7513, 1, 12, 4.6, 0.000307,\n",
       "       2332.9639597692303, 1207.43965, nan, nan, nan, nan, nan, nan, nan,\n",
       "       nan, nan, 10], dtype=object)"
      ]
     },
     "metadata": {},
     "execution_count": 100
    }
   ],
   "source": [
    "a[0]"
   ]
  },
  {
   "cell_type": "code",
   "execution_count": 99,
   "metadata": {},
   "outputs": [
    {
     "output_type": "execute_result",
     "data": {
      "text/plain": [
       "(1, 1, 1)"
      ]
     },
     "metadata": {},
     "execution_count": 99
    }
   ],
   "source": [
    "b.shape"
   ]
  },
  {
   "cell_type": "code",
   "execution_count": 41,
   "metadata": {},
   "outputs": [],
   "source": [
    "x_train_data = np.array(x_train.drop(['Trader'], axis = 1))"
   ]
  },
  {
   "cell_type": "code",
   "execution_count": 42,
   "metadata": {},
   "outputs": [],
   "source": [
    "ind2type = {0: 'HFT', 1: 'MIX', 2: 'NON HFT'}\n",
    "type2ind = {'HFT': 0, 'MIX': 1, 'NON HFT': 2}"
   ]
  },
  {
   "cell_type": "code",
   "execution_count": 43,
   "metadata": {},
   "outputs": [
    {
     "output_type": "execute_result",
     "data": {
      "text/plain": [
       "        Trader     type\n",
       "0   Trader_285      MIX\n",
       "1   Trader_114  NON HFT\n",
       "2   Trader_110  NON HFT\n",
       "3    Trader_57  NON HFT\n",
       "4   Trader_128  NON HFT\n",
       "..         ...      ...\n",
       "81  Trader_140      MIX\n",
       "82  Trader_451      MIX\n",
       "83  Trader_438      MIX\n",
       "84  Trader_278      HFT\n",
       "85  Trader_330      MIX\n",
       "\n",
       "[86 rows x 2 columns]"
      ],
      "text/html": "<div>\n<style scoped>\n    .dataframe tbody tr th:only-of-type {\n        vertical-align: middle;\n    }\n\n    .dataframe tbody tr th {\n        vertical-align: top;\n    }\n\n    .dataframe thead th {\n        text-align: right;\n    }\n</style>\n<table border=\"1\" class=\"dataframe\">\n  <thead>\n    <tr style=\"text-align: right;\">\n      <th></th>\n      <th>Trader</th>\n      <th>type</th>\n    </tr>\n  </thead>\n  <tbody>\n    <tr>\n      <th>0</th>\n      <td>Trader_285</td>\n      <td>MIX</td>\n    </tr>\n    <tr>\n      <th>1</th>\n      <td>Trader_114</td>\n      <td>NON HFT</td>\n    </tr>\n    <tr>\n      <th>2</th>\n      <td>Trader_110</td>\n      <td>NON HFT</td>\n    </tr>\n    <tr>\n      <th>3</th>\n      <td>Trader_57</td>\n      <td>NON HFT</td>\n    </tr>\n    <tr>\n      <th>4</th>\n      <td>Trader_128</td>\n      <td>NON HFT</td>\n    </tr>\n    <tr>\n      <th>...</th>\n      <td>...</td>\n      <td>...</td>\n    </tr>\n    <tr>\n      <th>81</th>\n      <td>Trader_140</td>\n      <td>MIX</td>\n    </tr>\n    <tr>\n      <th>82</th>\n      <td>Trader_451</td>\n      <td>MIX</td>\n    </tr>\n    <tr>\n      <th>83</th>\n      <td>Trader_438</td>\n      <td>MIX</td>\n    </tr>\n    <tr>\n      <th>84</th>\n      <td>Trader_278</td>\n      <td>HFT</td>\n    </tr>\n    <tr>\n      <th>85</th>\n      <td>Trader_330</td>\n      <td>MIX</td>\n    </tr>\n  </tbody>\n</table>\n<p>86 rows × 2 columns</p>\n</div>"
     },
     "metadata": {},
     "execution_count": 43
    }
   ],
   "source": [
    "y_train"
   ]
  },
  {
   "cell_type": "code",
   "execution_count": 44,
   "metadata": {},
   "outputs": [],
   "source": [
    "name2type = dict(zip(y_train.Trader, y_train.type))"
   ]
  },
  {
   "cell_type": "code",
   "execution_count": 45,
   "metadata": {},
   "outputs": [],
   "source": [
    "x_train = x_train.fillna(-1)"
   ]
  },
  {
   "cell_type": "code",
   "execution_count": 46,
   "metadata": {
    "tags": []
   },
   "outputs": [],
   "source": [
    "x_train['label'] = x_train.apply(lambda row: 0 if name2type[row.Trader] == 'HFT' else (1 if name2type[row.Trader] == 'MIX' else 2), axis=1)"
   ]
  },
  {
   "cell_type": "code",
   "execution_count": 47,
   "metadata": {},
   "outputs": [],
   "source": [
    "y_train_data = x_train['label']"
   ]
  },
  {
   "cell_type": "code",
   "execution_count": 48,
   "metadata": {},
   "outputs": [],
   "source": [
    "from sklearn.model_selection import train_test_split"
   ]
  },
  {
   "cell_type": "code",
   "execution_count": 51,
   "metadata": {},
   "outputs": [],
   "source": [
    "x_train_b, x_test_b, y_train_b, y_test_b = train_test_split(x_train_data, y_train_data, test_size=0.3)"
   ]
  },
  {
   "cell_type": "code",
   "execution_count": 52,
   "metadata": {},
   "outputs": [
    {
     "output_type": "execute_result",
     "data": {
      "text/plain": [
       "RandomForestRegressor(n_estimators=1000, random_state=42)"
      ]
     },
     "metadata": {},
     "execution_count": 52
    }
   ],
   "source": [
    "from sklearn.ensemble import RandomForestRegressor\n",
    "# Instantiate model with 1000 decision trees\n",
    "rf = RandomForestRegressor(n_estimators = 1000, random_state = 42)\n",
    "# Train the model on training data\n",
    "rf.fit(x_train_b, y_train_b)"
   ]
  },
  {
   "cell_type": "code",
   "execution_count": 50,
   "metadata": {},
   "outputs": [],
   "source": [
    "from sklearn.multioutput import MultiOutputClassifier\n",
    "from sklearn.svm import LinearSVC\n",
    "\n",
    "# Create the SVM\n",
    "svm = LinearSVC(random_state=42)\n",
    "\n",
    "# Make it an Multilabel classifier\n",
    "\n",
    "# Fit the data to the Multilabel classifier\n",
    "svm.fit(x_train_b, y_train_b)\n",
    "\n",
    "# Get predictions for test data\n",
    "y_test_pred = svm.predict(x_test_b)"
   ]
  },
  {
   "cell_type": "code",
   "execution_count": 20,
   "metadata": {},
   "outputs": [
    {
     "output_type": "execute_result",
     "data": {
      "text/plain": [
       "0.47981723648968017"
      ]
     },
     "metadata": {},
     "execution_count": 20
    }
   ],
   "source": [
    "len(np.where(y_test_pred == y_test_b)[0]) / len(y_test_b)"
   ]
  },
  {
   "cell_type": "code",
   "execution_count": 23,
   "metadata": {},
   "outputs": [],
   "source": [
    "x_real_test = read_x_train('data/AMF_test_X.csv', includeShare=False, includeDay=False)\n",
    "x_real_test = fill_nan(x_real_test)"
   ]
  },
  {
   "cell_type": "code",
   "execution_count": 24,
   "metadata": {},
   "outputs": [],
   "source": [
    "x_real_test_data = np.array(x_real_test)[:,1:]"
   ]
  },
  {
   "cell_type": "code",
   "execution_count": 25,
   "metadata": {},
   "outputs": [],
   "source": [
    "y_test_predict = svm.predict(x_real_test_data)"
   ]
  },
  {
   "cell_type": "code",
   "execution_count": 26,
   "metadata": {},
   "outputs": [
    {
     "output_type": "execute_result",
     "data": {
      "text/plain": [
       "(85304, 35)"
      ]
     },
     "metadata": {},
     "execution_count": 26
    }
   ],
   "source": [
    "x_real_test_data.shape"
   ]
  },
  {
   "cell_type": "code",
   "execution_count": 27,
   "metadata": {},
   "outputs": [
    {
     "output_type": "execute_result",
     "data": {
      "text/plain": [
       "(105782, 35)"
      ]
     },
     "metadata": {},
     "execution_count": 27
    }
   ],
   "source": [
    "x_train_data.shape"
   ]
  },
  {
   "cell_type": "code",
   "execution_count": 28,
   "metadata": {},
   "outputs": [
    {
     "output_type": "execute_result",
     "data": {
      "text/plain": [
       "array([1, 0, 1, ..., 1, 1, 1], dtype=int64)"
      ]
     },
     "metadata": {},
     "execution_count": 28
    }
   ],
   "source": [
    "y_test_predict\n"
   ]
  },
  {
   "cell_type": "code",
   "execution_count": 29,
   "metadata": {},
   "outputs": [],
   "source": [
    "res = [(row.Trader, y_test_predict[i])  for i, row in x_real_test.iterrows()]\n",
    "    "
   ]
  },
  {
   "cell_type": "code",
   "execution_count": 30,
   "metadata": {},
   "outputs": [],
   "source": [
    "dicts = {}\n",
    "for row in res:\n",
    "    if row[0] in dicts:\n",
    "        dicts[row[0]].append(row[1])\n",
    "    else:\n",
    "        dicts[row[0]] = [row[1]]"
   ]
  },
  {
   "cell_type": "code",
   "execution_count": 31,
   "metadata": {},
   "outputs": [],
   "source": [
    "final = {}\n",
    "for k,v in dicts.items():\n",
    "    if len(np.where(np.array(v) == 0)[0])/len(v) > 0.4:\n",
    "        final[k] = 'HFT'\n",
    "    elif len(np.where(np.array(v) == 0)[0])/len(v) > 0.2:\n",
    "        final[k] = 'MIX'\n",
    "    else:\n",
    "        final[k] = 'NON HFT'"
   ]
  },
  {
   "cell_type": "code",
   "execution_count": 32,
   "metadata": {},
   "outputs": [],
   "source": [
    "import csv\n",
    "(pd.DataFrame.from_dict(data=final, orient='index').to_csv('dict_file.csv'))"
   ]
  },
  {
   "cell_type": "code",
   "execution_count": 162,
   "metadata": {},
   "outputs": [
    {
     "output_type": "execute_result",
     "data": {
      "text/plain": [
       "array([], dtype=int64)"
      ]
     },
     "metadata": {},
     "execution_count": 162
    }
   ],
   "source": [
    "np.where(dicts['Adelaide']==0)[0]"
   ]
  },
  {
   "cell_type": "code",
   "execution_count": 161,
   "metadata": {},
   "outputs": [
    {
     "output_type": "execute_result",
     "data": {
      "text/plain": [
       "[2, 2, 2, 2, 1, 0, 0, 0, 2, 1]"
      ]
     },
     "metadata": {},
     "execution_count": 161
    }
   ],
   "source": [
    "dicts['Adelaide']"
   ]
  },
  {
   "cell_type": "code",
   "execution_count": null,
   "metadata": {},
   "outputs": [],
   "source": []
  }
 ]
}