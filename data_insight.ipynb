{
 "metadata": {
  "language_info": {
   "codemirror_mode": {
    "name": "ipython",
    "version": 3
   },
   "file_extension": ".py",
   "mimetype": "text/x-python",
   "name": "python",
   "nbconvert_exporter": "python",
   "pygments_lexer": "ipython3",
   "version": "3.8.6-final"
  },
  "orig_nbformat": 2,
  "kernelspec": {
   "name": "python3",
   "display_name": "Python 3.8.6 64-bit ('inf581': conda)",
   "metadata": {
    "interpreter": {
     "hash": "65b4a03f8aa35aea76f25802c7b784787b9f74c4de9d71db05e90a9868d81373"
    }
   }
  }
 },
 "nbformat": 4,
 "nbformat_minor": 2,
 "cells": [
  {
   "cell_type": "code",
   "execution_count": 25,
   "metadata": {},
   "outputs": [],
   "source": [
    "import pandas as pd\n",
    "import numpy as np"
   ]
  },
  {
   "cell_type": "code",
   "execution_count": 117,
   "metadata": {},
   "outputs": [],
   "source": [
    "x_train = pd.read_csv('data/AMF_train_X.csv')\n",
    "y_train = pd.read_csv('data/AMF_train_Y.csv')"
   ]
  },
  {
   "cell_type": "code",
   "execution_count": 118,
   "metadata": {},
   "outputs": [
    {
     "output_type": "execute_result",
     "data": {
      "text/plain": [
       "         Index     Share      Day     Trader       OTR         OCR  \\\n",
       "0            1    Isin_8  Date_24  Trader_10  2.272727    8.333333   \n",
       "1            2   Isin_87  Date_29  Trader_10  1.696629   25.166667   \n",
       "2            3   Isin_87  Date_23  Trader_10  1.482759   47.300000   \n",
       "3            4   Isin_12  Date_11  Trader_10  1.705882   14.500000   \n",
       "4            5   Isin_87   Date_9  Trader_10  1.517730   26.750000   \n",
       "...        ...       ...      ...        ...       ...         ...   \n",
       "105777  105778   Isin_84  Date_27  Trader_60  1.150000   23.000000   \n",
       "105778  105779  Isin_102  Date_18  Trader_60  1.352941   23.000000   \n",
       "105779  105780   Isin_12  Date_13  Trader_60  1.146667   86.000000   \n",
       "105780  105781   Isin_27  Date_30  Trader_60  1.179191  204.000000   \n",
       "105781  105782   Isin_47  Date_12  Trader_60  1.178571   66.000000   \n",
       "\n",
       "               OMR  min_time_two_events  mean_time_two_events  \\\n",
       "0        12.500000                  0.0           5117.830300   \n",
       "1        21.571429                  0.0           1846.968401   \n",
       "2       118.250000                  0.0            686.300630   \n",
       "3        29.000000                  0.0           2174.335265   \n",
       "4              NaN                  0.0            944.008551   \n",
       "...            ...                  ...                   ...   \n",
       "105777         NaN                  0.0            736.500080   \n",
       "105778         NaN                  0.0             63.672695   \n",
       "105779         NaN                  0.0            708.440816   \n",
       "105780         NaN                  0.0            384.893976   \n",
       "105781         NaN                  0.0            122.636320   \n",
       "\n",
       "        10_p_time_two_events  ...  min_dt_TV1_TV2  mean_dt_TV1_TV2  \\\n",
       "0                   0.000000  ...             NaN              NaN   \n",
       "1                   0.000074  ...             NaN              NaN   \n",
       "2                   0.000071  ...             NaN              NaN   \n",
       "3                   0.000000  ...             NaN              NaN   \n",
       "4                   0.000071  ...             NaN              NaN   \n",
       "...                      ...  ...             ...              ...   \n",
       "105777              0.000000  ...             NaN              NaN   \n",
       "105778              0.000000  ...             NaN              NaN   \n",
       "105779              0.000000  ...             NaN              NaN   \n",
       "105780              0.000000  ...             NaN              NaN   \n",
       "105781              0.000000  ...             NaN              NaN   \n",
       "\n",
       "        med_dt_TV1_TV2  min_dt_TV1_TV3  mean_dt_TV1_TV3  med_dt_TV1_TV3  \\\n",
       "0                  NaN             NaN              NaN             NaN   \n",
       "1                  NaN             NaN              NaN             NaN   \n",
       "2                  NaN             NaN              NaN             NaN   \n",
       "3                  NaN             NaN              NaN             NaN   \n",
       "4                  NaN             NaN              NaN             NaN   \n",
       "...                ...             ...              ...             ...   \n",
       "105777             NaN             NaN              NaN             NaN   \n",
       "105778             NaN             NaN              NaN             NaN   \n",
       "105779             NaN             NaN              NaN             NaN   \n",
       "105780             NaN             NaN              NaN             NaN   \n",
       "105781             NaN             NaN              NaN             NaN   \n",
       "\n",
       "        min_dt_TV1_TV4  mean_dt_TV1_TV4  med_dt_TV1_TV4  \\\n",
       "0                  NaN              NaN             NaN   \n",
       "1                  NaN              NaN             NaN   \n",
       "2                  NaN              NaN             NaN   \n",
       "3                  NaN              NaN             NaN   \n",
       "4                  NaN              NaN             NaN   \n",
       "...                ...              ...             ...   \n",
       "105777             NaN              NaN             NaN   \n",
       "105778             NaN              NaN             NaN   \n",
       "105779             NaN              NaN             NaN   \n",
       "105780             NaN              NaN             NaN   \n",
       "105781             NaN              NaN             NaN   \n",
       "\n",
       "        NbSecondWithAtLeatOneTrade  \n",
       "0                                4  \n",
       "1                               15  \n",
       "2                               63  \n",
       "3                                4  \n",
       "4                               38  \n",
       "...                            ...  \n",
       "105777                           3  \n",
       "105778                           7  \n",
       "105779                          16  \n",
       "105780                          35  \n",
       "105781                           9  \n",
       "\n",
       "[105782 rows x 39 columns]"
      ],
      "text/html": "<div>\n<style scoped>\n    .dataframe tbody tr th:only-of-type {\n        vertical-align: middle;\n    }\n\n    .dataframe tbody tr th {\n        vertical-align: top;\n    }\n\n    .dataframe thead th {\n        text-align: right;\n    }\n</style>\n<table border=\"1\" class=\"dataframe\">\n  <thead>\n    <tr style=\"text-align: right;\">\n      <th></th>\n      <th>Index</th>\n      <th>Share</th>\n      <th>Day</th>\n      <th>Trader</th>\n      <th>OTR</th>\n      <th>OCR</th>\n      <th>OMR</th>\n      <th>min_time_two_events</th>\n      <th>mean_time_two_events</th>\n      <th>10_p_time_two_events</th>\n      <th>...</th>\n      <th>min_dt_TV1_TV2</th>\n      <th>mean_dt_TV1_TV2</th>\n      <th>med_dt_TV1_TV2</th>\n      <th>min_dt_TV1_TV3</th>\n      <th>mean_dt_TV1_TV3</th>\n      <th>med_dt_TV1_TV3</th>\n      <th>min_dt_TV1_TV4</th>\n      <th>mean_dt_TV1_TV4</th>\n      <th>med_dt_TV1_TV4</th>\n      <th>NbSecondWithAtLeatOneTrade</th>\n    </tr>\n  </thead>\n  <tbody>\n    <tr>\n      <th>0</th>\n      <td>1</td>\n      <td>Isin_8</td>\n      <td>Date_24</td>\n      <td>Trader_10</td>\n      <td>2.272727</td>\n      <td>8.333333</td>\n      <td>12.500000</td>\n      <td>0.0</td>\n      <td>5117.830300</td>\n      <td>0.000000</td>\n      <td>...</td>\n      <td>NaN</td>\n      <td>NaN</td>\n      <td>NaN</td>\n      <td>NaN</td>\n      <td>NaN</td>\n      <td>NaN</td>\n      <td>NaN</td>\n      <td>NaN</td>\n      <td>NaN</td>\n      <td>4</td>\n    </tr>\n    <tr>\n      <th>1</th>\n      <td>2</td>\n      <td>Isin_87</td>\n      <td>Date_29</td>\n      <td>Trader_10</td>\n      <td>1.696629</td>\n      <td>25.166667</td>\n      <td>21.571429</td>\n      <td>0.0</td>\n      <td>1846.968401</td>\n      <td>0.000074</td>\n      <td>...</td>\n      <td>NaN</td>\n      <td>NaN</td>\n      <td>NaN</td>\n      <td>NaN</td>\n      <td>NaN</td>\n      <td>NaN</td>\n      <td>NaN</td>\n      <td>NaN</td>\n      <td>NaN</td>\n      <td>15</td>\n    </tr>\n    <tr>\n      <th>2</th>\n      <td>3</td>\n      <td>Isin_87</td>\n      <td>Date_23</td>\n      <td>Trader_10</td>\n      <td>1.482759</td>\n      <td>47.300000</td>\n      <td>118.250000</td>\n      <td>0.0</td>\n      <td>686.300630</td>\n      <td>0.000071</td>\n      <td>...</td>\n      <td>NaN</td>\n      <td>NaN</td>\n      <td>NaN</td>\n      <td>NaN</td>\n      <td>NaN</td>\n      <td>NaN</td>\n      <td>NaN</td>\n      <td>NaN</td>\n      <td>NaN</td>\n      <td>63</td>\n    </tr>\n    <tr>\n      <th>3</th>\n      <td>4</td>\n      <td>Isin_12</td>\n      <td>Date_11</td>\n      <td>Trader_10</td>\n      <td>1.705882</td>\n      <td>14.500000</td>\n      <td>29.000000</td>\n      <td>0.0</td>\n      <td>2174.335265</td>\n      <td>0.000000</td>\n      <td>...</td>\n      <td>NaN</td>\n      <td>NaN</td>\n      <td>NaN</td>\n      <td>NaN</td>\n      <td>NaN</td>\n      <td>NaN</td>\n      <td>NaN</td>\n      <td>NaN</td>\n      <td>NaN</td>\n      <td>4</td>\n    </tr>\n    <tr>\n      <th>4</th>\n      <td>5</td>\n      <td>Isin_87</td>\n      <td>Date_9</td>\n      <td>Trader_10</td>\n      <td>1.517730</td>\n      <td>26.750000</td>\n      <td>NaN</td>\n      <td>0.0</td>\n      <td>944.008551</td>\n      <td>0.000071</td>\n      <td>...</td>\n      <td>NaN</td>\n      <td>NaN</td>\n      <td>NaN</td>\n      <td>NaN</td>\n      <td>NaN</td>\n      <td>NaN</td>\n      <td>NaN</td>\n      <td>NaN</td>\n      <td>NaN</td>\n      <td>38</td>\n    </tr>\n    <tr>\n      <th>...</th>\n      <td>...</td>\n      <td>...</td>\n      <td>...</td>\n      <td>...</td>\n      <td>...</td>\n      <td>...</td>\n      <td>...</td>\n      <td>...</td>\n      <td>...</td>\n      <td>...</td>\n      <td>...</td>\n      <td>...</td>\n      <td>...</td>\n      <td>...</td>\n      <td>...</td>\n      <td>...</td>\n      <td>...</td>\n      <td>...</td>\n      <td>...</td>\n      <td>...</td>\n      <td>...</td>\n    </tr>\n    <tr>\n      <th>105777</th>\n      <td>105778</td>\n      <td>Isin_84</td>\n      <td>Date_27</td>\n      <td>Trader_60</td>\n      <td>1.150000</td>\n      <td>23.000000</td>\n      <td>NaN</td>\n      <td>0.0</td>\n      <td>736.500080</td>\n      <td>0.000000</td>\n      <td>...</td>\n      <td>NaN</td>\n      <td>NaN</td>\n      <td>NaN</td>\n      <td>NaN</td>\n      <td>NaN</td>\n      <td>NaN</td>\n      <td>NaN</td>\n      <td>NaN</td>\n      <td>NaN</td>\n      <td>3</td>\n    </tr>\n    <tr>\n      <th>105778</th>\n      <td>105779</td>\n      <td>Isin_102</td>\n      <td>Date_18</td>\n      <td>Trader_60</td>\n      <td>1.352941</td>\n      <td>23.000000</td>\n      <td>NaN</td>\n      <td>0.0</td>\n      <td>63.672695</td>\n      <td>0.000000</td>\n      <td>...</td>\n      <td>NaN</td>\n      <td>NaN</td>\n      <td>NaN</td>\n      <td>NaN</td>\n      <td>NaN</td>\n      <td>NaN</td>\n      <td>NaN</td>\n      <td>NaN</td>\n      <td>NaN</td>\n      <td>7</td>\n    </tr>\n    <tr>\n      <th>105779</th>\n      <td>105780</td>\n      <td>Isin_12</td>\n      <td>Date_13</td>\n      <td>Trader_60</td>\n      <td>1.146667</td>\n      <td>86.000000</td>\n      <td>NaN</td>\n      <td>0.0</td>\n      <td>708.440816</td>\n      <td>0.000000</td>\n      <td>...</td>\n      <td>NaN</td>\n      <td>NaN</td>\n      <td>NaN</td>\n      <td>NaN</td>\n      <td>NaN</td>\n      <td>NaN</td>\n      <td>NaN</td>\n      <td>NaN</td>\n      <td>NaN</td>\n      <td>16</td>\n    </tr>\n    <tr>\n      <th>105780</th>\n      <td>105781</td>\n      <td>Isin_27</td>\n      <td>Date_30</td>\n      <td>Trader_60</td>\n      <td>1.179191</td>\n      <td>204.000000</td>\n      <td>NaN</td>\n      <td>0.0</td>\n      <td>384.893976</td>\n      <td>0.000000</td>\n      <td>...</td>\n      <td>NaN</td>\n      <td>NaN</td>\n      <td>NaN</td>\n      <td>NaN</td>\n      <td>NaN</td>\n      <td>NaN</td>\n      <td>NaN</td>\n      <td>NaN</td>\n      <td>NaN</td>\n      <td>35</td>\n    </tr>\n    <tr>\n      <th>105781</th>\n      <td>105782</td>\n      <td>Isin_47</td>\n      <td>Date_12</td>\n      <td>Trader_60</td>\n      <td>1.178571</td>\n      <td>66.000000</td>\n      <td>NaN</td>\n      <td>0.0</td>\n      <td>122.636320</td>\n      <td>0.000000</td>\n      <td>...</td>\n      <td>NaN</td>\n      <td>NaN</td>\n      <td>NaN</td>\n      <td>NaN</td>\n      <td>NaN</td>\n      <td>NaN</td>\n      <td>NaN</td>\n      <td>NaN</td>\n      <td>NaN</td>\n      <td>9</td>\n    </tr>\n  </tbody>\n</table>\n<p>105782 rows × 39 columns</p>\n</div>"
     },
     "metadata": {},
     "execution_count": 118
    }
   ],
   "source": [
    "x_train"
   ]
  },
  {
   "cell_type": "code",
   "execution_count": 16,
   "metadata": {},
   "outputs": [
    {
     "output_type": "execute_result",
     "data": {
      "text/plain": [
       "        Trader     type\n",
       "0   Trader_285      MIX\n",
       "1   Trader_114  NON HFT\n",
       "2   Trader_110  NON HFT\n",
       "3    Trader_57  NON HFT\n",
       "4   Trader_128  NON HFT\n",
       "..         ...      ...\n",
       "81  Trader_140      MIX\n",
       "82  Trader_451      MIX\n",
       "83  Trader_438      MIX\n",
       "84  Trader_278      HFT\n",
       "85  Trader_330      MIX\n",
       "\n",
       "[86 rows x 2 columns]"
      ],
      "text/html": "<div>\n<style scoped>\n    .dataframe tbody tr th:only-of-type {\n        vertical-align: middle;\n    }\n\n    .dataframe tbody tr th {\n        vertical-align: top;\n    }\n\n    .dataframe thead th {\n        text-align: right;\n    }\n</style>\n<table border=\"1\" class=\"dataframe\">\n  <thead>\n    <tr style=\"text-align: right;\">\n      <th></th>\n      <th>Trader</th>\n      <th>type</th>\n    </tr>\n  </thead>\n  <tbody>\n    <tr>\n      <th>0</th>\n      <td>Trader_285</td>\n      <td>MIX</td>\n    </tr>\n    <tr>\n      <th>1</th>\n      <td>Trader_114</td>\n      <td>NON HFT</td>\n    </tr>\n    <tr>\n      <th>2</th>\n      <td>Trader_110</td>\n      <td>NON HFT</td>\n    </tr>\n    <tr>\n      <th>3</th>\n      <td>Trader_57</td>\n      <td>NON HFT</td>\n    </tr>\n    <tr>\n      <th>4</th>\n      <td>Trader_128</td>\n      <td>NON HFT</td>\n    </tr>\n    <tr>\n      <th>...</th>\n      <td>...</td>\n      <td>...</td>\n    </tr>\n    <tr>\n      <th>81</th>\n      <td>Trader_140</td>\n      <td>MIX</td>\n    </tr>\n    <tr>\n      <th>82</th>\n      <td>Trader_451</td>\n      <td>MIX</td>\n    </tr>\n    <tr>\n      <th>83</th>\n      <td>Trader_438</td>\n      <td>MIX</td>\n    </tr>\n    <tr>\n      <th>84</th>\n      <td>Trader_278</td>\n      <td>HFT</td>\n    </tr>\n    <tr>\n      <th>85</th>\n      <td>Trader_330</td>\n      <td>MIX</td>\n    </tr>\n  </tbody>\n</table>\n<p>86 rows × 2 columns</p>\n</div>"
     },
     "metadata": {},
     "execution_count": 16
    }
   ],
   "source": [
    "y_train"
   ]
  },
  {
   "cell_type": "code",
   "execution_count": 18,
   "metadata": {},
   "outputs": [],
   "source": [
    "n_rows, n_cols = x_train.shape"
   ]
  },
  {
   "source": [
    "### The NaN ratio in each columns"
   ],
   "cell_type": "markdown",
   "metadata": {}
  },
  {
   "cell_type": "code",
   "execution_count": 21,
   "metadata": {},
   "outputs": [
    {
     "output_type": "execute_result",
     "data": {
      "text/plain": [
       "Index                         0.000000\n",
       "Share                         0.000000\n",
       "Day                           0.000000\n",
       "Trader                        0.000000\n",
       "OTR                           0.015910\n",
       "OCR                           0.000000\n",
       "OMR                           0.450095\n",
       "min_time_two_events           0.000000\n",
       "mean_time_two_events          0.000000\n",
       "10_p_time_two_events          0.000000\n",
       "med_time_two_events           0.000000\n",
       "25_p_time_two_events          0.000000\n",
       "75_p_time_two_events          0.000000\n",
       "90_p_time_two_events          0.000000\n",
       "max_time_two_events           0.000000\n",
       "min_lifetime_cancel           0.000000\n",
       "mean_lifetime_cancel          0.000000\n",
       "10_p_lifetime_cancel          0.000000\n",
       "med_lifetime_cancel           0.000000\n",
       "25_p_lifetime_cancel          0.000000\n",
       "75_p_lifetime_cancel          0.000000\n",
       "90_p_lifetime_cancel          0.000000\n",
       "max_lifetime_cancel           0.000000\n",
       "NbTradeVenueMic               0.000000\n",
       "MaxNbTradesBySecond           0.000000\n",
       "MeanNbTradesBySecond          0.000000\n",
       "min_dt_TV1                    0.040035\n",
       "mean_dt_TV1                   0.040035\n",
       "med_dt_TV1                    0.040035\n",
       "min_dt_TV1_TV2                0.237999\n",
       "mean_dt_TV1_TV2               0.237999\n",
       "med_dt_TV1_TV2                0.237999\n",
       "min_dt_TV1_TV3                0.238746\n",
       "mean_dt_TV1_TV3               0.238746\n",
       "med_dt_TV1_TV3                0.238746\n",
       "min_dt_TV1_TV4                0.237734\n",
       "mean_dt_TV1_TV4               0.237734\n",
       "med_dt_TV1_TV4                0.237734\n",
       "NbSecondWithAtLeatOneTrade    0.000000\n",
       "dtype: float64"
      ]
     },
     "metadata": {},
     "execution_count": 21
    }
   ],
   "source": [
    "x_train.isnull().sum()/n_rows"
   ]
  },
  {
   "cell_type": "code",
   "execution_count": 120,
   "metadata": {},
   "outputs": [],
   "source": [
    "x_train_data = np.array(x_train)[:,4:]"
   ]
  },
  {
   "cell_type": "code",
   "execution_count": 30,
   "metadata": {},
   "outputs": [],
   "source": [
    "ind2type = {0: 'HFT', 1: 'MIX', 2: 'NON HFT'}\n",
    "type2ind = {'HFT': 0, 'MIX': 1, 'NON HFT': 2}"
   ]
  },
  {
   "cell_type": "code",
   "execution_count": 31,
   "metadata": {},
   "outputs": [
    {
     "output_type": "execute_result",
     "data": {
      "text/plain": [
       "        Trader     type\n",
       "0   Trader_285      MIX\n",
       "1   Trader_114  NON HFT\n",
       "2   Trader_110  NON HFT\n",
       "3    Trader_57  NON HFT\n",
       "4   Trader_128  NON HFT\n",
       "..         ...      ...\n",
       "81  Trader_140      MIX\n",
       "82  Trader_451      MIX\n",
       "83  Trader_438      MIX\n",
       "84  Trader_278      HFT\n",
       "85  Trader_330      MIX\n",
       "\n",
       "[86 rows x 2 columns]"
      ],
      "text/html": "<div>\n<style scoped>\n    .dataframe tbody tr th:only-of-type {\n        vertical-align: middle;\n    }\n\n    .dataframe tbody tr th {\n        vertical-align: top;\n    }\n\n    .dataframe thead th {\n        text-align: right;\n    }\n</style>\n<table border=\"1\" class=\"dataframe\">\n  <thead>\n    <tr style=\"text-align: right;\">\n      <th></th>\n      <th>Trader</th>\n      <th>type</th>\n    </tr>\n  </thead>\n  <tbody>\n    <tr>\n      <th>0</th>\n      <td>Trader_285</td>\n      <td>MIX</td>\n    </tr>\n    <tr>\n      <th>1</th>\n      <td>Trader_114</td>\n      <td>NON HFT</td>\n    </tr>\n    <tr>\n      <th>2</th>\n      <td>Trader_110</td>\n      <td>NON HFT</td>\n    </tr>\n    <tr>\n      <th>3</th>\n      <td>Trader_57</td>\n      <td>NON HFT</td>\n    </tr>\n    <tr>\n      <th>4</th>\n      <td>Trader_128</td>\n      <td>NON HFT</td>\n    </tr>\n    <tr>\n      <th>...</th>\n      <td>...</td>\n      <td>...</td>\n    </tr>\n    <tr>\n      <th>81</th>\n      <td>Trader_140</td>\n      <td>MIX</td>\n    </tr>\n    <tr>\n      <th>82</th>\n      <td>Trader_451</td>\n      <td>MIX</td>\n    </tr>\n    <tr>\n      <th>83</th>\n      <td>Trader_438</td>\n      <td>MIX</td>\n    </tr>\n    <tr>\n      <th>84</th>\n      <td>Trader_278</td>\n      <td>HFT</td>\n    </tr>\n    <tr>\n      <th>85</th>\n      <td>Trader_330</td>\n      <td>MIX</td>\n    </tr>\n  </tbody>\n</table>\n<p>86 rows × 2 columns</p>\n</div>"
     },
     "metadata": {},
     "execution_count": 31
    }
   ],
   "source": [
    "y_train"
   ]
  },
  {
   "cell_type": "code",
   "execution_count": 44,
   "metadata": {},
   "outputs": [],
   "source": [
    "name2type = dict(zip(y_train.Trader, y_train.type))"
   ]
  },
  {
   "cell_type": "code",
   "execution_count": 119,
   "metadata": {},
   "outputs": [],
   "source": [
    "x_train = x_train.fillna(-1)"
   ]
  },
  {
   "cell_type": "code",
   "execution_count": 75,
   "metadata": {
    "tags": []
   },
   "outputs": [],
   "source": [
    "x_train['label'] = x_train.apply(lambda row: 0 if name2type[row.Trader] == 'HFT' else (1 if name2type[row.Trader] == 'MIX' else 2), axis=1)"
   ]
  },
  {
   "cell_type": "code",
   "execution_count": 76,
   "metadata": {},
   "outputs": [],
   "source": [
    "y_train_data = x_train['label']"
   ]
  },
  {
   "cell_type": "code",
   "execution_count": 77,
   "metadata": {},
   "outputs": [],
   "source": [
    "from sklearn.model_selection import train_test_split"
   ]
  },
  {
   "cell_type": "code",
   "execution_count": 121,
   "metadata": {},
   "outputs": [],
   "source": [
    "x_train_b, x_test_b, y_train_b, y_test_b = train_test_split(x_train_data, y_train_data, test_size=0.3)"
   ]
  },
  {
   "cell_type": "code",
   "execution_count": 122,
   "metadata": {},
   "outputs": [],
   "source": [
    "from sklearn.multioutput import MultiOutputClassifier\n",
    "from sklearn.svm import LinearSVC\n",
    "\n",
    "# Create the SVM\n",
    "svm = LinearSVC(random_state=42)\n",
    "\n",
    "# Make it an Multilabel classifier\n",
    "\n",
    "# Fit the data to the Multilabel classifier\n",
    "svm.fit(x_train_b, y_train_b)\n",
    "\n",
    "# Get predictions for test data\n",
    "y_test_pred = svm.predict(x_test_b)"
   ]
  },
  {
   "cell_type": "code",
   "execution_count": 123,
   "metadata": {},
   "outputs": [
    {
     "output_type": "execute_result",
     "data": {
      "text/plain": [
       "0.4761934772333386"
      ]
     },
     "metadata": {},
     "execution_count": 123
    }
   ],
   "source": [
    "len(np.where(y_test_pred == y_test_b)[0]) / len(y_test_b)"
   ]
  },
  {
   "cell_type": "code",
   "execution_count": 124,
   "metadata": {},
   "outputs": [],
   "source": [
    "x_real_test = pd.read_csv('data/AMF_test_X.csv')"
   ]
  },
  {
   "cell_type": "code",
   "execution_count": 125,
   "metadata": {},
   "outputs": [],
   "source": [
    "x_real_test_data = np.array(x_real_test.fillna(-1))[:,4:]"
   ]
  },
  {
   "cell_type": "code",
   "execution_count": 126,
   "metadata": {},
   "outputs": [],
   "source": [
    "y_test_predict = svm.predict(x_real_test_data)"
   ]
  },
  {
   "cell_type": "code",
   "execution_count": 127,
   "metadata": {},
   "outputs": [
    {
     "output_type": "execute_result",
     "data": {
      "text/plain": [
       "(85304, 35)"
      ]
     },
     "metadata": {},
     "execution_count": 127
    }
   ],
   "source": [
    "x_real_test_data.shape"
   ]
  },
  {
   "cell_type": "code",
   "execution_count": 128,
   "metadata": {},
   "outputs": [
    {
     "output_type": "execute_result",
     "data": {
      "text/plain": [
       "(105782, 35)"
      ]
     },
     "metadata": {},
     "execution_count": 128
    }
   ],
   "source": [
    "x_train_data.shape"
   ]
  },
  {
   "cell_type": "code",
   "execution_count": 129,
   "metadata": {},
   "outputs": [
    {
     "output_type": "execute_result",
     "data": {
      "text/plain": [
       "array([2, 2, 2, ..., 1, 1, 1], dtype=int64)"
      ]
     },
     "metadata": {},
     "execution_count": 129
    }
   ],
   "source": [
    "y_test_predict\n"
   ]
  },
  {
   "cell_type": "code",
   "execution_count": 131,
   "metadata": {},
   "outputs": [],
   "source": [
    "res = [(row.Trader, y_test_predict[i])  for i, row in x_real_test.iterrows()]\n",
    "    "
   ]
  },
  {
   "cell_type": "code",
   "execution_count": 133,
   "metadata": {},
   "outputs": [],
   "source": [
    "dicts = {}\n",
    "for row in res:\n",
    "    if row[0] in dicts:\n",
    "        dicts[row[0]].append(row[1])\n",
    "    else:\n",
    "        dicts[row[0]] = [row[1]]"
   ]
  },
  {
   "cell_type": "code",
   "execution_count": 142,
   "metadata": {},
   "outputs": [],
   "source": [
    "final = {}\n",
    "for k,v in dicts.items():\n",
    "    if len(np.where(v == 0)[0])/len(v) > 0.7:\n",
    "        final[k] = 'HFT'\n",
    "    elif len(np.where(v == 0)[0])/len(v) > 0.3:\n",
    "        final[k] = 'MIX'\n",
    "    else:\n",
    "        final[k] = 'NON HFT'"
   ]
  },
  {
   "cell_type": "code",
   "execution_count": 150,
   "metadata": {},
   "outputs": [],
   "source": [
    "import csv\n",
    "(pd.DataFrame.from_dict(data=final, orient='index').to_csv('dict_file.csv'))"
   ]
  },
  {
   "cell_type": "code",
   "execution_count": null,
   "metadata": {},
   "outputs": [],
   "source": []
  }
 ]
}