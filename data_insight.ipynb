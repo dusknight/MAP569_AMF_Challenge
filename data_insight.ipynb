{
 "metadata": {
  "language_info": {
   "codemirror_mode": {
    "name": "ipython",
    "version": 3
   },
   "file_extension": ".py",
   "mimetype": "text/x-python",
   "name": "python",
   "nbconvert_exporter": "python",
   "pygments_lexer": "ipython3",
   "version": "3.8.3-final"
  },
  "orig_nbformat": 2,
  "kernelspec": {
   "name": "python3",
   "display_name": "Python 3",
   "language": "python"
  }
 },
 "nbformat": 4,
 "nbformat_minor": 2,
 "cells": [
  {
   "cell_type": "code",
   "execution_count": 1,
   "metadata": {},
   "outputs": [],
   "source": [
    "import pandas as pd\n",
    "import numpy as np\n",
    "from sklearn import preprocessing"
   ]
  },
  {
   "cell_type": "code",
   "execution_count": 2,
   "metadata": {},
   "outputs": [],
   "source": [
    "y_train = pd.read_csv('data/AMF_train_Y.csv')"
   ]
  },
  {
   "cell_type": "code",
   "execution_count": 3,
   "metadata": {},
   "outputs": [],
   "source": [
    "from helper import read_x_train, fill_nan\n",
    "x_train = read_x_train('data/AMF_train_X.csv', includeShare=True, includeDay=True)"
   ]
  },
  {
   "cell_type": "code",
   "execution_count": 4,
   "metadata": {},
   "outputs": [
    {
     "output_type": "execute_result",
     "data": {
      "text/plain": [
       "         Trader\n",
       "type           \n",
       "HFT          15\n",
       "MIX          24\n",
       "NON HFT      47"
      ],
      "text/html": "<div>\n<style scoped>\n    .dataframe tbody tr th:only-of-type {\n        vertical-align: middle;\n    }\n\n    .dataframe tbody tr th {\n        vertical-align: top;\n    }\n\n    .dataframe thead th {\n        text-align: right;\n    }\n</style>\n<table border=\"1\" class=\"dataframe\">\n  <thead>\n    <tr style=\"text-align: right;\">\n      <th></th>\n      <th>Trader</th>\n    </tr>\n    <tr>\n      <th>type</th>\n      <th></th>\n    </tr>\n  </thead>\n  <tbody>\n    <tr>\n      <th>HFT</th>\n      <td>15</td>\n    </tr>\n    <tr>\n      <th>MIX</th>\n      <td>24</td>\n    </tr>\n    <tr>\n      <th>NON HFT</th>\n      <td>47</td>\n    </tr>\n  </tbody>\n</table>\n</div>"
     },
     "metadata": {},
     "execution_count": 4
    }
   ],
   "source": [
    "y_train.groupby('type').count()"
   ]
  },
  {
   "cell_type": "code",
   "execution_count": 5,
   "metadata": {},
   "outputs": [],
   "source": [
    "name2type = dict(zip(y_train.Trader, y_train.type))"
   ]
  },
  {
   "cell_type": "code",
   "execution_count": 6,
   "metadata": {},
   "outputs": [],
   "source": [
    "n_rows, n_cols = x_train.shape"
   ]
  },
  {
   "cell_type": "code",
   "execution_count": 7,
   "metadata": {},
   "outputs": [
    {
     "output_type": "execute_result",
     "data": {
      "text/plain": [
       "        Share  Day     Trader       OTR         OCR         OMR  \\\n",
       "0           8   24  Trader_10  2.272727    8.333333   12.500000   \n",
       "1          87   29  Trader_10  1.696629   25.166667   21.571429   \n",
       "2          87   23  Trader_10  1.482759   47.300000  118.250000   \n",
       "3          12   11  Trader_10  1.705882   14.500000   29.000000   \n",
       "4          87    9  Trader_10  1.517730   26.750000         NaN   \n",
       "...       ...  ...        ...       ...         ...         ...   \n",
       "105777     84   27  Trader_60  1.150000   23.000000         NaN   \n",
       "105778    102   18  Trader_60  1.352941   23.000000         NaN   \n",
       "105779     12   13  Trader_60  1.146667   86.000000         NaN   \n",
       "105780     27   30  Trader_60  1.179191  204.000000         NaN   \n",
       "105781     47   12  Trader_60  1.178571   66.000000         NaN   \n",
       "\n",
       "        min_time_two_events  mean_time_two_events  10_p_time_two_events  \\\n",
       "0                       0.0           5117.830300              0.000000   \n",
       "1                       0.0           1846.968401              0.000074   \n",
       "2                       0.0            686.300630              0.000071   \n",
       "3                       0.0           2174.335265              0.000000   \n",
       "4                       0.0            944.008551              0.000071   \n",
       "...                     ...                   ...                   ...   \n",
       "105777                  0.0            736.500080              0.000000   \n",
       "105778                  0.0             63.672695              0.000000   \n",
       "105779                  0.0            708.440816              0.000000   \n",
       "105780                  0.0            384.893976              0.000000   \n",
       "105781                  0.0            122.636320              0.000000   \n",
       "\n",
       "        med_time_two_events  ...  min_dt_TV1_TV2  mean_dt_TV1_TV2  \\\n",
       "0                419.688500  ...             NaN              NaN   \n",
       "1                  0.003374  ...             NaN              NaN   \n",
       "2                  0.000599  ...             NaN              NaN   \n",
       "3                  6.152666  ...             NaN              NaN   \n",
       "4                  0.001364  ...             NaN              NaN   \n",
       "...                     ...  ...             ...              ...   \n",
       "105777             0.000188  ...             NaN              NaN   \n",
       "105778             0.000963  ...             NaN              NaN   \n",
       "105779             0.000578  ...             NaN              NaN   \n",
       "105780             0.000536  ...             NaN              NaN   \n",
       "105781             0.000689  ...             NaN              NaN   \n",
       "\n",
       "        med_dt_TV1_TV2  min_dt_TV1_TV3  mean_dt_TV1_TV3  med_dt_TV1_TV3  \\\n",
       "0                  NaN             NaN              NaN             NaN   \n",
       "1                  NaN             NaN              NaN             NaN   \n",
       "2                  NaN             NaN              NaN             NaN   \n",
       "3                  NaN             NaN              NaN             NaN   \n",
       "4                  NaN             NaN              NaN             NaN   \n",
       "...                ...             ...              ...             ...   \n",
       "105777             NaN             NaN              NaN             NaN   \n",
       "105778             NaN             NaN              NaN             NaN   \n",
       "105779             NaN             NaN              NaN             NaN   \n",
       "105780             NaN             NaN              NaN             NaN   \n",
       "105781             NaN             NaN              NaN             NaN   \n",
       "\n",
       "        min_dt_TV1_TV4  mean_dt_TV1_TV4  med_dt_TV1_TV4  \\\n",
       "0                  NaN              NaN             NaN   \n",
       "1                  NaN              NaN             NaN   \n",
       "2                  NaN              NaN             NaN   \n",
       "3                  NaN              NaN             NaN   \n",
       "4                  NaN              NaN             NaN   \n",
       "...                ...              ...             ...   \n",
       "105777             NaN              NaN             NaN   \n",
       "105778             NaN              NaN             NaN   \n",
       "105779             NaN              NaN             NaN   \n",
       "105780             NaN              NaN             NaN   \n",
       "105781             NaN              NaN             NaN   \n",
       "\n",
       "        NbSecondWithAtLeatOneTrade  \n",
       "0                                4  \n",
       "1                               15  \n",
       "2                               63  \n",
       "3                                4  \n",
       "4                               38  \n",
       "...                            ...  \n",
       "105777                           3  \n",
       "105778                           7  \n",
       "105779                          16  \n",
       "105780                          35  \n",
       "105781                           9  \n",
       "\n",
       "[105782 rows x 38 columns]"
      ],
      "text/html": "<div>\n<style scoped>\n    .dataframe tbody tr th:only-of-type {\n        vertical-align: middle;\n    }\n\n    .dataframe tbody tr th {\n        vertical-align: top;\n    }\n\n    .dataframe thead th {\n        text-align: right;\n    }\n</style>\n<table border=\"1\" class=\"dataframe\">\n  <thead>\n    <tr style=\"text-align: right;\">\n      <th></th>\n      <th>Share</th>\n      <th>Day</th>\n      <th>Trader</th>\n      <th>OTR</th>\n      <th>OCR</th>\n      <th>OMR</th>\n      <th>min_time_two_events</th>\n      <th>mean_time_two_events</th>\n      <th>10_p_time_two_events</th>\n      <th>med_time_two_events</th>\n      <th>...</th>\n      <th>min_dt_TV1_TV2</th>\n      <th>mean_dt_TV1_TV2</th>\n      <th>med_dt_TV1_TV2</th>\n      <th>min_dt_TV1_TV3</th>\n      <th>mean_dt_TV1_TV3</th>\n      <th>med_dt_TV1_TV3</th>\n      <th>min_dt_TV1_TV4</th>\n      <th>mean_dt_TV1_TV4</th>\n      <th>med_dt_TV1_TV4</th>\n      <th>NbSecondWithAtLeatOneTrade</th>\n    </tr>\n  </thead>\n  <tbody>\n    <tr>\n      <th>0</th>\n      <td>8</td>\n      <td>24</td>\n      <td>Trader_10</td>\n      <td>2.272727</td>\n      <td>8.333333</td>\n      <td>12.500000</td>\n      <td>0.0</td>\n      <td>5117.830300</td>\n      <td>0.000000</td>\n      <td>419.688500</td>\n      <td>...</td>\n      <td>NaN</td>\n      <td>NaN</td>\n      <td>NaN</td>\n      <td>NaN</td>\n      <td>NaN</td>\n      <td>NaN</td>\n      <td>NaN</td>\n      <td>NaN</td>\n      <td>NaN</td>\n      <td>4</td>\n    </tr>\n    <tr>\n      <th>1</th>\n      <td>87</td>\n      <td>29</td>\n      <td>Trader_10</td>\n      <td>1.696629</td>\n      <td>25.166667</td>\n      <td>21.571429</td>\n      <td>0.0</td>\n      <td>1846.968401</td>\n      <td>0.000074</td>\n      <td>0.003374</td>\n      <td>...</td>\n      <td>NaN</td>\n      <td>NaN</td>\n      <td>NaN</td>\n      <td>NaN</td>\n      <td>NaN</td>\n      <td>NaN</td>\n      <td>NaN</td>\n      <td>NaN</td>\n      <td>NaN</td>\n      <td>15</td>\n    </tr>\n    <tr>\n      <th>2</th>\n      <td>87</td>\n      <td>23</td>\n      <td>Trader_10</td>\n      <td>1.482759</td>\n      <td>47.300000</td>\n      <td>118.250000</td>\n      <td>0.0</td>\n      <td>686.300630</td>\n      <td>0.000071</td>\n      <td>0.000599</td>\n      <td>...</td>\n      <td>NaN</td>\n      <td>NaN</td>\n      <td>NaN</td>\n      <td>NaN</td>\n      <td>NaN</td>\n      <td>NaN</td>\n      <td>NaN</td>\n      <td>NaN</td>\n      <td>NaN</td>\n      <td>63</td>\n    </tr>\n    <tr>\n      <th>3</th>\n      <td>12</td>\n      <td>11</td>\n      <td>Trader_10</td>\n      <td>1.705882</td>\n      <td>14.500000</td>\n      <td>29.000000</td>\n      <td>0.0</td>\n      <td>2174.335265</td>\n      <td>0.000000</td>\n      <td>6.152666</td>\n      <td>...</td>\n      <td>NaN</td>\n      <td>NaN</td>\n      <td>NaN</td>\n      <td>NaN</td>\n      <td>NaN</td>\n      <td>NaN</td>\n      <td>NaN</td>\n      <td>NaN</td>\n      <td>NaN</td>\n      <td>4</td>\n    </tr>\n    <tr>\n      <th>4</th>\n      <td>87</td>\n      <td>9</td>\n      <td>Trader_10</td>\n      <td>1.517730</td>\n      <td>26.750000</td>\n      <td>NaN</td>\n      <td>0.0</td>\n      <td>944.008551</td>\n      <td>0.000071</td>\n      <td>0.001364</td>\n      <td>...</td>\n      <td>NaN</td>\n      <td>NaN</td>\n      <td>NaN</td>\n      <td>NaN</td>\n      <td>NaN</td>\n      <td>NaN</td>\n      <td>NaN</td>\n      <td>NaN</td>\n      <td>NaN</td>\n      <td>38</td>\n    </tr>\n    <tr>\n      <th>...</th>\n      <td>...</td>\n      <td>...</td>\n      <td>...</td>\n      <td>...</td>\n      <td>...</td>\n      <td>...</td>\n      <td>...</td>\n      <td>...</td>\n      <td>...</td>\n      <td>...</td>\n      <td>...</td>\n      <td>...</td>\n      <td>...</td>\n      <td>...</td>\n      <td>...</td>\n      <td>...</td>\n      <td>...</td>\n      <td>...</td>\n      <td>...</td>\n      <td>...</td>\n      <td>...</td>\n    </tr>\n    <tr>\n      <th>105777</th>\n      <td>84</td>\n      <td>27</td>\n      <td>Trader_60</td>\n      <td>1.150000</td>\n      <td>23.000000</td>\n      <td>NaN</td>\n      <td>0.0</td>\n      <td>736.500080</td>\n      <td>0.000000</td>\n      <td>0.000188</td>\n      <td>...</td>\n      <td>NaN</td>\n      <td>NaN</td>\n      <td>NaN</td>\n      <td>NaN</td>\n      <td>NaN</td>\n      <td>NaN</td>\n      <td>NaN</td>\n      <td>NaN</td>\n      <td>NaN</td>\n      <td>3</td>\n    </tr>\n    <tr>\n      <th>105778</th>\n      <td>102</td>\n      <td>18</td>\n      <td>Trader_60</td>\n      <td>1.352941</td>\n      <td>23.000000</td>\n      <td>NaN</td>\n      <td>0.0</td>\n      <td>63.672695</td>\n      <td>0.000000</td>\n      <td>0.000963</td>\n      <td>...</td>\n      <td>NaN</td>\n      <td>NaN</td>\n      <td>NaN</td>\n      <td>NaN</td>\n      <td>NaN</td>\n      <td>NaN</td>\n      <td>NaN</td>\n      <td>NaN</td>\n      <td>NaN</td>\n      <td>7</td>\n    </tr>\n    <tr>\n      <th>105779</th>\n      <td>12</td>\n      <td>13</td>\n      <td>Trader_60</td>\n      <td>1.146667</td>\n      <td>86.000000</td>\n      <td>NaN</td>\n      <td>0.0</td>\n      <td>708.440816</td>\n      <td>0.000000</td>\n      <td>0.000578</td>\n      <td>...</td>\n      <td>NaN</td>\n      <td>NaN</td>\n      <td>NaN</td>\n      <td>NaN</td>\n      <td>NaN</td>\n      <td>NaN</td>\n      <td>NaN</td>\n      <td>NaN</td>\n      <td>NaN</td>\n      <td>16</td>\n    </tr>\n    <tr>\n      <th>105780</th>\n      <td>27</td>\n      <td>30</td>\n      <td>Trader_60</td>\n      <td>1.179191</td>\n      <td>204.000000</td>\n      <td>NaN</td>\n      <td>0.0</td>\n      <td>384.893976</td>\n      <td>0.000000</td>\n      <td>0.000536</td>\n      <td>...</td>\n      <td>NaN</td>\n      <td>NaN</td>\n      <td>NaN</td>\n      <td>NaN</td>\n      <td>NaN</td>\n      <td>NaN</td>\n      <td>NaN</td>\n      <td>NaN</td>\n      <td>NaN</td>\n      <td>35</td>\n    </tr>\n    <tr>\n      <th>105781</th>\n      <td>47</td>\n      <td>12</td>\n      <td>Trader_60</td>\n      <td>1.178571</td>\n      <td>66.000000</td>\n      <td>NaN</td>\n      <td>0.0</td>\n      <td>122.636320</td>\n      <td>0.000000</td>\n      <td>0.000689</td>\n      <td>...</td>\n      <td>NaN</td>\n      <td>NaN</td>\n      <td>NaN</td>\n      <td>NaN</td>\n      <td>NaN</td>\n      <td>NaN</td>\n      <td>NaN</td>\n      <td>NaN</td>\n      <td>NaN</td>\n      <td>9</td>\n    </tr>\n  </tbody>\n</table>\n<p>105782 rows × 38 columns</p>\n</div>"
     },
     "metadata": {},
     "execution_count": 7
    }
   ],
   "source": [
    "x_train"
   ]
  },
  {
   "cell_type": "code",
   "execution_count": 27,
   "metadata": {},
   "outputs": [],
   "source": [
    "trader_day_share_count = x_train.groupby(['Trader','Day']).Share.agg('count').to_frame('everyday_sharecount').reset_index()"
   ]
  },
  {
   "cell_type": "code",
   "execution_count": 29,
   "metadata": {},
   "outputs": [],
   "source": [
    "x_train = x_train.join(trader_day_share_count.set_index(['Trader','Day']), on=['Trader','Day'])"
   ]
  },
  {
   "cell_type": "code",
   "execution_count": 30,
   "metadata": {},
   "outputs": [],
   "source": [
    "trader_day_share_count = x_train.groupby(['Trader','Share']).Share.agg('count').to_frame('everyshare_daycount').reset_index()"
   ]
  },
  {
   "cell_type": "code",
   "execution_count": 31,
   "metadata": {},
   "outputs": [],
   "source": [
    "x_train = x_train.join(trader_day_share_count.set_index(['Trader','Share']), on=['Trader','Share'])"
   ]
  },
  {
   "cell_type": "code",
   "execution_count": 38,
   "metadata": {},
   "outputs": [],
   "source": [
    "share_x_train = x_train['Share'].unique()"
   ]
  },
  {
   "cell_type": "code",
   "execution_count": 35,
   "metadata": {},
   "outputs": [],
   "source": [
    "x_test = read_x_train('data/AMF_test_X.csv', includeShare=True, includeDay=True)"
   ]
  },
  {
   "cell_type": "code",
   "execution_count": 39,
   "metadata": {},
   "outputs": [],
   "source": [
    "share_x_test = x_test['Share'].unique()"
   ]
  },
  {
   "cell_type": "code",
   "execution_count": 40,
   "metadata": {},
   "outputs": [
    {
     "output_type": "execute_result",
     "data": {
      "text/plain": [
       "118"
      ]
     },
     "metadata": {},
     "execution_count": 40
    }
   ],
   "source": [
    "len(share_x_test)"
   ]
  },
  {
   "cell_type": "code",
   "execution_count": 41,
   "metadata": {},
   "outputs": [
    {
     "output_type": "execute_result",
     "data": {
      "text/plain": [
       "119"
      ]
     },
     "metadata": {},
     "execution_count": 41
    }
   ],
   "source": [
    "len(share_x_train)"
   ]
  },
  {
   "cell_type": "code",
   "execution_count": 42,
   "metadata": {},
   "outputs": [
    {
     "output_type": "execute_result",
     "data": {
      "text/plain": [
       "{40, 82, 98}"
      ]
     },
     "metadata": {},
     "execution_count": 42
    }
   ],
   "source": [
    "set(share_x_test).difference(set(share_x_train))"
   ]
  },
  {
   "cell_type": "code",
   "execution_count": 43,
   "metadata": {},
   "outputs": [
    {
     "output_type": "execute_result",
     "data": {
      "text/plain": [
       "{39, 79, 96, 123}"
      ]
     },
     "metadata": {},
     "execution_count": 43
    }
   ],
   "source": [
    "set(share_x_train).difference(set(share_x_test))"
   ]
  },
  {
   "cell_type": "code",
   "execution_count": 81,
   "metadata": {},
   "outputs": [],
   "source": [
    "from collections import Counter\n",
    "trader_train = y_train['type']\n",
    "c = Counter(y_train['type'])\n",
    "default_ratio = [e[1] for e in sorted([(i, c[i] / len(trader_train)) for i in c], key=lambda elem: elem[0])]"
   ]
  },
  {
   "cell_type": "code",
   "execution_count": 82,
   "metadata": {},
   "outputs": [
    {
     "output_type": "execute_result",
     "data": {
      "text/plain": [
       "[0.1744186046511628, 0.27906976744186046, 0.5465116279069767]"
      ]
     },
     "metadata": {},
     "execution_count": 82
    }
   ],
   "source": [
    "default_ratio"
   ]
  },
  {
   "cell_type": "code",
   "execution_count": 53,
   "metadata": {
    "tags": []
   },
   "outputs": [],
   "source": [
    "def get_share_trader_distribution(x_train):\n",
    "    d = {}\n",
    "    from collections import Counter\n",
    "    for share in share_x_train:\n",
    "        type_list = [name2type[trader] for trader in x_train[x_train['Share']==share]['Trader'].unique()]\n",
    "        c = Counter(type_list)\n",
    "        d[share] = [e[1] for e in sorted([(i, c[i] / len(type_list)) for i in c], key=lambda elem: elem[0])]\n",
    "    return d\n"
   ]
  },
  {
   "cell_type": "code",
   "execution_count": 60,
   "metadata": {},
   "outputs": [],
   "source": [
    "import seaborn as sns\n",
    "hft_list = [v[0] for v in get_share_trader_distribution(x_train).values()]\n",
    "hft_list.sort()\n"
   ]
  },
  {
   "cell_type": "code",
   "execution_count": 61,
   "metadata": {},
   "outputs": [
    {
     "output_type": "display_data",
     "data": {
      "text/plain": "<Figure size 432x288 with 1 Axes>",
      "image/svg+xml": "<?xml version=\"1.0\" encoding=\"utf-8\" standalone=\"no\"?>\n<!DOCTYPE svg PUBLIC \"-//W3C//DTD SVG 1.1//EN\"\n  \"http://www.w3.org/Graphics/SVG/1.1/DTD/svg11.dtd\">\n<!-- Created with matplotlib (https://matplotlib.org/) -->\n<svg height=\"248.518125pt\" version=\"1.1\" viewBox=\"0 0 392.14375 248.518125\" width=\"392.14375pt\" xmlns=\"http://www.w3.org/2000/svg\" xmlns:xlink=\"http://www.w3.org/1999/xlink\">\n <metadata>\n  <rdf:RDF xmlns:cc=\"http://creativecommons.org/ns#\" xmlns:dc=\"http://purl.org/dc/elements/1.1/\" xmlns:rdf=\"http://www.w3.org/1999/02/22-rdf-syntax-ns#\">\n   <cc:Work>\n    <dc:type rdf:resource=\"http://purl.org/dc/dcmitype/StillImage\"/>\n    <dc:date>2021-03-07T17:39:16.593219</dc:date>\n    <dc:format>image/svg+xml</dc:format>\n    <dc:creator>\n     <cc:Agent>\n      <dc:title>Matplotlib v3.3.2, https://matplotlib.org/</dc:title>\n     </cc:Agent>\n    </dc:creator>\n   </cc:Work>\n  </rdf:RDF>\n </metadata>\n <defs>\n  <style type=\"text/css\">*{stroke-linecap:butt;stroke-linejoin:round;}</style>\n </defs>\n <g id=\"figure_1\">\n  <g id=\"patch_1\">\n   <path d=\"M 0 248.518125 \nL 392.14375 248.518125 \nL 392.14375 0 \nL 0 0 \nz\n\" style=\"fill:none;\"/>\n  </g>\n  <g id=\"axes_1\">\n   <g id=\"patch_2\">\n    <path d=\"M 50.14375 224.64 \nL 384.94375 224.64 \nL 384.94375 7.2 \nL 50.14375 7.2 \nz\n\" style=\"fill:#ffffff;\"/>\n   </g>\n   <g id=\"matplotlib.axis_1\">\n    <g id=\"xtick_1\">\n     <g id=\"line2d_1\">\n      <defs>\n       <path d=\"M 0 0 \nL 0 3.5 \n\" id=\"m564a8119d3\" style=\"stroke:#000000;stroke-width:0.8;\"/>\n      </defs>\n      <g>\n       <use style=\"stroke:#000000;stroke-width:0.8;\" x=\"65.361932\" xlink:href=\"#m564a8119d3\" y=\"224.64\"/>\n      </g>\n     </g>\n     <g id=\"text_1\">\n      <!-- 0 -->\n      <g transform=\"translate(62.180682 239.238437)scale(0.1 -0.1)\">\n       <defs>\n        <path d=\"M 31.78125 66.40625 \nQ 24.171875 66.40625 20.328125 58.90625 \nQ 16.5 51.421875 16.5 36.375 \nQ 16.5 21.390625 20.328125 13.890625 \nQ 24.171875 6.390625 31.78125 6.390625 \nQ 39.453125 6.390625 43.28125 13.890625 \nQ 47.125 21.390625 47.125 36.375 \nQ 47.125 51.421875 43.28125 58.90625 \nQ 39.453125 66.40625 31.78125 66.40625 \nz\nM 31.78125 74.21875 \nQ 44.046875 74.21875 50.515625 64.515625 \nQ 56.984375 54.828125 56.984375 36.375 \nQ 56.984375 17.96875 50.515625 8.265625 \nQ 44.046875 -1.421875 31.78125 -1.421875 \nQ 19.53125 -1.421875 13.0625 8.265625 \nQ 6.59375 17.96875 6.59375 36.375 \nQ 6.59375 54.828125 13.0625 64.515625 \nQ 19.53125 74.21875 31.78125 74.21875 \nz\n\" id=\"DejaVuSans-48\"/>\n       </defs>\n       <use xlink:href=\"#DejaVuSans-48\"/>\n      </g>\n     </g>\n    </g>\n    <g id=\"xtick_2\">\n     <g id=\"line2d_2\">\n      <g>\n       <use style=\"stroke:#000000;stroke-width:0.8;\" x=\"116.948989\" xlink:href=\"#m564a8119d3\" y=\"224.64\"/>\n      </g>\n     </g>\n     <g id=\"text_2\">\n      <!-- 20 -->\n      <g transform=\"translate(110.586489 239.238437)scale(0.1 -0.1)\">\n       <defs>\n        <path d=\"M 19.1875 8.296875 \nL 53.609375 8.296875 \nL 53.609375 0 \nL 7.328125 0 \nL 7.328125 8.296875 \nQ 12.9375 14.109375 22.625 23.890625 \nQ 32.328125 33.6875 34.8125 36.53125 \nQ 39.546875 41.84375 41.421875 45.53125 \nQ 43.3125 49.21875 43.3125 52.78125 \nQ 43.3125 58.59375 39.234375 62.25 \nQ 35.15625 65.921875 28.609375 65.921875 \nQ 23.96875 65.921875 18.8125 64.3125 \nQ 13.671875 62.703125 7.8125 59.421875 \nL 7.8125 69.390625 \nQ 13.765625 71.78125 18.9375 73 \nQ 24.125 74.21875 28.421875 74.21875 \nQ 39.75 74.21875 46.484375 68.546875 \nQ 53.21875 62.890625 53.21875 53.421875 \nQ 53.21875 48.921875 51.53125 44.890625 \nQ 49.859375 40.875 45.40625 35.40625 \nQ 44.1875 33.984375 37.640625 27.21875 \nQ 31.109375 20.453125 19.1875 8.296875 \nz\n\" id=\"DejaVuSans-50\"/>\n       </defs>\n       <use xlink:href=\"#DejaVuSans-50\"/>\n       <use x=\"63.623047\" xlink:href=\"#DejaVuSans-48\"/>\n      </g>\n     </g>\n    </g>\n    <g id=\"xtick_3\">\n     <g id=\"line2d_3\">\n      <g>\n       <use style=\"stroke:#000000;stroke-width:0.8;\" x=\"168.536046\" xlink:href=\"#m564a8119d3\" y=\"224.64\"/>\n      </g>\n     </g>\n     <g id=\"text_3\">\n      <!-- 40 -->\n      <g transform=\"translate(162.173546 239.238437)scale(0.1 -0.1)\">\n       <defs>\n        <path d=\"M 37.796875 64.3125 \nL 12.890625 25.390625 \nL 37.796875 25.390625 \nz\nM 35.203125 72.90625 \nL 47.609375 72.90625 \nL 47.609375 25.390625 \nL 58.015625 25.390625 \nL 58.015625 17.1875 \nL 47.609375 17.1875 \nL 47.609375 0 \nL 37.796875 0 \nL 37.796875 17.1875 \nL 4.890625 17.1875 \nL 4.890625 26.703125 \nz\n\" id=\"DejaVuSans-52\"/>\n       </defs>\n       <use xlink:href=\"#DejaVuSans-52\"/>\n       <use x=\"63.623047\" xlink:href=\"#DejaVuSans-48\"/>\n      </g>\n     </g>\n    </g>\n    <g id=\"xtick_4\">\n     <g id=\"line2d_4\">\n      <g>\n       <use style=\"stroke:#000000;stroke-width:0.8;\" x=\"220.123103\" xlink:href=\"#m564a8119d3\" y=\"224.64\"/>\n      </g>\n     </g>\n     <g id=\"text_4\">\n      <!-- 60 -->\n      <g transform=\"translate(213.760603 239.238437)scale(0.1 -0.1)\">\n       <defs>\n        <path d=\"M 33.015625 40.375 \nQ 26.375 40.375 22.484375 35.828125 \nQ 18.609375 31.296875 18.609375 23.390625 \nQ 18.609375 15.53125 22.484375 10.953125 \nQ 26.375 6.390625 33.015625 6.390625 \nQ 39.65625 6.390625 43.53125 10.953125 \nQ 47.40625 15.53125 47.40625 23.390625 \nQ 47.40625 31.296875 43.53125 35.828125 \nQ 39.65625 40.375 33.015625 40.375 \nz\nM 52.59375 71.296875 \nL 52.59375 62.3125 \nQ 48.875 64.0625 45.09375 64.984375 \nQ 41.3125 65.921875 37.59375 65.921875 \nQ 27.828125 65.921875 22.671875 59.328125 \nQ 17.53125 52.734375 16.796875 39.40625 \nQ 19.671875 43.65625 24.015625 45.921875 \nQ 28.375 48.1875 33.59375 48.1875 \nQ 44.578125 48.1875 50.953125 41.515625 \nQ 57.328125 34.859375 57.328125 23.390625 \nQ 57.328125 12.15625 50.6875 5.359375 \nQ 44.046875 -1.421875 33.015625 -1.421875 \nQ 20.359375 -1.421875 13.671875 8.265625 \nQ 6.984375 17.96875 6.984375 36.375 \nQ 6.984375 53.65625 15.1875 63.9375 \nQ 23.390625 74.21875 37.203125 74.21875 \nQ 40.921875 74.21875 44.703125 73.484375 \nQ 48.484375 72.75 52.59375 71.296875 \nz\n\" id=\"DejaVuSans-54\"/>\n       </defs>\n       <use xlink:href=\"#DejaVuSans-54\"/>\n       <use x=\"63.623047\" xlink:href=\"#DejaVuSans-48\"/>\n      </g>\n     </g>\n    </g>\n    <g id=\"xtick_5\">\n     <g id=\"line2d_5\">\n      <g>\n       <use style=\"stroke:#000000;stroke-width:0.8;\" x=\"271.71016\" xlink:href=\"#m564a8119d3\" y=\"224.64\"/>\n      </g>\n     </g>\n     <g id=\"text_5\">\n      <!-- 80 -->\n      <g transform=\"translate(265.34766 239.238437)scale(0.1 -0.1)\">\n       <defs>\n        <path d=\"M 31.78125 34.625 \nQ 24.75 34.625 20.71875 30.859375 \nQ 16.703125 27.09375 16.703125 20.515625 \nQ 16.703125 13.921875 20.71875 10.15625 \nQ 24.75 6.390625 31.78125 6.390625 \nQ 38.8125 6.390625 42.859375 10.171875 \nQ 46.921875 13.96875 46.921875 20.515625 \nQ 46.921875 27.09375 42.890625 30.859375 \nQ 38.875 34.625 31.78125 34.625 \nz\nM 21.921875 38.8125 \nQ 15.578125 40.375 12.03125 44.71875 \nQ 8.5 49.078125 8.5 55.328125 \nQ 8.5 64.0625 14.71875 69.140625 \nQ 20.953125 74.21875 31.78125 74.21875 \nQ 42.671875 74.21875 48.875 69.140625 \nQ 55.078125 64.0625 55.078125 55.328125 \nQ 55.078125 49.078125 51.53125 44.71875 \nQ 48 40.375 41.703125 38.8125 \nQ 48.828125 37.15625 52.796875 32.3125 \nQ 56.78125 27.484375 56.78125 20.515625 \nQ 56.78125 9.90625 50.3125 4.234375 \nQ 43.84375 -1.421875 31.78125 -1.421875 \nQ 19.734375 -1.421875 13.25 4.234375 \nQ 6.78125 9.90625 6.78125 20.515625 \nQ 6.78125 27.484375 10.78125 32.3125 \nQ 14.796875 37.15625 21.921875 38.8125 \nz\nM 18.3125 54.390625 \nQ 18.3125 48.734375 21.84375 45.5625 \nQ 25.390625 42.390625 31.78125 42.390625 \nQ 38.140625 42.390625 41.71875 45.5625 \nQ 45.3125 48.734375 45.3125 54.390625 \nQ 45.3125 60.0625 41.71875 63.234375 \nQ 38.140625 66.40625 31.78125 66.40625 \nQ 25.390625 66.40625 21.84375 63.234375 \nQ 18.3125 60.0625 18.3125 54.390625 \nz\n\" id=\"DejaVuSans-56\"/>\n       </defs>\n       <use xlink:href=\"#DejaVuSans-56\"/>\n       <use x=\"63.623047\" xlink:href=\"#DejaVuSans-48\"/>\n      </g>\n     </g>\n    </g>\n    <g id=\"xtick_6\">\n     <g id=\"line2d_6\">\n      <g>\n       <use style=\"stroke:#000000;stroke-width:0.8;\" x=\"323.297217\" xlink:href=\"#m564a8119d3\" y=\"224.64\"/>\n      </g>\n     </g>\n     <g id=\"text_6\">\n      <!-- 100 -->\n      <g transform=\"translate(313.753467 239.238437)scale(0.1 -0.1)\">\n       <defs>\n        <path d=\"M 12.40625 8.296875 \nL 28.515625 8.296875 \nL 28.515625 63.921875 \nL 10.984375 60.40625 \nL 10.984375 69.390625 \nL 28.421875 72.90625 \nL 38.28125 72.90625 \nL 38.28125 8.296875 \nL 54.390625 8.296875 \nL 54.390625 0 \nL 12.40625 0 \nz\n\" id=\"DejaVuSans-49\"/>\n       </defs>\n       <use xlink:href=\"#DejaVuSans-49\"/>\n       <use x=\"63.623047\" xlink:href=\"#DejaVuSans-48\"/>\n       <use x=\"127.246094\" xlink:href=\"#DejaVuSans-48\"/>\n      </g>\n     </g>\n    </g>\n    <g id=\"xtick_7\">\n     <g id=\"line2d_7\">\n      <g>\n       <use style=\"stroke:#000000;stroke-width:0.8;\" x=\"374.884274\" xlink:href=\"#m564a8119d3\" y=\"224.64\"/>\n      </g>\n     </g>\n     <g id=\"text_7\">\n      <!-- 120 -->\n      <g transform=\"translate(365.340524 239.238437)scale(0.1 -0.1)\">\n       <use xlink:href=\"#DejaVuSans-49\"/>\n       <use x=\"63.623047\" xlink:href=\"#DejaVuSans-50\"/>\n       <use x=\"127.246094\" xlink:href=\"#DejaVuSans-48\"/>\n      </g>\n     </g>\n    </g>\n   </g>\n   <g id=\"matplotlib.axis_2\">\n    <g id=\"ytick_1\">\n     <g id=\"line2d_8\">\n      <defs>\n       <path d=\"M 0 0 \nL -3.5 0 \n\" id=\"m3aa43e9954\" style=\"stroke:#000000;stroke-width:0.8;\"/>\n      </defs>\n      <g>\n       <use style=\"stroke:#000000;stroke-width:0.8;\" x=\"50.14375\" xlink:href=\"#m3aa43e9954\" y=\"209.030671\"/>\n      </g>\n     </g>\n     <g id=\"text_8\">\n      <!-- 0.10 -->\n      <g transform=\"translate(20.878125 212.82989)scale(0.1 -0.1)\">\n       <defs>\n        <path d=\"M 10.6875 12.40625 \nL 21 12.40625 \nL 21 0 \nL 10.6875 0 \nz\n\" id=\"DejaVuSans-46\"/>\n       </defs>\n       <use xlink:href=\"#DejaVuSans-48\"/>\n       <use x=\"63.623047\" xlink:href=\"#DejaVuSans-46\"/>\n       <use x=\"95.410156\" xlink:href=\"#DejaVuSans-49\"/>\n       <use x=\"159.033203\" xlink:href=\"#DejaVuSans-48\"/>\n      </g>\n     </g>\n    </g>\n    <g id=\"ytick_2\">\n     <g id=\"line2d_9\">\n      <g>\n       <use style=\"stroke:#000000;stroke-width:0.8;\" x=\"50.14375\" xlink:href=\"#m3aa43e9954\" y=\"163.225129\"/>\n      </g>\n     </g>\n     <g id=\"text_9\">\n      <!-- 0.15 -->\n      <g transform=\"translate(20.878125 167.024347)scale(0.1 -0.1)\">\n       <defs>\n        <path d=\"M 10.796875 72.90625 \nL 49.515625 72.90625 \nL 49.515625 64.59375 \nL 19.828125 64.59375 \nL 19.828125 46.734375 \nQ 21.96875 47.46875 24.109375 47.828125 \nQ 26.265625 48.1875 28.421875 48.1875 \nQ 40.625 48.1875 47.75 41.5 \nQ 54.890625 34.8125 54.890625 23.390625 \nQ 54.890625 11.625 47.5625 5.09375 \nQ 40.234375 -1.421875 26.90625 -1.421875 \nQ 22.3125 -1.421875 17.546875 -0.640625 \nQ 12.796875 0.140625 7.71875 1.703125 \nL 7.71875 11.625 \nQ 12.109375 9.234375 16.796875 8.0625 \nQ 21.484375 6.890625 26.703125 6.890625 \nQ 35.15625 6.890625 40.078125 11.328125 \nQ 45.015625 15.765625 45.015625 23.390625 \nQ 45.015625 31 40.078125 35.4375 \nQ 35.15625 39.890625 26.703125 39.890625 \nQ 22.75 39.890625 18.8125 39.015625 \nQ 14.890625 38.140625 10.796875 36.28125 \nz\n\" id=\"DejaVuSans-53\"/>\n       </defs>\n       <use xlink:href=\"#DejaVuSans-48\"/>\n       <use x=\"63.623047\" xlink:href=\"#DejaVuSans-46\"/>\n       <use x=\"95.410156\" xlink:href=\"#DejaVuSans-49\"/>\n       <use x=\"159.033203\" xlink:href=\"#DejaVuSans-53\"/>\n      </g>\n     </g>\n    </g>\n    <g id=\"ytick_3\">\n     <g id=\"line2d_10\">\n      <g>\n       <use style=\"stroke:#000000;stroke-width:0.8;\" x=\"50.14375\" xlink:href=\"#m3aa43e9954\" y=\"117.419586\"/>\n      </g>\n     </g>\n     <g id=\"text_10\">\n      <!-- 0.20 -->\n      <g transform=\"translate(20.878125 121.218805)scale(0.1 -0.1)\">\n       <use xlink:href=\"#DejaVuSans-48\"/>\n       <use x=\"63.623047\" xlink:href=\"#DejaVuSans-46\"/>\n       <use x=\"95.410156\" xlink:href=\"#DejaVuSans-50\"/>\n       <use x=\"159.033203\" xlink:href=\"#DejaVuSans-48\"/>\n      </g>\n     </g>\n    </g>\n    <g id=\"ytick_4\">\n     <g id=\"line2d_11\">\n      <g>\n       <use style=\"stroke:#000000;stroke-width:0.8;\" x=\"50.14375\" xlink:href=\"#m3aa43e9954\" y=\"71.614044\"/>\n      </g>\n     </g>\n     <g id=\"text_11\">\n      <!-- 0.25 -->\n      <g transform=\"translate(20.878125 75.413263)scale(0.1 -0.1)\">\n       <use xlink:href=\"#DejaVuSans-48\"/>\n       <use x=\"63.623047\" xlink:href=\"#DejaVuSans-46\"/>\n       <use x=\"95.410156\" xlink:href=\"#DejaVuSans-50\"/>\n       <use x=\"159.033203\" xlink:href=\"#DejaVuSans-53\"/>\n      </g>\n     </g>\n    </g>\n    <g id=\"ytick_5\">\n     <g id=\"line2d_12\">\n      <g>\n       <use style=\"stroke:#000000;stroke-width:0.8;\" x=\"50.14375\" xlink:href=\"#m3aa43e9954\" y=\"25.808502\"/>\n      </g>\n     </g>\n     <g id=\"text_12\">\n      <!-- 0.30 -->\n      <g transform=\"translate(20.878125 29.60772)scale(0.1 -0.1)\">\n       <defs>\n        <path d=\"M 40.578125 39.3125 \nQ 47.65625 37.796875 51.625 33 \nQ 55.609375 28.21875 55.609375 21.1875 \nQ 55.609375 10.40625 48.1875 4.484375 \nQ 40.765625 -1.421875 27.09375 -1.421875 \nQ 22.515625 -1.421875 17.65625 -0.515625 \nQ 12.796875 0.390625 7.625 2.203125 \nL 7.625 11.71875 \nQ 11.71875 9.328125 16.59375 8.109375 \nQ 21.484375 6.890625 26.8125 6.890625 \nQ 36.078125 6.890625 40.9375 10.546875 \nQ 45.796875 14.203125 45.796875 21.1875 \nQ 45.796875 27.640625 41.28125 31.265625 \nQ 36.765625 34.90625 28.71875 34.90625 \nL 20.21875 34.90625 \nL 20.21875 43.015625 \nL 29.109375 43.015625 \nQ 36.375 43.015625 40.234375 45.921875 \nQ 44.09375 48.828125 44.09375 54.296875 \nQ 44.09375 59.90625 40.109375 62.90625 \nQ 36.140625 65.921875 28.71875 65.921875 \nQ 24.65625 65.921875 20.015625 65.03125 \nQ 15.375 64.15625 9.8125 62.3125 \nL 9.8125 71.09375 \nQ 15.4375 72.65625 20.34375 73.4375 \nQ 25.25 74.21875 29.59375 74.21875 \nQ 40.828125 74.21875 47.359375 69.109375 \nQ 53.90625 64.015625 53.90625 55.328125 \nQ 53.90625 49.265625 50.4375 45.09375 \nQ 46.96875 40.921875 40.578125 39.3125 \nz\n\" id=\"DejaVuSans-51\"/>\n       </defs>\n       <use xlink:href=\"#DejaVuSans-48\"/>\n       <use x=\"63.623047\" xlink:href=\"#DejaVuSans-46\"/>\n       <use x=\"95.410156\" xlink:href=\"#DejaVuSans-51\"/>\n       <use x=\"159.033203\" xlink:href=\"#DejaVuSans-48\"/>\n      </g>\n     </g>\n    </g>\n    <g id=\"text_13\">\n     <!-- HFT ratio -->\n     <g transform=\"translate(14.798438 138.639531)rotate(-90)scale(0.1 -0.1)\">\n      <defs>\n       <path d=\"M 9.8125 72.90625 \nL 19.671875 72.90625 \nL 19.671875 43.015625 \nL 55.515625 43.015625 \nL 55.515625 72.90625 \nL 65.375 72.90625 \nL 65.375 0 \nL 55.515625 0 \nL 55.515625 34.71875 \nL 19.671875 34.71875 \nL 19.671875 0 \nL 9.8125 0 \nz\n\" id=\"DejaVuSans-72\"/>\n       <path d=\"M 9.8125 72.90625 \nL 51.703125 72.90625 \nL 51.703125 64.59375 \nL 19.671875 64.59375 \nL 19.671875 43.109375 \nL 48.578125 43.109375 \nL 48.578125 34.8125 \nL 19.671875 34.8125 \nL 19.671875 0 \nL 9.8125 0 \nz\n\" id=\"DejaVuSans-70\"/>\n       <path d=\"M -0.296875 72.90625 \nL 61.375 72.90625 \nL 61.375 64.59375 \nL 35.5 64.59375 \nL 35.5 0 \nL 25.59375 0 \nL 25.59375 64.59375 \nL -0.296875 64.59375 \nz\n\" id=\"DejaVuSans-84\"/>\n       <path id=\"DejaVuSans-32\"/>\n       <path d=\"M 41.109375 46.296875 \nQ 39.59375 47.171875 37.8125 47.578125 \nQ 36.03125 48 33.890625 48 \nQ 26.265625 48 22.1875 43.046875 \nQ 18.109375 38.09375 18.109375 28.8125 \nL 18.109375 0 \nL 9.078125 0 \nL 9.078125 54.6875 \nL 18.109375 54.6875 \nL 18.109375 46.1875 \nQ 20.953125 51.171875 25.484375 53.578125 \nQ 30.03125 56 36.53125 56 \nQ 37.453125 56 38.578125 55.875 \nQ 39.703125 55.765625 41.0625 55.515625 \nz\n\" id=\"DejaVuSans-114\"/>\n       <path d=\"M 34.28125 27.484375 \nQ 23.390625 27.484375 19.1875 25 \nQ 14.984375 22.515625 14.984375 16.5 \nQ 14.984375 11.71875 18.140625 8.90625 \nQ 21.296875 6.109375 26.703125 6.109375 \nQ 34.1875 6.109375 38.703125 11.40625 \nQ 43.21875 16.703125 43.21875 25.484375 \nL 43.21875 27.484375 \nz\nM 52.203125 31.203125 \nL 52.203125 0 \nL 43.21875 0 \nL 43.21875 8.296875 \nQ 40.140625 3.328125 35.546875 0.953125 \nQ 30.953125 -1.421875 24.3125 -1.421875 \nQ 15.921875 -1.421875 10.953125 3.296875 \nQ 6 8.015625 6 15.921875 \nQ 6 25.140625 12.171875 29.828125 \nQ 18.359375 34.515625 30.609375 34.515625 \nL 43.21875 34.515625 \nL 43.21875 35.40625 \nQ 43.21875 41.609375 39.140625 45 \nQ 35.0625 48.390625 27.6875 48.390625 \nQ 23 48.390625 18.546875 47.265625 \nQ 14.109375 46.140625 10.015625 43.890625 \nL 10.015625 52.203125 \nQ 14.9375 54.109375 19.578125 55.046875 \nQ 24.21875 56 28.609375 56 \nQ 40.484375 56 46.34375 49.84375 \nQ 52.203125 43.703125 52.203125 31.203125 \nz\n\" id=\"DejaVuSans-97\"/>\n       <path d=\"M 18.3125 70.21875 \nL 18.3125 54.6875 \nL 36.8125 54.6875 \nL 36.8125 47.703125 \nL 18.3125 47.703125 \nL 18.3125 18.015625 \nQ 18.3125 11.328125 20.140625 9.421875 \nQ 21.96875 7.515625 27.59375 7.515625 \nL 36.8125 7.515625 \nL 36.8125 0 \nL 27.59375 0 \nQ 17.1875 0 13.234375 3.875 \nQ 9.28125 7.765625 9.28125 18.015625 \nL 9.28125 47.703125 \nL 2.6875 47.703125 \nL 2.6875 54.6875 \nL 9.28125 54.6875 \nL 9.28125 70.21875 \nz\n\" id=\"DejaVuSans-116\"/>\n       <path d=\"M 9.421875 54.6875 \nL 18.40625 54.6875 \nL 18.40625 0 \nL 9.421875 0 \nz\nM 9.421875 75.984375 \nL 18.40625 75.984375 \nL 18.40625 64.59375 \nL 9.421875 64.59375 \nz\n\" id=\"DejaVuSans-105\"/>\n       <path d=\"M 30.609375 48.390625 \nQ 23.390625 48.390625 19.1875 42.75 \nQ 14.984375 37.109375 14.984375 27.296875 \nQ 14.984375 17.484375 19.15625 11.84375 \nQ 23.34375 6.203125 30.609375 6.203125 \nQ 37.796875 6.203125 41.984375 11.859375 \nQ 46.1875 17.53125 46.1875 27.296875 \nQ 46.1875 37.015625 41.984375 42.703125 \nQ 37.796875 48.390625 30.609375 48.390625 \nz\nM 30.609375 56 \nQ 42.328125 56 49.015625 48.375 \nQ 55.71875 40.765625 55.71875 27.296875 \nQ 55.71875 13.875 49.015625 6.21875 \nQ 42.328125 -1.421875 30.609375 -1.421875 \nQ 18.84375 -1.421875 12.171875 6.21875 \nQ 5.515625 13.875 5.515625 27.296875 \nQ 5.515625 40.765625 12.171875 48.375 \nQ 18.84375 56 30.609375 56 \nz\n\" id=\"DejaVuSans-111\"/>\n      </defs>\n      <use xlink:href=\"#DejaVuSans-72\"/>\n      <use x=\"75.195312\" xlink:href=\"#DejaVuSans-70\"/>\n      <use x=\"130.964844\" xlink:href=\"#DejaVuSans-84\"/>\n      <use x=\"192.048828\" xlink:href=\"#DejaVuSans-32\"/>\n      <use x=\"223.835938\" xlink:href=\"#DejaVuSans-114\"/>\n      <use x=\"264.949219\" xlink:href=\"#DejaVuSans-97\"/>\n      <use x=\"326.228516\" xlink:href=\"#DejaVuSans-116\"/>\n      <use x=\"365.4375\" xlink:href=\"#DejaVuSans-105\"/>\n      <use x=\"393.220703\" xlink:href=\"#DejaVuSans-111\"/>\n     </g>\n    </g>\n   </g>\n   <g id=\"line2d_13\">\n    <path clip-path=\"url(#pae5bb8b571)\" d=\"M 65.361932 214.756364 \nL 67.941285 159.701625 \nL 70.520638 151.072638 \nL 73.09999 142.084109 \nL 75.679343 140.685893 \nL 78.258696 134.076147 \nL 80.838049 131.884494 \nL 83.417402 130.202528 \nL 85.996755 123.329979 \nL 88.576107 120.00018 \nL 91.15546 117.419586 \nL 93.734813 117.419586 \nL 96.314166 117.419586 \nL 98.893519 112.721582 \nL 101.472872 111.10158 \nL 104.052225 109.215608 \nL 106.631577 108.897625 \nL 109.21093 108.897625 \nL 111.790283 107.776314 \nL 114.369636 107.776314 \nL 116.948989 107.09721 \nL 119.528342 106.315212 \nL 122.107695 106.315212 \nL 124.687047 105.405018 \nL 127.2664 104.332288 \nL 129.845753 104.332288 \nL 132.425106 104.332288 \nL 135.004459 101.487224 \nL 137.583812 100.242508 \nL 140.163164 100.242508 \nL 142.742517 100.242508 \nL 145.32187 100.242508 \nL 147.901223 97.061567 \nL 150.480576 95.306566 \nL 153.059929 93.220432 \nL 155.639282 92.434745 \nL 158.218634 91.244991 \nL 160.797987 91.244991 \nL 163.37734 89.23156 \nL 165.956693 89.23156 \nL 168.536046 87.973166 \nL 171.115399 86.232834 \nL 173.694752 85.086262 \nL 176.274104 84.106465 \nL 178.853457 84.106465 \nL 181.43281 83.668134 \nL 184.012163 83.259521 \nL 186.591516 83.259521 \nL 189.170869 82.520125 \nL 191.750221 81.57177 \nL 194.329574 81.57177 \nL 196.908927 80.096552 \nL 199.48828 79.511551 \nL 202.067633 79.511551 \nL 204.646986 77.200086 \nL 207.226339 76.703549 \nL 209.805691 76.703549 \nL 212.385044 76.703549 \nL 214.964397 76.703549 \nL 217.54375 76.288079 \nL 220.123103 75.935321 \nL 222.702456 75.935321 \nL 225.281809 75.632074 \nL 227.861161 71.614044 \nL 230.440514 71.614044 \nL 233.019867 71.614044 \nL 235.59922 71.614044 \nL 238.178573 71.614044 \nL 240.757926 71.614044 \nL 243.337279 71.614044 \nL 245.916631 71.614044 \nL 248.495984 71.614044 \nL 251.075337 67.449904 \nL 253.65469 67.123304 \nL 256.234043 67.123304 \nL 258.813396 67.123304 \nL 261.392748 67.123304 \nL 263.972101 67.123304 \nL 266.551454 67.123304 \nL 269.130807 66.287818 \nL 271.71016 66.287818 \nL 274.289513 66.287818 \nL 276.868866 66.287818 \nL 279.448218 65.070395 \nL 282.027571 64.226053 \nL 284.606924 62.452935 \nL 287.186277 61.656317 \nL 289.76563 61.656317 \nL 292.344983 60.707962 \nL 294.924336 60.707962 \nL 297.503688 60.707962 \nL 300.083041 59.559954 \nL 302.662394 56.34553 \nL 305.241747 56.34553 \nL 307.8211 56.34553 \nL 310.400453 54.855919 \nL 312.979805 53.996528 \nL 315.559158 53.044229 \nL 318.138511 52.528401 \nL 320.717864 52.528401 \nL 323.297217 50.793343 \nL 325.87657 50.793343 \nL 328.455923 47.249394 \nL 331.035275 47.249394 \nL 333.614628 47.249394 \nL 336.193981 42.251517 \nL 338.773334 41.740864 \nL 341.352687 41.740864 \nL 343.93204 41.740864 \nL 346.511393 38.895799 \nL 349.090745 38.895799 \nL 351.670098 35.451774 \nL 354.249451 32.511752 \nL 356.828804 29.972642 \nL 359.408157 29.972642 \nL 361.98751 29.972642 \nL 364.566862 25.808502 \nL 367.146215 25.808502 \nL 369.725568 17.083636 \n\" style=\"fill:none;stroke:#1f77b4;stroke-linecap:square;stroke-width:1.5;\"/>\n   </g>\n   <g id=\"patch_3\">\n    <path d=\"M 50.14375 224.64 \nL 50.14375 7.2 \n\" style=\"fill:none;stroke:#000000;stroke-linecap:square;stroke-linejoin:miter;stroke-width:0.8;\"/>\n   </g>\n   <g id=\"patch_4\">\n    <path d=\"M 384.94375 224.64 \nL 384.94375 7.2 \n\" style=\"fill:none;stroke:#000000;stroke-linecap:square;stroke-linejoin:miter;stroke-width:0.8;\"/>\n   </g>\n   <g id=\"patch_5\">\n    <path d=\"M 50.14375 224.64 \nL 384.94375 224.64 \n\" style=\"fill:none;stroke:#000000;stroke-linecap:square;stroke-linejoin:miter;stroke-width:0.8;\"/>\n   </g>\n   <g id=\"patch_6\">\n    <path d=\"M 50.14375 7.2 \nL 384.94375 7.2 \n\" style=\"fill:none;stroke:#000000;stroke-linecap:square;stroke-linejoin:miter;stroke-width:0.8;\"/>\n   </g>\n  </g>\n </g>\n <defs>\n  <clipPath id=\"pae5bb8b571\">\n   <rect height=\"217.44\" width=\"334.8\" x=\"50.14375\" y=\"7.2\"/>\n  </clipPath>\n </defs>\n</svg>\n",
      "image/png": "[encoded data removed]"
     },
     "metadata": {
      "needs_background": "light"
     }
    }
   ],
   "source": [
    "import matplotlib.pyplot as plt\n",
    "plt.plot(hft_list)\n",
    "plt.ylabel('HFT ratio')\n",
    "plt.show()"
   ]
  },
  {
   "cell_type": "code",
   "execution_count": 62,
   "metadata": {},
   "outputs": [
    {
     "output_type": "display_data",
     "data": {
      "text/plain": "<Figure size 432x288 with 1 Axes>",
      "image/svg+xml": "<?xml version=\"1.0\" encoding=\"utf-8\" standalone=\"no\"?>\n<!DOCTYPE svg PUBLIC \"-//W3C//DTD SVG 1.1//EN\"\n  \"http://www.w3.org/Graphics/SVG/1.1/DTD/svg11.dtd\">\n<!-- Created with matplotlib (https://matplotlib.org/) -->\n<svg height=\"248.518125pt\" version=\"1.1\" viewBox=\"0 0 392.14375 248.518125\" width=\"392.14375pt\" xmlns=\"http://www.w3.org/2000/svg\" xmlns:xlink=\"http://www.w3.org/1999/xlink\">\n <metadata>\n  <rdf:RDF xmlns:cc=\"http://creativecommons.org/ns#\" xmlns:dc=\"http://purl.org/dc/elements/1.1/\" xmlns:rdf=\"http://www.w3.org/1999/02/22-rdf-syntax-ns#\">\n   <cc:Work>\n    <dc:type rdf:resource=\"http://purl.org/dc/dcmitype/StillImage\"/>\n    <dc:date>2021-03-07T17:40:30.047949</dc:date>\n    <dc:format>image/svg+xml</dc:format>\n    <dc:creator>\n     <cc:Agent>\n      <dc:title>Matplotlib v3.3.2, https://matplotlib.org/</dc:title>\n     </cc:Agent>\n    </dc:creator>\n   </cc:Work>\n  </rdf:RDF>\n </metadata>\n <defs>\n  <style type=\"text/css\">*{stroke-linecap:butt;stroke-linejoin:round;}</style>\n </defs>\n <g id=\"figure_1\">\n  <g id=\"patch_1\">\n   <path d=\"M 0 248.518125 \nL 392.14375 248.518125 \nL 392.14375 0 \nL 0 0 \nz\n\" style=\"fill:none;\"/>\n  </g>\n  <g id=\"axes_1\">\n   <g id=\"patch_2\">\n    <path d=\"M 50.14375 224.64 \nL 384.94375 224.64 \nL 384.94375 7.2 \nL 50.14375 7.2 \nz\n\" style=\"fill:#ffffff;\"/>\n   </g>\n   <g id=\"matplotlib.axis_1\">\n    <g id=\"xtick_1\">\n     <g id=\"line2d_1\">\n      <defs>\n       <path d=\"M 0 0 \nL 0 3.5 \n\" id=\"mf40ff11fbe\" style=\"stroke:#000000;stroke-width:0.8;\"/>\n      </defs>\n      <g>\n       <use style=\"stroke:#000000;stroke-width:0.8;\" x=\"65.361932\" xlink:href=\"#mf40ff11fbe\" y=\"224.64\"/>\n      </g>\n     </g>\n     <g id=\"text_1\">\n      <!-- 0 -->\n      <g transform=\"translate(62.180682 239.238438)scale(0.1 -0.1)\">\n       <defs>\n        <path d=\"M 31.78125 66.40625 \nQ 24.171875 66.40625 20.328125 58.90625 \nQ 16.5 51.421875 16.5 36.375 \nQ 16.5 21.390625 20.328125 13.890625 \nQ 24.171875 6.390625 31.78125 6.390625 \nQ 39.453125 6.390625 43.28125 13.890625 \nQ 47.125 21.390625 47.125 36.375 \nQ 47.125 51.421875 43.28125 58.90625 \nQ 39.453125 66.40625 31.78125 66.40625 \nz\nM 31.78125 74.21875 \nQ 44.046875 74.21875 50.515625 64.515625 \nQ 56.984375 54.828125 56.984375 36.375 \nQ 56.984375 17.96875 50.515625 8.265625 \nQ 44.046875 -1.421875 31.78125 -1.421875 \nQ 19.53125 -1.421875 13.0625 8.265625 \nQ 6.59375 17.96875 6.59375 36.375 \nQ 6.59375 54.828125 13.0625 64.515625 \nQ 19.53125 74.21875 31.78125 74.21875 \nz\n\" id=\"DejaVuSans-48\"/>\n       </defs>\n       <use xlink:href=\"#DejaVuSans-48\"/>\n      </g>\n     </g>\n    </g>\n    <g id=\"xtick_2\">\n     <g id=\"line2d_2\">\n      <g>\n       <use style=\"stroke:#000000;stroke-width:0.8;\" x=\"116.948989\" xlink:href=\"#mf40ff11fbe\" y=\"224.64\"/>\n      </g>\n     </g>\n     <g id=\"text_2\">\n      <!-- 20 -->\n      <g transform=\"translate(110.586489 239.238438)scale(0.1 -0.1)\">\n       <defs>\n        <path d=\"M 19.1875 8.296875 \nL 53.609375 8.296875 \nL 53.609375 0 \nL 7.328125 0 \nL 7.328125 8.296875 \nQ 12.9375 14.109375 22.625 23.890625 \nQ 32.328125 33.6875 34.8125 36.53125 \nQ 39.546875 41.84375 41.421875 45.53125 \nQ 43.3125 49.21875 43.3125 52.78125 \nQ 43.3125 58.59375 39.234375 62.25 \nQ 35.15625 65.921875 28.609375 65.921875 \nQ 23.96875 65.921875 18.8125 64.3125 \nQ 13.671875 62.703125 7.8125 59.421875 \nL 7.8125 69.390625 \nQ 13.765625 71.78125 18.9375 73 \nQ 24.125 74.21875 28.421875 74.21875 \nQ 39.75 74.21875 46.484375 68.546875 \nQ 53.21875 62.890625 53.21875 53.421875 \nQ 53.21875 48.921875 51.53125 44.890625 \nQ 49.859375 40.875 45.40625 35.40625 \nQ 44.1875 33.984375 37.640625 27.21875 \nQ 31.109375 20.453125 19.1875 8.296875 \nz\n\" id=\"DejaVuSans-50\"/>\n       </defs>\n       <use xlink:href=\"#DejaVuSans-50\"/>\n       <use x=\"63.623047\" xlink:href=\"#DejaVuSans-48\"/>\n      </g>\n     </g>\n    </g>\n    <g id=\"xtick_3\">\n     <g id=\"line2d_3\">\n      <g>\n       <use style=\"stroke:#000000;stroke-width:0.8;\" x=\"168.536046\" xlink:href=\"#mf40ff11fbe\" y=\"224.64\"/>\n      </g>\n     </g>\n     <g id=\"text_3\">\n      <!-- 40 -->\n      <g transform=\"translate(162.173546 239.238438)scale(0.1 -0.1)\">\n       <defs>\n        <path d=\"M 37.796875 64.3125 \nL 12.890625 25.390625 \nL 37.796875 25.390625 \nz\nM 35.203125 72.90625 \nL 47.609375 72.90625 \nL 47.609375 25.390625 \nL 58.015625 25.390625 \nL 58.015625 17.1875 \nL 47.609375 17.1875 \nL 47.609375 0 \nL 37.796875 0 \nL 37.796875 17.1875 \nL 4.890625 17.1875 \nL 4.890625 26.703125 \nz\n\" id=\"DejaVuSans-52\"/>\n       </defs>\n       <use xlink:href=\"#DejaVuSans-52\"/>\n       <use x=\"63.623047\" xlink:href=\"#DejaVuSans-48\"/>\n      </g>\n     </g>\n    </g>\n    <g id=\"xtick_4\">\n     <g id=\"line2d_4\">\n      <g>\n       <use style=\"stroke:#000000;stroke-width:0.8;\" x=\"220.123103\" xlink:href=\"#mf40ff11fbe\" y=\"224.64\"/>\n      </g>\n     </g>\n     <g id=\"text_4\">\n      <!-- 60 -->\n      <g transform=\"translate(213.760603 239.238438)scale(0.1 -0.1)\">\n       <defs>\n        <path d=\"M 33.015625 40.375 \nQ 26.375 40.375 22.484375 35.828125 \nQ 18.609375 31.296875 18.609375 23.390625 \nQ 18.609375 15.53125 22.484375 10.953125 \nQ 26.375 6.390625 33.015625 6.390625 \nQ 39.65625 6.390625 43.53125 10.953125 \nQ 47.40625 15.53125 47.40625 23.390625 \nQ 47.40625 31.296875 43.53125 35.828125 \nQ 39.65625 40.375 33.015625 40.375 \nz\nM 52.59375 71.296875 \nL 52.59375 62.3125 \nQ 48.875 64.0625 45.09375 64.984375 \nQ 41.3125 65.921875 37.59375 65.921875 \nQ 27.828125 65.921875 22.671875 59.328125 \nQ 17.53125 52.734375 16.796875 39.40625 \nQ 19.671875 43.65625 24.015625 45.921875 \nQ 28.375 48.1875 33.59375 48.1875 \nQ 44.578125 48.1875 50.953125 41.515625 \nQ 57.328125 34.859375 57.328125 23.390625 \nQ 57.328125 12.15625 50.6875 5.359375 \nQ 44.046875 -1.421875 33.015625 -1.421875 \nQ 20.359375 -1.421875 13.671875 8.265625 \nQ 6.984375 17.96875 6.984375 36.375 \nQ 6.984375 53.65625 15.1875 63.9375 \nQ 23.390625 74.21875 37.203125 74.21875 \nQ 40.921875 74.21875 44.703125 73.484375 \nQ 48.484375 72.75 52.59375 71.296875 \nz\n\" id=\"DejaVuSans-54\"/>\n       </defs>\n       <use xlink:href=\"#DejaVuSans-54\"/>\n       <use x=\"63.623047\" xlink:href=\"#DejaVuSans-48\"/>\n      </g>\n     </g>\n    </g>\n    <g id=\"xtick_5\">\n     <g id=\"line2d_5\">\n      <g>\n       <use style=\"stroke:#000000;stroke-width:0.8;\" x=\"271.71016\" xlink:href=\"#mf40ff11fbe\" y=\"224.64\"/>\n      </g>\n     </g>\n     <g id=\"text_5\">\n      <!-- 80 -->\n      <g transform=\"translate(265.34766 239.238438)scale(0.1 -0.1)\">\n       <defs>\n        <path d=\"M 31.78125 34.625 \nQ 24.75 34.625 20.71875 30.859375 \nQ 16.703125 27.09375 16.703125 20.515625 \nQ 16.703125 13.921875 20.71875 10.15625 \nQ 24.75 6.390625 31.78125 6.390625 \nQ 38.8125 6.390625 42.859375 10.171875 \nQ 46.921875 13.96875 46.921875 20.515625 \nQ 46.921875 27.09375 42.890625 30.859375 \nQ 38.875 34.625 31.78125 34.625 \nz\nM 21.921875 38.8125 \nQ 15.578125 40.375 12.03125 44.71875 \nQ 8.5 49.078125 8.5 55.328125 \nQ 8.5 64.0625 14.71875 69.140625 \nQ 20.953125 74.21875 31.78125 74.21875 \nQ 42.671875 74.21875 48.875 69.140625 \nQ 55.078125 64.0625 55.078125 55.328125 \nQ 55.078125 49.078125 51.53125 44.71875 \nQ 48 40.375 41.703125 38.8125 \nQ 48.828125 37.15625 52.796875 32.3125 \nQ 56.78125 27.484375 56.78125 20.515625 \nQ 56.78125 9.90625 50.3125 4.234375 \nQ 43.84375 -1.421875 31.78125 -1.421875 \nQ 19.734375 -1.421875 13.25 4.234375 \nQ 6.78125 9.90625 6.78125 20.515625 \nQ 6.78125 27.484375 10.78125 32.3125 \nQ 14.796875 37.15625 21.921875 38.8125 \nz\nM 18.3125 54.390625 \nQ 18.3125 48.734375 21.84375 45.5625 \nQ 25.390625 42.390625 31.78125 42.390625 \nQ 38.140625 42.390625 41.71875 45.5625 \nQ 45.3125 48.734375 45.3125 54.390625 \nQ 45.3125 60.0625 41.71875 63.234375 \nQ 38.140625 66.40625 31.78125 66.40625 \nQ 25.390625 66.40625 21.84375 63.234375 \nQ 18.3125 60.0625 18.3125 54.390625 \nz\n\" id=\"DejaVuSans-56\"/>\n       </defs>\n       <use xlink:href=\"#DejaVuSans-56\"/>\n       <use x=\"63.623047\" xlink:href=\"#DejaVuSans-48\"/>\n      </g>\n     </g>\n    </g>\n    <g id=\"xtick_6\">\n     <g id=\"line2d_6\">\n      <g>\n       <use style=\"stroke:#000000;stroke-width:0.8;\" x=\"323.297217\" xlink:href=\"#mf40ff11fbe\" y=\"224.64\"/>\n      </g>\n     </g>\n     <g id=\"text_6\">\n      <!-- 100 -->\n      <g transform=\"translate(313.753467 239.238438)scale(0.1 -0.1)\">\n       <defs>\n        <path d=\"M 12.40625 8.296875 \nL 28.515625 8.296875 \nL 28.515625 63.921875 \nL 10.984375 60.40625 \nL 10.984375 69.390625 \nL 28.421875 72.90625 \nL 38.28125 72.90625 \nL 38.28125 8.296875 \nL 54.390625 8.296875 \nL 54.390625 0 \nL 12.40625 0 \nz\n\" id=\"DejaVuSans-49\"/>\n       </defs>\n       <use xlink:href=\"#DejaVuSans-49\"/>\n       <use x=\"63.623047\" xlink:href=\"#DejaVuSans-48\"/>\n       <use x=\"127.246094\" xlink:href=\"#DejaVuSans-48\"/>\n      </g>\n     </g>\n    </g>\n    <g id=\"xtick_7\">\n     <g id=\"line2d_7\">\n      <g>\n       <use style=\"stroke:#000000;stroke-width:0.8;\" x=\"374.884274\" xlink:href=\"#mf40ff11fbe\" y=\"224.64\"/>\n      </g>\n     </g>\n     <g id=\"text_7\">\n      <!-- 120 -->\n      <g transform=\"translate(365.340524 239.238438)scale(0.1 -0.1)\">\n       <use xlink:href=\"#DejaVuSans-49\"/>\n       <use x=\"63.623047\" xlink:href=\"#DejaVuSans-50\"/>\n       <use x=\"127.246094\" xlink:href=\"#DejaVuSans-48\"/>\n      </g>\n     </g>\n    </g>\n   </g>\n   <g id=\"matplotlib.axis_2\">\n    <g id=\"ytick_1\">\n     <g id=\"line2d_8\">\n      <defs>\n       <path d=\"M 0 0 \nL -3.5 0 \n\" id=\"m1efb50f2d4\" style=\"stroke:#000000;stroke-width:0.8;\"/>\n      </defs>\n      <g>\n       <use style=\"stroke:#000000;stroke-width:0.8;\" x=\"50.14375\" xlink:href=\"#m1efb50f2d4\" y=\"199.716047\"/>\n      </g>\n     </g>\n     <g id=\"text_8\">\n      <!-- 0.25 -->\n      <g transform=\"translate(20.878125 203.515266)scale(0.1 -0.1)\">\n       <defs>\n        <path d=\"M 10.6875 12.40625 \nL 21 12.40625 \nL 21 0 \nL 10.6875 0 \nz\n\" id=\"DejaVuSans-46\"/>\n        <path d=\"M 10.796875 72.90625 \nL 49.515625 72.90625 \nL 49.515625 64.59375 \nL 19.828125 64.59375 \nL 19.828125 46.734375 \nQ 21.96875 47.46875 24.109375 47.828125 \nQ 26.265625 48.1875 28.421875 48.1875 \nQ 40.625 48.1875 47.75 41.5 \nQ 54.890625 34.8125 54.890625 23.390625 \nQ 54.890625 11.625 47.5625 5.09375 \nQ 40.234375 -1.421875 26.90625 -1.421875 \nQ 22.3125 -1.421875 17.546875 -0.640625 \nQ 12.796875 0.140625 7.71875 1.703125 \nL 7.71875 11.625 \nQ 12.109375 9.234375 16.796875 8.0625 \nQ 21.484375 6.890625 26.703125 6.890625 \nQ 35.15625 6.890625 40.078125 11.328125 \nQ 45.015625 15.765625 45.015625 23.390625 \nQ 45.015625 31 40.078125 35.4375 \nQ 35.15625 39.890625 26.703125 39.890625 \nQ 22.75 39.890625 18.8125 39.015625 \nQ 14.890625 38.140625 10.796875 36.28125 \nz\n\" id=\"DejaVuSans-53\"/>\n       </defs>\n       <use xlink:href=\"#DejaVuSans-48\"/>\n       <use x=\"63.623047\" xlink:href=\"#DejaVuSans-46\"/>\n       <use x=\"95.410156\" xlink:href=\"#DejaVuSans-50\"/>\n       <use x=\"159.033203\" xlink:href=\"#DejaVuSans-53\"/>\n      </g>\n     </g>\n    </g>\n    <g id=\"ytick_2\">\n     <g id=\"line2d_9\">\n      <g>\n       <use style=\"stroke:#000000;stroke-width:0.8;\" x=\"50.14375\" xlink:href=\"#m1efb50f2d4\" y=\"164.621976\"/>\n      </g>\n     </g>\n     <g id=\"text_9\">\n      <!-- 0.30 -->\n      <g transform=\"translate(20.878125 168.421195)scale(0.1 -0.1)\">\n       <defs>\n        <path d=\"M 40.578125 39.3125 \nQ 47.65625 37.796875 51.625 33 \nQ 55.609375 28.21875 55.609375 21.1875 \nQ 55.609375 10.40625 48.1875 4.484375 \nQ 40.765625 -1.421875 27.09375 -1.421875 \nQ 22.515625 -1.421875 17.65625 -0.515625 \nQ 12.796875 0.390625 7.625 2.203125 \nL 7.625 11.71875 \nQ 11.71875 9.328125 16.59375 8.109375 \nQ 21.484375 6.890625 26.8125 6.890625 \nQ 36.078125 6.890625 40.9375 10.546875 \nQ 45.796875 14.203125 45.796875 21.1875 \nQ 45.796875 27.640625 41.28125 31.265625 \nQ 36.765625 34.90625 28.71875 34.90625 \nL 20.21875 34.90625 \nL 20.21875 43.015625 \nL 29.109375 43.015625 \nQ 36.375 43.015625 40.234375 45.921875 \nQ 44.09375 48.828125 44.09375 54.296875 \nQ 44.09375 59.90625 40.109375 62.90625 \nQ 36.140625 65.921875 28.71875 65.921875 \nQ 24.65625 65.921875 20.015625 65.03125 \nQ 15.375 64.15625 9.8125 62.3125 \nL 9.8125 71.09375 \nQ 15.4375 72.65625 20.34375 73.4375 \nQ 25.25 74.21875 29.59375 74.21875 \nQ 40.828125 74.21875 47.359375 69.109375 \nQ 53.90625 64.015625 53.90625 55.328125 \nQ 53.90625 49.265625 50.4375 45.09375 \nQ 46.96875 40.921875 40.578125 39.3125 \nz\n\" id=\"DejaVuSans-51\"/>\n       </defs>\n       <use xlink:href=\"#DejaVuSans-48\"/>\n       <use x=\"63.623047\" xlink:href=\"#DejaVuSans-46\"/>\n       <use x=\"95.410156\" xlink:href=\"#DejaVuSans-51\"/>\n       <use x=\"159.033203\" xlink:href=\"#DejaVuSans-48\"/>\n      </g>\n     </g>\n    </g>\n    <g id=\"ytick_3\">\n     <g id=\"line2d_10\">\n      <g>\n       <use style=\"stroke:#000000;stroke-width:0.8;\" x=\"50.14375\" xlink:href=\"#m1efb50f2d4\" y=\"129.527905\"/>\n      </g>\n     </g>\n     <g id=\"text_10\">\n      <!-- 0.35 -->\n      <g transform=\"translate(20.878125 133.327124)scale(0.1 -0.1)\">\n       <use xlink:href=\"#DejaVuSans-48\"/>\n       <use x=\"63.623047\" xlink:href=\"#DejaVuSans-46\"/>\n       <use x=\"95.410156\" xlink:href=\"#DejaVuSans-51\"/>\n       <use x=\"159.033203\" xlink:href=\"#DejaVuSans-53\"/>\n      </g>\n     </g>\n    </g>\n    <g id=\"ytick_4\">\n     <g id=\"line2d_11\">\n      <g>\n       <use style=\"stroke:#000000;stroke-width:0.8;\" x=\"50.14375\" xlink:href=\"#m1efb50f2d4\" y=\"94.433834\"/>\n      </g>\n     </g>\n     <g id=\"text_11\">\n      <!-- 0.40 -->\n      <g transform=\"translate(20.878125 98.233053)scale(0.1 -0.1)\">\n       <use xlink:href=\"#DejaVuSans-48\"/>\n       <use x=\"63.623047\" xlink:href=\"#DejaVuSans-46\"/>\n       <use x=\"95.410156\" xlink:href=\"#DejaVuSans-52\"/>\n       <use x=\"159.033203\" xlink:href=\"#DejaVuSans-48\"/>\n      </g>\n     </g>\n    </g>\n    <g id=\"ytick_5\">\n     <g id=\"line2d_12\">\n      <g>\n       <use style=\"stroke:#000000;stroke-width:0.8;\" x=\"50.14375\" xlink:href=\"#m1efb50f2d4\" y=\"59.339763\"/>\n      </g>\n     </g>\n     <g id=\"text_12\">\n      <!-- 0.45 -->\n      <g transform=\"translate(20.878125 63.138982)scale(0.1 -0.1)\">\n       <use xlink:href=\"#DejaVuSans-48\"/>\n       <use x=\"63.623047\" xlink:href=\"#DejaVuSans-46\"/>\n       <use x=\"95.410156\" xlink:href=\"#DejaVuSans-52\"/>\n       <use x=\"159.033203\" xlink:href=\"#DejaVuSans-53\"/>\n      </g>\n     </g>\n    </g>\n    <g id=\"ytick_6\">\n     <g id=\"line2d_13\">\n      <g>\n       <use style=\"stroke:#000000;stroke-width:0.8;\" x=\"50.14375\" xlink:href=\"#m1efb50f2d4\" y=\"24.245692\"/>\n      </g>\n     </g>\n     <g id=\"text_13\">\n      <!-- 0.50 -->\n      <g transform=\"translate(20.878125 28.04491)scale(0.1 -0.1)\">\n       <use xlink:href=\"#DejaVuSans-48\"/>\n       <use x=\"63.623047\" xlink:href=\"#DejaVuSans-46\"/>\n       <use x=\"95.410156\" xlink:href=\"#DejaVuSans-53\"/>\n       <use x=\"159.033203\" xlink:href=\"#DejaVuSans-48\"/>\n      </g>\n     </g>\n    </g>\n    <g id=\"text_14\">\n     <!-- NON HFT ratio -->\n     <g transform=\"translate(14.798438 151.645781)rotate(-90)scale(0.1 -0.1)\">\n      <defs>\n       <path d=\"M 9.8125 72.90625 \nL 23.09375 72.90625 \nL 55.421875 11.921875 \nL 55.421875 72.90625 \nL 64.984375 72.90625 \nL 64.984375 0 \nL 51.703125 0 \nL 19.390625 60.984375 \nL 19.390625 0 \nL 9.8125 0 \nz\n\" id=\"DejaVuSans-78\"/>\n       <path d=\"M 39.40625 66.21875 \nQ 28.65625 66.21875 22.328125 58.203125 \nQ 16.015625 50.203125 16.015625 36.375 \nQ 16.015625 22.609375 22.328125 14.59375 \nQ 28.65625 6.59375 39.40625 6.59375 \nQ 50.140625 6.59375 56.421875 14.59375 \nQ 62.703125 22.609375 62.703125 36.375 \nQ 62.703125 50.203125 56.421875 58.203125 \nQ 50.140625 66.21875 39.40625 66.21875 \nz\nM 39.40625 74.21875 \nQ 54.734375 74.21875 63.90625 63.9375 \nQ 73.09375 53.65625 73.09375 36.375 \nQ 73.09375 19.140625 63.90625 8.859375 \nQ 54.734375 -1.421875 39.40625 -1.421875 \nQ 24.03125 -1.421875 14.8125 8.828125 \nQ 5.609375 19.09375 5.609375 36.375 \nQ 5.609375 53.65625 14.8125 63.9375 \nQ 24.03125 74.21875 39.40625 74.21875 \nz\n\" id=\"DejaVuSans-79\"/>\n       <path id=\"DejaVuSans-32\"/>\n       <path d=\"M 9.8125 72.90625 \nL 19.671875 72.90625 \nL 19.671875 43.015625 \nL 55.515625 43.015625 \nL 55.515625 72.90625 \nL 65.375 72.90625 \nL 65.375 0 \nL 55.515625 0 \nL 55.515625 34.71875 \nL 19.671875 34.71875 \nL 19.671875 0 \nL 9.8125 0 \nz\n\" id=\"DejaVuSans-72\"/>\n       <path d=\"M 9.8125 72.90625 \nL 51.703125 72.90625 \nL 51.703125 64.59375 \nL 19.671875 64.59375 \nL 19.671875 43.109375 \nL 48.578125 43.109375 \nL 48.578125 34.8125 \nL 19.671875 34.8125 \nL 19.671875 0 \nL 9.8125 0 \nz\n\" id=\"DejaVuSans-70\"/>\n       <path d=\"M -0.296875 72.90625 \nL 61.375 72.90625 \nL 61.375 64.59375 \nL 35.5 64.59375 \nL 35.5 0 \nL 25.59375 0 \nL 25.59375 64.59375 \nL -0.296875 64.59375 \nz\n\" id=\"DejaVuSans-84\"/>\n       <path d=\"M 41.109375 46.296875 \nQ 39.59375 47.171875 37.8125 47.578125 \nQ 36.03125 48 33.890625 48 \nQ 26.265625 48 22.1875 43.046875 \nQ 18.109375 38.09375 18.109375 28.8125 \nL 18.109375 0 \nL 9.078125 0 \nL 9.078125 54.6875 \nL 18.109375 54.6875 \nL 18.109375 46.1875 \nQ 20.953125 51.171875 25.484375 53.578125 \nQ 30.03125 56 36.53125 56 \nQ 37.453125 56 38.578125 55.875 \nQ 39.703125 55.765625 41.0625 55.515625 \nz\n\" id=\"DejaVuSans-114\"/>\n       <path d=\"M 34.28125 27.484375 \nQ 23.390625 27.484375 19.1875 25 \nQ 14.984375 22.515625 14.984375 16.5 \nQ 14.984375 11.71875 18.140625 8.90625 \nQ 21.296875 6.109375 26.703125 6.109375 \nQ 34.1875 6.109375 38.703125 11.40625 \nQ 43.21875 16.703125 43.21875 25.484375 \nL 43.21875 27.484375 \nz\nM 52.203125 31.203125 \nL 52.203125 0 \nL 43.21875 0 \nL 43.21875 8.296875 \nQ 40.140625 3.328125 35.546875 0.953125 \nQ 30.953125 -1.421875 24.3125 -1.421875 \nQ 15.921875 -1.421875 10.953125 3.296875 \nQ 6 8.015625 6 15.921875 \nQ 6 25.140625 12.171875 29.828125 \nQ 18.359375 34.515625 30.609375 34.515625 \nL 43.21875 34.515625 \nL 43.21875 35.40625 \nQ 43.21875 41.609375 39.140625 45 \nQ 35.0625 48.390625 27.6875 48.390625 \nQ 23 48.390625 18.546875 47.265625 \nQ 14.109375 46.140625 10.015625 43.890625 \nL 10.015625 52.203125 \nQ 14.9375 54.109375 19.578125 55.046875 \nQ 24.21875 56 28.609375 56 \nQ 40.484375 56 46.34375 49.84375 \nQ 52.203125 43.703125 52.203125 31.203125 \nz\n\" id=\"DejaVuSans-97\"/>\n       <path d=\"M 18.3125 70.21875 \nL 18.3125 54.6875 \nL 36.8125 54.6875 \nL 36.8125 47.703125 \nL 18.3125 47.703125 \nL 18.3125 18.015625 \nQ 18.3125 11.328125 20.140625 9.421875 \nQ 21.96875 7.515625 27.59375 7.515625 \nL 36.8125 7.515625 \nL 36.8125 0 \nL 27.59375 0 \nQ 17.1875 0 13.234375 3.875 \nQ 9.28125 7.765625 9.28125 18.015625 \nL 9.28125 47.703125 \nL 2.6875 47.703125 \nL 2.6875 54.6875 \nL 9.28125 54.6875 \nL 9.28125 70.21875 \nz\n\" id=\"DejaVuSans-116\"/>\n       <path d=\"M 9.421875 54.6875 \nL 18.40625 54.6875 \nL 18.40625 0 \nL 9.421875 0 \nz\nM 9.421875 75.984375 \nL 18.40625 75.984375 \nL 18.40625 64.59375 \nL 9.421875 64.59375 \nz\n\" id=\"DejaVuSans-105\"/>\n       <path d=\"M 30.609375 48.390625 \nQ 23.390625 48.390625 19.1875 42.75 \nQ 14.984375 37.109375 14.984375 27.296875 \nQ 14.984375 17.484375 19.15625 11.84375 \nQ 23.34375 6.203125 30.609375 6.203125 \nQ 37.796875 6.203125 41.984375 11.859375 \nQ 46.1875 17.53125 46.1875 27.296875 \nQ 46.1875 37.015625 41.984375 42.703125 \nQ 37.796875 48.390625 30.609375 48.390625 \nz\nM 30.609375 56 \nQ 42.328125 56 49.015625 48.375 \nQ 55.71875 40.765625 55.71875 27.296875 \nQ 55.71875 13.875 49.015625 6.21875 \nQ 42.328125 -1.421875 30.609375 -1.421875 \nQ 18.84375 -1.421875 12.171875 6.21875 \nQ 5.515625 13.875 5.515625 27.296875 \nQ 5.515625 40.765625 12.171875 48.375 \nQ 18.84375 56 30.609375 56 \nz\n\" id=\"DejaVuSans-111\"/>\n      </defs>\n      <use xlink:href=\"#DejaVuSans-78\"/>\n      <use x=\"74.804688\" xlink:href=\"#DejaVuSans-79\"/>\n      <use x=\"153.515625\" xlink:href=\"#DejaVuSans-78\"/>\n      <use x=\"228.320312\" xlink:href=\"#DejaVuSans-32\"/>\n      <use x=\"260.107422\" xlink:href=\"#DejaVuSans-72\"/>\n      <use x=\"335.302734\" xlink:href=\"#DejaVuSans-70\"/>\n      <use x=\"391.072266\" xlink:href=\"#DejaVuSans-84\"/>\n      <use x=\"452.15625\" xlink:href=\"#DejaVuSans-32\"/>\n      <use x=\"483.943359\" xlink:href=\"#DejaVuSans-114\"/>\n      <use x=\"525.056641\" xlink:href=\"#DejaVuSans-97\"/>\n      <use x=\"586.335938\" xlink:href=\"#DejaVuSans-116\"/>\n      <use x=\"625.544922\" xlink:href=\"#DejaVuSans-105\"/>\n      <use x=\"653.328125\" xlink:href=\"#DejaVuSans-111\"/>\n     </g>\n    </g>\n   </g>\n   <g id=\"line2d_14\">\n    <path clip-path=\"url(#p7304a9fefb)\" d=\"M 65.361932 214.756364 \nL 67.941285 208.071779 \nL 70.520638 208.071779 \nL 73.09999 207.345193 \nL 75.679343 204.458489 \nL 78.258696 203.995812 \nL 80.838049 199.716047 \nL 83.417402 199.716047 \nL 85.996755 199.716047 \nL 88.576107 195.216808 \nL 91.15546 194.055713 \nL 93.734813 190.480766 \nL 96.314166 188.018024 \nL 98.893519 186.876753 \nL 101.472872 183.764197 \nL 104.052225 183.764197 \nL 106.631577 183.764197 \nL 109.21093 183.764197 \nL 111.790283 179.312518 \nL 114.369636 179.312518 \nL 116.948989 177.782253 \nL 119.528342 176.82861 \nL 122.107695 176.82861 \nL 124.687047 174.648854 \nL 127.2664 174.648854 \nL 129.845753 174.648854 \nL 132.425106 172.420659 \nL 135.004459 172.010202 \nL 137.583812 170.470988 \nL 140.163164 168.750691 \nL 142.742517 167.812346 \nL 145.32187 167.812346 \nL 147.901223 167.812346 \nL 150.480576 166.115341 \nL 153.059929 164.621976 \nL 155.639282 164.621976 \nL 158.218634 164.621976 \nL 160.797987 162.989694 \nL 163.37734 162.495063 \nL 165.956693 161.570318 \nL 168.536046 160.722635 \nL 171.115399 160.324743 \nL 173.694752 159.222888 \nL 176.274104 157.937391 \nL 178.853457 157.937391 \nL 181.43281 156.823294 \nL 184.012163 155.848458 \nL 186.591516 153.539638 \nL 189.170869 153.539638 \nL 191.750221 153.539638 \nL 194.329574 151.181694 \nL 196.908927 151.181694 \nL 199.48828 151.181694 \nL 202.067633 150.584348 \nL 204.646986 148.773041 \nL 207.226339 146.66687 \nL 209.805691 146.312026 \nL 212.385044 146.312026 \nL 214.964397 141.225929 \nL 217.54375 141.225929 \nL 220.123103 141.225929 \nL 222.702456 141.225929 \nL 225.281809 141.225929 \nL 227.861161 141.225929 \nL 230.440514 141.225929 \nL 233.019867 135.519576 \nL 235.59922 135.069074 \nL 238.178573 134.541344 \nL 240.757926 132.718275 \nL 243.337279 132.227449 \nL 245.916631 132.227449 \nL 248.495984 132.227449 \nL 251.075337 132.227449 \nL 253.65469 131.053734 \nL 256.234043 130.344046 \nL 258.813396 129.527905 \nL 261.392748 127.463548 \nL 263.972101 127.463548 \nL 266.551454 127.463548 \nL 269.130807 124.514466 \nL 271.71016 124.514466 \nL 274.289513 124.514466 \nL 276.868866 123.568535 \nL 279.448218 119.956795 \nL 282.027571 116.598511 \nL 284.606924 115.230321 \nL 287.186277 114.021223 \nL 289.76563 114.021223 \nL 292.344983 113.701167 \nL 294.924336 110.325489 \nL 297.503688 108.955519 \nL 300.083041 108.955519 \nL 302.662394 107.195314 \nL 305.241747 103.0283 \nL 307.8211 102.232516 \nL 310.400453 101.571611 \nL 312.979805 101.571611 \nL 315.559158 97.082443 \nL 318.138511 90.047075 \nL 320.717864 85.278859 \nL 323.297217 84.752711 \nL 325.87657 79.080178 \nL 328.455923 77.418527 \nL 331.035275 76.023829 \nL 333.614628 72.651307 \nL 336.193981 68.113281 \nL 338.773334 68.113281 \nL 341.352687 68.113281 \nL 343.93204 56.149393 \nL 346.511393 54.326324 \nL 349.090745 51.241131 \nL 351.670098 50.435297 \nL 354.249451 48.959826 \nL 356.828804 44.299447 \nL 359.408157 39.074172 \nL 361.98751 37.743411 \nL 364.566862 37.743411 \nL 367.146215 18.675204 \nL 369.725568 17.083636 \n\" style=\"fill:none;stroke:#1f77b4;stroke-linecap:square;stroke-width:1.5;\"/>\n   </g>\n   <g id=\"patch_3\">\n    <path d=\"M 50.14375 224.64 \nL 50.14375 7.2 \n\" style=\"fill:none;stroke:#000000;stroke-linecap:square;stroke-linejoin:miter;stroke-width:0.8;\"/>\n   </g>\n   <g id=\"patch_4\">\n    <path d=\"M 384.94375 224.64 \nL 384.94375 7.2 \n\" style=\"fill:none;stroke:#000000;stroke-linecap:square;stroke-linejoin:miter;stroke-width:0.8;\"/>\n   </g>\n   <g id=\"patch_5\">\n    <path d=\"M 50.14375 224.64 \nL 384.94375 224.64 \n\" style=\"fill:none;stroke:#000000;stroke-linecap:square;stroke-linejoin:miter;stroke-width:0.8;\"/>\n   </g>\n   <g id=\"patch_6\">\n    <path d=\"M 50.14375 7.2 \nL 384.94375 7.2 \n\" style=\"fill:none;stroke:#000000;stroke-linecap:square;stroke-linejoin:miter;stroke-width:0.8;\"/>\n   </g>\n  </g>\n </g>\n <defs>\n  <clipPath id=\"p7304a9fefb\">\n   <rect height=\"217.44\" width=\"334.8\" x=\"50.14375\" y=\"7.2\"/>\n  </clipPath>\n </defs>\n</svg>\n",
      "image/png": "[encoded data removed]"
     },
     "metadata": {
      "needs_background": "light"
     }
    }
   ],
   "source": [
    "non_hft_list = [v[2] for v in get_share_trader_distribution(x_train).values()]\n",
    "non_hft_list.sort()\n",
    "plt.plot(non_hft_list)\n",
    "plt.ylabel('NON HFT ratio')\n",
    "plt.show()"
   ]
  },
  {
   "cell_type": "code",
   "execution_count": 63,
   "metadata": {},
   "outputs": [
    {
     "output_type": "display_data",
     "data": {
      "text/plain": "<Figure size 432x288 with 1 Axes>",
      "image/svg+xml": "<?xml version=\"1.0\" encoding=\"utf-8\" standalone=\"no\"?>\n<!DOCTYPE svg PUBLIC \"-//W3C//DTD SVG 1.1//EN\"\n  \"http://www.w3.org/Graphics/SVG/1.1/DTD/svg11.dtd\">\n<!-- Created with matplotlib (https://matplotlib.org/) -->\n<svg height=\"252.281272pt\" version=\"1.1\" viewBox=\"0 0 398.50625 252.281272\" width=\"398.50625pt\" xmlns=\"http://www.w3.org/2000/svg\" xmlns:xlink=\"http://www.w3.org/1999/xlink\">\n <metadata>\n  <rdf:RDF xmlns:cc=\"http://creativecommons.org/ns#\" xmlns:dc=\"http://purl.org/dc/elements/1.1/\" xmlns:rdf=\"http://www.w3.org/1999/02/22-rdf-syntax-ns#\">\n   <cc:Work>\n    <dc:type rdf:resource=\"http://purl.org/dc/dcmitype/StillImage\"/>\n    <dc:date>2021-03-07T17:41:07.626530</dc:date>\n    <dc:format>image/svg+xml</dc:format>\n    <dc:creator>\n     <cc:Agent>\n      <dc:title>Matplotlib v3.3.2, https://matplotlib.org/</dc:title>\n     </cc:Agent>\n    </dc:creator>\n   </cc:Work>\n  </rdf:RDF>\n </metadata>\n <defs>\n  <style type=\"text/css\">*{stroke-linecap:butt;stroke-linejoin:round;}</style>\n </defs>\n <g id=\"figure_1\">\n  <g id=\"patch_1\">\n   <path d=\"M 0 252.281272 \nL 398.50625 252.281272 \nL 398.50625 0 \nL 0 0 \nz\n\" style=\"fill:none;\"/>\n  </g>\n  <g id=\"axes_1\">\n   <g id=\"patch_2\">\n    <path d=\"M 56.50625 228.403147 \nL 391.30625 228.403147 \nL 391.30625 10.963147 \nL 56.50625 10.963147 \nz\n\" style=\"fill:#ffffff;\"/>\n   </g>\n   <g id=\"matplotlib.axis_1\">\n    <g id=\"xtick_1\">\n     <g id=\"line2d_1\">\n      <defs>\n       <path d=\"M 0 0 \nL 0 3.5 \n\" id=\"m67b90d9428\" style=\"stroke:#000000;stroke-width:0.8;\"/>\n      </defs>\n      <g>\n       <use style=\"stroke:#000000;stroke-width:0.8;\" x=\"71.724432\" xlink:href=\"#m67b90d9428\" y=\"228.403147\"/>\n      </g>\n     </g>\n     <g id=\"text_1\">\n      <!-- 0 -->\n      <g transform=\"translate(68.543182 243.001585)scale(0.1 -0.1)\">\n       <defs>\n        <path d=\"M 31.78125 66.40625 \nQ 24.171875 66.40625 20.328125 58.90625 \nQ 16.5 51.421875 16.5 36.375 \nQ 16.5 21.390625 20.328125 13.890625 \nQ 24.171875 6.390625 31.78125 6.390625 \nQ 39.453125 6.390625 43.28125 13.890625 \nQ 47.125 21.390625 47.125 36.375 \nQ 47.125 51.421875 43.28125 58.90625 \nQ 39.453125 66.40625 31.78125 66.40625 \nz\nM 31.78125 74.21875 \nQ 44.046875 74.21875 50.515625 64.515625 \nQ 56.984375 54.828125 56.984375 36.375 \nQ 56.984375 17.96875 50.515625 8.265625 \nQ 44.046875 -1.421875 31.78125 -1.421875 \nQ 19.53125 -1.421875 13.0625 8.265625 \nQ 6.59375 17.96875 6.59375 36.375 \nQ 6.59375 54.828125 13.0625 64.515625 \nQ 19.53125 74.21875 31.78125 74.21875 \nz\n\" id=\"DejaVuSans-48\"/>\n       </defs>\n       <use xlink:href=\"#DejaVuSans-48\"/>\n      </g>\n     </g>\n    </g>\n    <g id=\"xtick_2\">\n     <g id=\"line2d_2\">\n      <g>\n       <use style=\"stroke:#000000;stroke-width:0.8;\" x=\"123.311489\" xlink:href=\"#m67b90d9428\" y=\"228.403147\"/>\n      </g>\n     </g>\n     <g id=\"text_2\">\n      <!-- 20 -->\n      <g transform=\"translate(116.948989 243.001585)scale(0.1 -0.1)\">\n       <defs>\n        <path d=\"M 19.1875 8.296875 \nL 53.609375 8.296875 \nL 53.609375 0 \nL 7.328125 0 \nL 7.328125 8.296875 \nQ 12.9375 14.109375 22.625 23.890625 \nQ 32.328125 33.6875 34.8125 36.53125 \nQ 39.546875 41.84375 41.421875 45.53125 \nQ 43.3125 49.21875 43.3125 52.78125 \nQ 43.3125 58.59375 39.234375 62.25 \nQ 35.15625 65.921875 28.609375 65.921875 \nQ 23.96875 65.921875 18.8125 64.3125 \nQ 13.671875 62.703125 7.8125 59.421875 \nL 7.8125 69.390625 \nQ 13.765625 71.78125 18.9375 73 \nQ 24.125 74.21875 28.421875 74.21875 \nQ 39.75 74.21875 46.484375 68.546875 \nQ 53.21875 62.890625 53.21875 53.421875 \nQ 53.21875 48.921875 51.53125 44.890625 \nQ 49.859375 40.875 45.40625 35.40625 \nQ 44.1875 33.984375 37.640625 27.21875 \nQ 31.109375 20.453125 19.1875 8.296875 \nz\n\" id=\"DejaVuSans-50\"/>\n       </defs>\n       <use xlink:href=\"#DejaVuSans-50\"/>\n       <use x=\"63.623047\" xlink:href=\"#DejaVuSans-48\"/>\n      </g>\n     </g>\n    </g>\n    <g id=\"xtick_3\">\n     <g id=\"line2d_3\">\n      <g>\n       <use style=\"stroke:#000000;stroke-width:0.8;\" x=\"174.898546\" xlink:href=\"#m67b90d9428\" y=\"228.403147\"/>\n      </g>\n     </g>\n     <g id=\"text_3\">\n      <!-- 40 -->\n      <g transform=\"translate(168.536046 243.001585)scale(0.1 -0.1)\">\n       <defs>\n        <path d=\"M 37.796875 64.3125 \nL 12.890625 25.390625 \nL 37.796875 25.390625 \nz\nM 35.203125 72.90625 \nL 47.609375 72.90625 \nL 47.609375 25.390625 \nL 58.015625 25.390625 \nL 58.015625 17.1875 \nL 47.609375 17.1875 \nL 47.609375 0 \nL 37.796875 0 \nL 37.796875 17.1875 \nL 4.890625 17.1875 \nL 4.890625 26.703125 \nz\n\" id=\"DejaVuSans-52\"/>\n       </defs>\n       <use xlink:href=\"#DejaVuSans-52\"/>\n       <use x=\"63.623047\" xlink:href=\"#DejaVuSans-48\"/>\n      </g>\n     </g>\n    </g>\n    <g id=\"xtick_4\">\n     <g id=\"line2d_4\">\n      <g>\n       <use style=\"stroke:#000000;stroke-width:0.8;\" x=\"226.485603\" xlink:href=\"#m67b90d9428\" y=\"228.403147\"/>\n      </g>\n     </g>\n     <g id=\"text_4\">\n      <!-- 60 -->\n      <g transform=\"translate(220.123103 243.001585)scale(0.1 -0.1)\">\n       <defs>\n        <path d=\"M 33.015625 40.375 \nQ 26.375 40.375 22.484375 35.828125 \nQ 18.609375 31.296875 18.609375 23.390625 \nQ 18.609375 15.53125 22.484375 10.953125 \nQ 26.375 6.390625 33.015625 6.390625 \nQ 39.65625 6.390625 43.53125 10.953125 \nQ 47.40625 15.53125 47.40625 23.390625 \nQ 47.40625 31.296875 43.53125 35.828125 \nQ 39.65625 40.375 33.015625 40.375 \nz\nM 52.59375 71.296875 \nL 52.59375 62.3125 \nQ 48.875 64.0625 45.09375 64.984375 \nQ 41.3125 65.921875 37.59375 65.921875 \nQ 27.828125 65.921875 22.671875 59.328125 \nQ 17.53125 52.734375 16.796875 39.40625 \nQ 19.671875 43.65625 24.015625 45.921875 \nQ 28.375 48.1875 33.59375 48.1875 \nQ 44.578125 48.1875 50.953125 41.515625 \nQ 57.328125 34.859375 57.328125 23.390625 \nQ 57.328125 12.15625 50.6875 5.359375 \nQ 44.046875 -1.421875 33.015625 -1.421875 \nQ 20.359375 -1.421875 13.671875 8.265625 \nQ 6.984375 17.96875 6.984375 36.375 \nQ 6.984375 53.65625 15.1875 63.9375 \nQ 23.390625 74.21875 37.203125 74.21875 \nQ 40.921875 74.21875 44.703125 73.484375 \nQ 48.484375 72.75 52.59375 71.296875 \nz\n\" id=\"DejaVuSans-54\"/>\n       </defs>\n       <use xlink:href=\"#DejaVuSans-54\"/>\n       <use x=\"63.623047\" xlink:href=\"#DejaVuSans-48\"/>\n      </g>\n     </g>\n    </g>\n    <g id=\"xtick_5\">\n     <g id=\"line2d_5\">\n      <g>\n       <use style=\"stroke:#000000;stroke-width:0.8;\" x=\"278.07266\" xlink:href=\"#m67b90d9428\" y=\"228.403147\"/>\n      </g>\n     </g>\n     <g id=\"text_5\">\n      <!-- 80 -->\n      <g transform=\"translate(271.71016 243.001585)scale(0.1 -0.1)\">\n       <defs>\n        <path d=\"M 31.78125 34.625 \nQ 24.75 34.625 20.71875 30.859375 \nQ 16.703125 27.09375 16.703125 20.515625 \nQ 16.703125 13.921875 20.71875 10.15625 \nQ 24.75 6.390625 31.78125 6.390625 \nQ 38.8125 6.390625 42.859375 10.171875 \nQ 46.921875 13.96875 46.921875 20.515625 \nQ 46.921875 27.09375 42.890625 30.859375 \nQ 38.875 34.625 31.78125 34.625 \nz\nM 21.921875 38.8125 \nQ 15.578125 40.375 12.03125 44.71875 \nQ 8.5 49.078125 8.5 55.328125 \nQ 8.5 64.0625 14.71875 69.140625 \nQ 20.953125 74.21875 31.78125 74.21875 \nQ 42.671875 74.21875 48.875 69.140625 \nQ 55.078125 64.0625 55.078125 55.328125 \nQ 55.078125 49.078125 51.53125 44.71875 \nQ 48 40.375 41.703125 38.8125 \nQ 48.828125 37.15625 52.796875 32.3125 \nQ 56.78125 27.484375 56.78125 20.515625 \nQ 56.78125 9.90625 50.3125 4.234375 \nQ 43.84375 -1.421875 31.78125 -1.421875 \nQ 19.734375 -1.421875 13.25 4.234375 \nQ 6.78125 9.90625 6.78125 20.515625 \nQ 6.78125 27.484375 10.78125 32.3125 \nQ 14.796875 37.15625 21.921875 38.8125 \nz\nM 18.3125 54.390625 \nQ 18.3125 48.734375 21.84375 45.5625 \nQ 25.390625 42.390625 31.78125 42.390625 \nQ 38.140625 42.390625 41.71875 45.5625 \nQ 45.3125 48.734375 45.3125 54.390625 \nQ 45.3125 60.0625 41.71875 63.234375 \nQ 38.140625 66.40625 31.78125 66.40625 \nQ 25.390625 66.40625 21.84375 63.234375 \nQ 18.3125 60.0625 18.3125 54.390625 \nz\n\" id=\"DejaVuSans-56\"/>\n       </defs>\n       <use xlink:href=\"#DejaVuSans-56\"/>\n       <use x=\"63.623047\" xlink:href=\"#DejaVuSans-48\"/>\n      </g>\n     </g>\n    </g>\n    <g id=\"xtick_6\">\n     <g id=\"line2d_6\">\n      <g>\n       <use style=\"stroke:#000000;stroke-width:0.8;\" x=\"329.659717\" xlink:href=\"#m67b90d9428\" y=\"228.403147\"/>\n      </g>\n     </g>\n     <g id=\"text_6\">\n      <!-- 100 -->\n      <g transform=\"translate(320.115967 243.001585)scale(0.1 -0.1)\">\n       <defs>\n        <path d=\"M 12.40625 8.296875 \nL 28.515625 8.296875 \nL 28.515625 63.921875 \nL 10.984375 60.40625 \nL 10.984375 69.390625 \nL 28.421875 72.90625 \nL 38.28125 72.90625 \nL 38.28125 8.296875 \nL 54.390625 8.296875 \nL 54.390625 0 \nL 12.40625 0 \nz\n\" id=\"DejaVuSans-49\"/>\n       </defs>\n       <use xlink:href=\"#DejaVuSans-49\"/>\n       <use x=\"63.623047\" xlink:href=\"#DejaVuSans-48\"/>\n       <use x=\"127.246094\" xlink:href=\"#DejaVuSans-48\"/>\n      </g>\n     </g>\n    </g>\n    <g id=\"xtick_7\">\n     <g id=\"line2d_7\">\n      <g>\n       <use style=\"stroke:#000000;stroke-width:0.8;\" x=\"381.246774\" xlink:href=\"#m67b90d9428\" y=\"228.403147\"/>\n      </g>\n     </g>\n     <g id=\"text_7\">\n      <!-- 120 -->\n      <g transform=\"translate(371.703024 243.001585)scale(0.1 -0.1)\">\n       <use xlink:href=\"#DejaVuSans-49\"/>\n       <use x=\"63.623047\" xlink:href=\"#DejaVuSans-50\"/>\n       <use x=\"127.246094\" xlink:href=\"#DejaVuSans-48\"/>\n      </g>\n     </g>\n    </g>\n   </g>\n   <g id=\"matplotlib.axis_2\">\n    <g id=\"ytick_1\">\n     <g id=\"line2d_8\">\n      <defs>\n       <path d=\"M 0 0 \nL -3.5 0 \n\" id=\"mc3000b85dd\" style=\"stroke:#000000;stroke-width:0.8;\"/>\n      </defs>\n      <g>\n       <use style=\"stroke:#000000;stroke-width:0.8;\" x=\"56.50625\" xlink:href=\"#mc3000b85dd\" y=\"210.980533\"/>\n      </g>\n     </g>\n     <g id=\"text_8\">\n      <!-- 0.325 -->\n      <g transform=\"translate(20.878125 214.779751)scale(0.1 -0.1)\">\n       <defs>\n        <path d=\"M 10.6875 12.40625 \nL 21 12.40625 \nL 21 0 \nL 10.6875 0 \nz\n\" id=\"DejaVuSans-46\"/>\n        <path d=\"M 40.578125 39.3125 \nQ 47.65625 37.796875 51.625 33 \nQ 55.609375 28.21875 55.609375 21.1875 \nQ 55.609375 10.40625 48.1875 4.484375 \nQ 40.765625 -1.421875 27.09375 -1.421875 \nQ 22.515625 -1.421875 17.65625 -0.515625 \nQ 12.796875 0.390625 7.625 2.203125 \nL 7.625 11.71875 \nQ 11.71875 9.328125 16.59375 8.109375 \nQ 21.484375 6.890625 26.8125 6.890625 \nQ 36.078125 6.890625 40.9375 10.546875 \nQ 45.796875 14.203125 45.796875 21.1875 \nQ 45.796875 27.640625 41.28125 31.265625 \nQ 36.765625 34.90625 28.71875 34.90625 \nL 20.21875 34.90625 \nL 20.21875 43.015625 \nL 29.109375 43.015625 \nQ 36.375 43.015625 40.234375 45.921875 \nQ 44.09375 48.828125 44.09375 54.296875 \nQ 44.09375 59.90625 40.109375 62.90625 \nQ 36.140625 65.921875 28.71875 65.921875 \nQ 24.65625 65.921875 20.015625 65.03125 \nQ 15.375 64.15625 9.8125 62.3125 \nL 9.8125 71.09375 \nQ 15.4375 72.65625 20.34375 73.4375 \nQ 25.25 74.21875 29.59375 74.21875 \nQ 40.828125 74.21875 47.359375 69.109375 \nQ 53.90625 64.015625 53.90625 55.328125 \nQ 53.90625 49.265625 50.4375 45.09375 \nQ 46.96875 40.921875 40.578125 39.3125 \nz\n\" id=\"DejaVuSans-51\"/>\n        <path d=\"M 10.796875 72.90625 \nL 49.515625 72.90625 \nL 49.515625 64.59375 \nL 19.828125 64.59375 \nL 19.828125 46.734375 \nQ 21.96875 47.46875 24.109375 47.828125 \nQ 26.265625 48.1875 28.421875 48.1875 \nQ 40.625 48.1875 47.75 41.5 \nQ 54.890625 34.8125 54.890625 23.390625 \nQ 54.890625 11.625 47.5625 5.09375 \nQ 40.234375 -1.421875 26.90625 -1.421875 \nQ 22.3125 -1.421875 17.546875 -0.640625 \nQ 12.796875 0.140625 7.71875 1.703125 \nL 7.71875 11.625 \nQ 12.109375 9.234375 16.796875 8.0625 \nQ 21.484375 6.890625 26.703125 6.890625 \nQ 35.15625 6.890625 40.078125 11.328125 \nQ 45.015625 15.765625 45.015625 23.390625 \nQ 45.015625 31 40.078125 35.4375 \nQ 35.15625 39.890625 26.703125 39.890625 \nQ 22.75 39.890625 18.8125 39.015625 \nQ 14.890625 38.140625 10.796875 36.28125 \nz\n\" id=\"DejaVuSans-53\"/>\n       </defs>\n       <use xlink:href=\"#DejaVuSans-48\"/>\n       <use x=\"63.623047\" xlink:href=\"#DejaVuSans-46\"/>\n       <use x=\"95.410156\" xlink:href=\"#DejaVuSans-51\"/>\n       <use x=\"159.033203\" xlink:href=\"#DejaVuSans-50\"/>\n       <use x=\"222.65625\" xlink:href=\"#DejaVuSans-53\"/>\n      </g>\n     </g>\n    </g>\n    <g id=\"ytick_2\">\n     <g id=\"line2d_9\">\n      <g>\n       <use style=\"stroke:#000000;stroke-width:0.8;\" x=\"56.50625\" xlink:href=\"#mc3000b85dd\" y=\"185.982868\"/>\n      </g>\n     </g>\n     <g id=\"text_9\">\n      <!-- 0.350 -->\n      <g transform=\"translate(20.878125 189.782087)scale(0.1 -0.1)\">\n       <use xlink:href=\"#DejaVuSans-48\"/>\n       <use x=\"63.623047\" xlink:href=\"#DejaVuSans-46\"/>\n       <use x=\"95.410156\" xlink:href=\"#DejaVuSans-51\"/>\n       <use x=\"159.033203\" xlink:href=\"#DejaVuSans-53\"/>\n       <use x=\"222.65625\" xlink:href=\"#DejaVuSans-48\"/>\n      </g>\n     </g>\n    </g>\n    <g id=\"ytick_3\">\n     <g id=\"line2d_10\">\n      <g>\n       <use style=\"stroke:#000000;stroke-width:0.8;\" x=\"56.50625\" xlink:href=\"#mc3000b85dd\" y=\"160.985204\"/>\n      </g>\n     </g>\n     <g id=\"text_10\">\n      <!-- 0.375 -->\n      <g transform=\"translate(20.878125 164.784423)scale(0.1 -0.1)\">\n       <defs>\n        <path d=\"M 8.203125 72.90625 \nL 55.078125 72.90625 \nL 55.078125 68.703125 \nL 28.609375 0 \nL 18.3125 0 \nL 43.21875 64.59375 \nL 8.203125 64.59375 \nz\n\" id=\"DejaVuSans-55\"/>\n       </defs>\n       <use xlink:href=\"#DejaVuSans-48\"/>\n       <use x=\"63.623047\" xlink:href=\"#DejaVuSans-46\"/>\n       <use x=\"95.410156\" xlink:href=\"#DejaVuSans-51\"/>\n       <use x=\"159.033203\" xlink:href=\"#DejaVuSans-55\"/>\n       <use x=\"222.65625\" xlink:href=\"#DejaVuSans-53\"/>\n      </g>\n     </g>\n    </g>\n    <g id=\"ytick_4\">\n     <g id=\"line2d_11\">\n      <g>\n       <use style=\"stroke:#000000;stroke-width:0.8;\" x=\"56.50625\" xlink:href=\"#mc3000b85dd\" y=\"135.98754\"/>\n      </g>\n     </g>\n     <g id=\"text_11\">\n      <!-- 0.400 -->\n      <g transform=\"translate(20.878125 139.786759)scale(0.1 -0.1)\">\n       <use xlink:href=\"#DejaVuSans-48\"/>\n       <use x=\"63.623047\" xlink:href=\"#DejaVuSans-46\"/>\n       <use x=\"95.410156\" xlink:href=\"#DejaVuSans-52\"/>\n       <use x=\"159.033203\" xlink:href=\"#DejaVuSans-48\"/>\n       <use x=\"222.65625\" xlink:href=\"#DejaVuSans-48\"/>\n      </g>\n     </g>\n    </g>\n    <g id=\"ytick_5\">\n     <g id=\"line2d_12\">\n      <g>\n       <use style=\"stroke:#000000;stroke-width:0.8;\" x=\"56.50625\" xlink:href=\"#mc3000b85dd\" y=\"110.989876\"/>\n      </g>\n     </g>\n     <g id=\"text_12\">\n      <!-- 0.425 -->\n      <g transform=\"translate(20.878125 114.789094)scale(0.1 -0.1)\">\n       <use xlink:href=\"#DejaVuSans-48\"/>\n       <use x=\"63.623047\" xlink:href=\"#DejaVuSans-46\"/>\n       <use x=\"95.410156\" xlink:href=\"#DejaVuSans-52\"/>\n       <use x=\"159.033203\" xlink:href=\"#DejaVuSans-50\"/>\n       <use x=\"222.65625\" xlink:href=\"#DejaVuSans-53\"/>\n      </g>\n     </g>\n    </g>\n    <g id=\"ytick_6\">\n     <g id=\"line2d_13\">\n      <g>\n       <use style=\"stroke:#000000;stroke-width:0.8;\" x=\"56.50625\" xlink:href=\"#mc3000b85dd\" y=\"85.992211\"/>\n      </g>\n     </g>\n     <g id=\"text_13\">\n      <!-- 0.450 -->\n      <g transform=\"translate(20.878125 89.79143)scale(0.1 -0.1)\">\n       <use xlink:href=\"#DejaVuSans-48\"/>\n       <use x=\"63.623047\" xlink:href=\"#DejaVuSans-46\"/>\n       <use x=\"95.410156\" xlink:href=\"#DejaVuSans-52\"/>\n       <use x=\"159.033203\" xlink:href=\"#DejaVuSans-53\"/>\n       <use x=\"222.65625\" xlink:href=\"#DejaVuSans-48\"/>\n      </g>\n     </g>\n    </g>\n    <g id=\"ytick_7\">\n     <g id=\"line2d_14\">\n      <g>\n       <use style=\"stroke:#000000;stroke-width:0.8;\" x=\"56.50625\" xlink:href=\"#mc3000b85dd\" y=\"60.994547\"/>\n      </g>\n     </g>\n     <g id=\"text_14\">\n      <!-- 0.475 -->\n      <g transform=\"translate(20.878125 64.793766)scale(0.1 -0.1)\">\n       <use xlink:href=\"#DejaVuSans-48\"/>\n       <use x=\"63.623047\" xlink:href=\"#DejaVuSans-46\"/>\n       <use x=\"95.410156\" xlink:href=\"#DejaVuSans-52\"/>\n       <use x=\"159.033203\" xlink:href=\"#DejaVuSans-55\"/>\n       <use x=\"222.65625\" xlink:href=\"#DejaVuSans-53\"/>\n      </g>\n     </g>\n    </g>\n    <g id=\"ytick_8\">\n     <g id=\"line2d_15\">\n      <g>\n       <use style=\"stroke:#000000;stroke-width:0.8;\" x=\"56.50625\" xlink:href=\"#mc3000b85dd\" y=\"35.996883\"/>\n      </g>\n     </g>\n     <g id=\"text_15\">\n      <!-- 0.500 -->\n      <g transform=\"translate(20.878125 39.796102)scale(0.1 -0.1)\">\n       <use xlink:href=\"#DejaVuSans-48\"/>\n       <use x=\"63.623047\" xlink:href=\"#DejaVuSans-46\"/>\n       <use x=\"95.410156\" xlink:href=\"#DejaVuSans-53\"/>\n       <use x=\"159.033203\" xlink:href=\"#DejaVuSans-48\"/>\n       <use x=\"222.65625\" xlink:href=\"#DejaVuSans-48\"/>\n      </g>\n     </g>\n    </g>\n    <g id=\"ytick_9\">\n     <g id=\"line2d_16\">\n      <g>\n       <use style=\"stroke:#000000;stroke-width:0.8;\" x=\"56.50625\" xlink:href=\"#mc3000b85dd\" y=\"10.999219\"/>\n      </g>\n     </g>\n     <g id=\"text_16\">\n      <!-- 0.525 -->\n      <g transform=\"translate(20.878125 14.798438)scale(0.1 -0.1)\">\n       <use xlink:href=\"#DejaVuSans-48\"/>\n       <use x=\"63.623047\" xlink:href=\"#DejaVuSans-46\"/>\n       <use x=\"95.410156\" xlink:href=\"#DejaVuSans-53\"/>\n       <use x=\"159.033203\" xlink:href=\"#DejaVuSans-50\"/>\n       <use x=\"222.65625\" xlink:href=\"#DejaVuSans-53\"/>\n      </g>\n     </g>\n    </g>\n    <g id=\"text_17\">\n     <!-- MIX ratio -->\n     <g transform=\"translate(14.798437 142.014397)rotate(-90)scale(0.1 -0.1)\">\n      <defs>\n       <path d=\"M 9.8125 72.90625 \nL 24.515625 72.90625 \nL 43.109375 23.296875 \nL 61.8125 72.90625 \nL 76.515625 72.90625 \nL 76.515625 0 \nL 66.890625 0 \nL 66.890625 64.015625 \nL 48.09375 14.015625 \nL 38.1875 14.015625 \nL 19.390625 64.015625 \nL 19.390625 0 \nL 9.8125 0 \nz\n\" id=\"DejaVuSans-77\"/>\n       <path d=\"M 9.8125 72.90625 \nL 19.671875 72.90625 \nL 19.671875 0 \nL 9.8125 0 \nz\n\" id=\"DejaVuSans-73\"/>\n       <path d=\"M 6.296875 72.90625 \nL 16.890625 72.90625 \nL 35.015625 45.796875 \nL 53.21875 72.90625 \nL 63.8125 72.90625 \nL 40.375 37.890625 \nL 65.375 0 \nL 54.78125 0 \nL 34.28125 31 \nL 13.625 0 \nL 2.984375 0 \nL 29 38.921875 \nz\n\" id=\"DejaVuSans-88\"/>\n       <path id=\"DejaVuSans-32\"/>\n       <path d=\"M 41.109375 46.296875 \nQ 39.59375 47.171875 37.8125 47.578125 \nQ 36.03125 48 33.890625 48 \nQ 26.265625 48 22.1875 43.046875 \nQ 18.109375 38.09375 18.109375 28.8125 \nL 18.109375 0 \nL 9.078125 0 \nL 9.078125 54.6875 \nL 18.109375 54.6875 \nL 18.109375 46.1875 \nQ 20.953125 51.171875 25.484375 53.578125 \nQ 30.03125 56 36.53125 56 \nQ 37.453125 56 38.578125 55.875 \nQ 39.703125 55.765625 41.0625 55.515625 \nz\n\" id=\"DejaVuSans-114\"/>\n       <path d=\"M 34.28125 27.484375 \nQ 23.390625 27.484375 19.1875 25 \nQ 14.984375 22.515625 14.984375 16.5 \nQ 14.984375 11.71875 18.140625 8.90625 \nQ 21.296875 6.109375 26.703125 6.109375 \nQ 34.1875 6.109375 38.703125 11.40625 \nQ 43.21875 16.703125 43.21875 25.484375 \nL 43.21875 27.484375 \nz\nM 52.203125 31.203125 \nL 52.203125 0 \nL 43.21875 0 \nL 43.21875 8.296875 \nQ 40.140625 3.328125 35.546875 0.953125 \nQ 30.953125 -1.421875 24.3125 -1.421875 \nQ 15.921875 -1.421875 10.953125 3.296875 \nQ 6 8.015625 6 15.921875 \nQ 6 25.140625 12.171875 29.828125 \nQ 18.359375 34.515625 30.609375 34.515625 \nL 43.21875 34.515625 \nL 43.21875 35.40625 \nQ 43.21875 41.609375 39.140625 45 \nQ 35.0625 48.390625 27.6875 48.390625 \nQ 23 48.390625 18.546875 47.265625 \nQ 14.109375 46.140625 10.015625 43.890625 \nL 10.015625 52.203125 \nQ 14.9375 54.109375 19.578125 55.046875 \nQ 24.21875 56 28.609375 56 \nQ 40.484375 56 46.34375 49.84375 \nQ 52.203125 43.703125 52.203125 31.203125 \nz\n\" id=\"DejaVuSans-97\"/>\n       <path d=\"M 18.3125 70.21875 \nL 18.3125 54.6875 \nL 36.8125 54.6875 \nL 36.8125 47.703125 \nL 18.3125 47.703125 \nL 18.3125 18.015625 \nQ 18.3125 11.328125 20.140625 9.421875 \nQ 21.96875 7.515625 27.59375 7.515625 \nL 36.8125 7.515625 \nL 36.8125 0 \nL 27.59375 0 \nQ 17.1875 0 13.234375 3.875 \nQ 9.28125 7.765625 9.28125 18.015625 \nL 9.28125 47.703125 \nL 2.6875 47.703125 \nL 2.6875 54.6875 \nL 9.28125 54.6875 \nL 9.28125 70.21875 \nz\n\" id=\"DejaVuSans-116\"/>\n       <path d=\"M 9.421875 54.6875 \nL 18.40625 54.6875 \nL 18.40625 0 \nL 9.421875 0 \nz\nM 9.421875 75.984375 \nL 18.40625 75.984375 \nL 18.40625 64.59375 \nL 9.421875 64.59375 \nz\n\" id=\"DejaVuSans-105\"/>\n       <path d=\"M 30.609375 48.390625 \nQ 23.390625 48.390625 19.1875 42.75 \nQ 14.984375 37.109375 14.984375 27.296875 \nQ 14.984375 17.484375 19.15625 11.84375 \nQ 23.34375 6.203125 30.609375 6.203125 \nQ 37.796875 6.203125 41.984375 11.859375 \nQ 46.1875 17.53125 46.1875 27.296875 \nQ 46.1875 37.015625 41.984375 42.703125 \nQ 37.796875 48.390625 30.609375 48.390625 \nz\nM 30.609375 56 \nQ 42.328125 56 49.015625 48.375 \nQ 55.71875 40.765625 55.71875 27.296875 \nQ 55.71875 13.875 49.015625 6.21875 \nQ 42.328125 -1.421875 30.609375 -1.421875 \nQ 18.84375 -1.421875 12.171875 6.21875 \nQ 5.515625 13.875 5.515625 27.296875 \nQ 5.515625 40.765625 12.171875 48.375 \nQ 18.84375 56 30.609375 56 \nz\n\" id=\"DejaVuSans-111\"/>\n      </defs>\n      <use xlink:href=\"#DejaVuSans-77\"/>\n      <use x=\"86.279297\" xlink:href=\"#DejaVuSans-73\"/>\n      <use x=\"115.771484\" xlink:href=\"#DejaVuSans-88\"/>\n      <use x=\"184.277344\" xlink:href=\"#DejaVuSans-32\"/>\n      <use x=\"216.064453\" xlink:href=\"#DejaVuSans-114\"/>\n      <use x=\"257.177734\" xlink:href=\"#DejaVuSans-97\"/>\n      <use x=\"318.457031\" xlink:href=\"#DejaVuSans-116\"/>\n      <use x=\"357.666016\" xlink:href=\"#DejaVuSans-105\"/>\n      <use x=\"385.449219\" xlink:href=\"#DejaVuSans-111\"/>\n     </g>\n    </g>\n   </g>\n   <g id=\"line2d_17\">\n    <path clip-path=\"url(#pe001b72cf7)\" d=\"M 71.724432 218.519511 \nL 74.303785 212.036772 \nL 76.883138 212.036772 \nL 79.46249 209.450063 \nL 82.041843 207.622637 \nL 84.621196 207.409438 \nL 87.200549 207.409438 \nL 89.779902 197.520252 \nL 92.359255 192.232284 \nL 94.938607 192.232284 \nL 97.51796 192.232284 \nL 100.097313 189.828663 \nL 102.676666 187.497878 \nL 105.256019 177.493096 \nL 107.835372 176.608744 \nL 110.414725 175.328126 \nL 112.994077 173.91503 \nL 115.57343 173.91503 \nL 118.152783 172.347779 \nL 120.732136 170.59969 \nL 123.311489 168.63755 \nL 125.890842 166.419479 \nL 128.470195 163.435956 \nL 131.049547 163.10365 \nL 133.6289 163.10365 \nL 136.208253 158.626934 \nL 138.787606 156.675262 \nL 141.366959 156.675262 \nL 143.946312 154.167659 \nL 146.525664 151.370718 \nL 149.105017 150.021316 \nL 151.68437 147.097613 \nL 154.263723 147.097613 \nL 156.843076 144.68238 \nL 159.422429 143.829944 \nL 162.001782 143.829944 \nL 164.581134 143.829944 \nL 167.160487 135.98754 \nL 169.73984 135.98754 \nL 172.319193 132.141745 \nL 174.898546 132.141745 \nL 177.477899 131.732618 \nL 180.057252 131.732618 \nL 182.636604 127.825037 \nL 185.215957 125.274255 \nL 187.79531 124.223933 \nL 190.374663 124.223933 \nL 192.954016 122.94528 \nL 195.533369 121.354761 \nL 198.112721 120.894611 \nL 200.692074 119.32243 \nL 203.271427 117.384627 \nL 205.85078 117.384627 \nL 208.430133 115.989409 \nL 211.009486 113.767394 \nL 213.588839 113.767394 \nL 216.168191 113.767394 \nL 218.747544 113.767394 \nL 221.326897 113.767394 \nL 223.90625 112.912773 \nL 226.485603 110.45801 \nL 229.064956 107.418781 \nL 231.644309 107.418781 \nL 234.223661 107.418781 \nL 236.803014 107.418781 \nL 239.382367 104.172331 \nL 241.96172 104.172331 \nL 244.541073 104.172331 \nL 247.120426 101.208181 \nL 249.699779 101.208181 \nL 252.279131 101.208181 \nL 254.858484 98.491044 \nL 257.437837 94.130986 \nL 260.01719 94.130986 \nL 262.596543 94.130986 \nL 265.175896 91.547248 \nL 267.755248 91.547248 \nL 270.334601 89.183403 \nL 272.913954 88.623545 \nL 275.493307 88.623545 \nL 278.07266 88.623545 \nL 280.652013 88.623545 \nL 283.231366 85.992211 \nL 285.810718 85.992211 \nL 288.390071 85.992211 \nL 290.969424 85.992211 \nL 293.548777 85.992211 \nL 296.12813 85.992211 \nL 298.707483 83.611482 \nL 301.286836 83.611482 \nL 303.866188 83.611482 \nL 306.445541 83.611482 \nL 309.024894 81.447182 \nL 311.604247 81.447182 \nL 314.1836 81.447182 \nL 316.762953 81.447182 \nL 319.342305 79.471082 \nL 321.921658 74.454828 \nL 324.501011 74.454828 \nL 327.080364 74.454828 \nL 329.659717 72.578831 \nL 332.23907 72.578831 \nL 334.818423 70.877345 \nL 337.397775 70.877345 \nL 339.977128 69.327102 \nL 342.556481 67.243963 \nL 345.135834 65.4059 \nL 347.715187 62.310214 \nL 350.29454 59.804182 \nL 352.873893 57.733982 \nL 355.453245 52.124408 \nL 358.032598 52.124408 \nL 360.611951 51.146983 \nL 363.191304 50.281263 \nL 365.770657 49.509134 \nL 368.35001 35.996883 \nL 370.929362 35.996883 \nL 373.508715 21.712503 \nL 376.088068 20.846783 \n\" style=\"fill:none;stroke:#1f77b4;stroke-linecap:square;stroke-width:1.5;\"/>\n   </g>\n   <g id=\"patch_3\">\n    <path d=\"M 56.50625 228.403147 \nL 56.50625 10.963147 \n\" style=\"fill:none;stroke:#000000;stroke-linecap:square;stroke-linejoin:miter;stroke-width:0.8;\"/>\n   </g>\n   <g id=\"patch_4\">\n    <path d=\"M 391.30625 228.403147 \nL 391.30625 10.963147 \n\" style=\"fill:none;stroke:#000000;stroke-linecap:square;stroke-linejoin:miter;stroke-width:0.8;\"/>\n   </g>\n   <g id=\"patch_5\">\n    <path d=\"M 56.50625 228.403147 \nL 391.30625 228.403147 \n\" style=\"fill:none;stroke:#000000;stroke-linecap:square;stroke-linejoin:miter;stroke-width:0.8;\"/>\n   </g>\n   <g id=\"patch_6\">\n    <path d=\"M 56.50625 10.963147 \nL 391.30625 10.963147 \n\" style=\"fill:none;stroke:#000000;stroke-linecap:square;stroke-linejoin:miter;stroke-width:0.8;\"/>\n   </g>\n  </g>\n </g>\n <defs>\n  <clipPath id=\"pe001b72cf7\">\n   <rect height=\"217.44\" width=\"334.8\" x=\"56.50625\" y=\"10.963147\"/>\n  </clipPath>\n </defs>\n</svg>\n",
      "image/png": "[encoded data removed]"
     },
     "metadata": {
      "needs_background": "light"
     }
    }
   ],
   "source": [
    "mix_list = [v[1] for v in get_share_trader_distribution(x_train).values()]\n",
    "mix_list.sort()\n",
    "plt.plot(mix_list)\n",
    "plt.ylabel('MIX ratio')\n",
    "plt.show()"
   ]
  },
  {
   "cell_type": "code",
   "execution_count": 68,
   "metadata": {},
   "outputs": [
    {
     "output_type": "execute_result",
     "data": {
      "text/plain": [
       "        Share  Day     Trader       OTR         OCR         OMR  \\\n",
       "0           8   24  Trader_10  2.272727    8.333333   12.500000   \n",
       "1          87   29  Trader_10  1.696629   25.166667   21.571429   \n",
       "2          87   23  Trader_10  1.482759   47.300000  118.250000   \n",
       "3          12   11  Trader_10  1.705882   14.500000   29.000000   \n",
       "4          87    9  Trader_10  1.517730   26.750000         NaN   \n",
       "...       ...  ...        ...       ...         ...         ...   \n",
       "105777     84   27  Trader_60  1.150000   23.000000         NaN   \n",
       "105778    102   18  Trader_60  1.352941   23.000000         NaN   \n",
       "105779     12   13  Trader_60  1.146667   86.000000         NaN   \n",
       "105780     27   30  Trader_60  1.179191  204.000000         NaN   \n",
       "105781     47   12  Trader_60  1.178571   66.000000         NaN   \n",
       "\n",
       "        min_time_two_events  mean_time_two_events  10_p_time_two_events  \\\n",
       "0                       0.0           5117.830300              0.000000   \n",
       "1                       0.0           1846.968401              0.000074   \n",
       "2                       0.0            686.300630              0.000071   \n",
       "3                       0.0           2174.335265              0.000000   \n",
       "4                       0.0            944.008551              0.000071   \n",
       "...                     ...                   ...                   ...   \n",
       "105777                  0.0            736.500080              0.000000   \n",
       "105778                  0.0             63.672695              0.000000   \n",
       "105779                  0.0            708.440816              0.000000   \n",
       "105780                  0.0            384.893976              0.000000   \n",
       "105781                  0.0            122.636320              0.000000   \n",
       "\n",
       "        med_time_two_events  ...  med_dt_TV1_TV2  min_dt_TV1_TV3  \\\n",
       "0                419.688500  ...             NaN             NaN   \n",
       "1                  0.003374  ...             NaN             NaN   \n",
       "2                  0.000599  ...             NaN             NaN   \n",
       "3                  6.152666  ...             NaN             NaN   \n",
       "4                  0.001364  ...             NaN             NaN   \n",
       "...                     ...  ...             ...             ...   \n",
       "105777             0.000188  ...             NaN             NaN   \n",
       "105778             0.000963  ...             NaN             NaN   \n",
       "105779             0.000578  ...             NaN             NaN   \n",
       "105780             0.000536  ...             NaN             NaN   \n",
       "105781             0.000689  ...             NaN             NaN   \n",
       "\n",
       "        mean_dt_TV1_TV3  med_dt_TV1_TV3  min_dt_TV1_TV4  mean_dt_TV1_TV4  \\\n",
       "0                   NaN             NaN             NaN              NaN   \n",
       "1                   NaN             NaN             NaN              NaN   \n",
       "2                   NaN             NaN             NaN              NaN   \n",
       "3                   NaN             NaN             NaN              NaN   \n",
       "4                   NaN             NaN             NaN              NaN   \n",
       "...                 ...             ...             ...              ...   \n",
       "105777              NaN             NaN             NaN              NaN   \n",
       "105778              NaN             NaN             NaN              NaN   \n",
       "105779              NaN             NaN             NaN              NaN   \n",
       "105780              NaN             NaN             NaN              NaN   \n",
       "105781              NaN             NaN             NaN              NaN   \n",
       "\n",
       "        med_dt_TV1_TV4  NbSecondWithAtLeatOneTrade  everyday_sharecount  \\\n",
       "0                  NaN                           4                    5   \n",
       "1                  NaN                          15                    5   \n",
       "2                  NaN                          63                    4   \n",
       "3                  NaN                           4                    3   \n",
       "4                  NaN                          38                    1   \n",
       "...                ...                         ...                  ...   \n",
       "105777             NaN                           3                    3   \n",
       "105778             NaN                           7                    2   \n",
       "105779             NaN                          16                    1   \n",
       "105780             NaN                          35                    1   \n",
       "105781             NaN                           9                    4   \n",
       "\n",
       "        everyshare_daycount  \n",
       "0                        14  \n",
       "1                        22  \n",
       "2                        22  \n",
       "3                        15  \n",
       "4                        22  \n",
       "...                     ...  \n",
       "105777                    2  \n",
       "105778                    2  \n",
       "105779                    1  \n",
       "105780                    6  \n",
       "105781                    2  \n",
       "\n",
       "[105782 rows x 40 columns]"
      ],
      "text/html": "<div>\n<style scoped>\n    .dataframe tbody tr th:only-of-type {\n        vertical-align: middle;\n    }\n\n    .dataframe tbody tr th {\n        vertical-align: top;\n    }\n\n    .dataframe thead th {\n        text-align: right;\n    }\n</style>\n<table border=\"1\" class=\"dataframe\">\n  <thead>\n    <tr style=\"text-align: right;\">\n      <th></th>\n      <th>Share</th>\n      <th>Day</th>\n      <th>Trader</th>\n      <th>OTR</th>\n      <th>OCR</th>\n      <th>OMR</th>\n      <th>min_time_two_events</th>\n      <th>mean_time_two_events</th>\n      <th>10_p_time_two_events</th>\n      <th>med_time_two_events</th>\n      <th>...</th>\n      <th>med_dt_TV1_TV2</th>\n      <th>min_dt_TV1_TV3</th>\n      <th>mean_dt_TV1_TV3</th>\n      <th>med_dt_TV1_TV3</th>\n      <th>min_dt_TV1_TV4</th>\n      <th>mean_dt_TV1_TV4</th>\n      <th>med_dt_TV1_TV4</th>\n      <th>NbSecondWithAtLeatOneTrade</th>\n      <th>everyday_sharecount</th>\n      <th>everyshare_daycount</th>\n    </tr>\n  </thead>\n  <tbody>\n    <tr>\n      <th>0</th>\n      <td>8</td>\n      <td>24</td>\n      <td>Trader_10</td>\n      <td>2.272727</td>\n      <td>8.333333</td>\n      <td>12.500000</td>\n      <td>0.0</td>\n      <td>5117.830300</td>\n      <td>0.000000</td>\n      <td>419.688500</td>\n      <td>...</td>\n      <td>NaN</td>\n      <td>NaN</td>\n      <td>NaN</td>\n      <td>NaN</td>\n      <td>NaN</td>\n      <td>NaN</td>\n      <td>NaN</td>\n      <td>4</td>\n      <td>5</td>\n      <td>14</td>\n    </tr>\n    <tr>\n      <th>1</th>\n      <td>87</td>\n      <td>29</td>\n      <td>Trader_10</td>\n      <td>1.696629</td>\n      <td>25.166667</td>\n      <td>21.571429</td>\n      <td>0.0</td>\n      <td>1846.968401</td>\n      <td>0.000074</td>\n      <td>0.003374</td>\n      <td>...</td>\n      <td>NaN</td>\n      <td>NaN</td>\n      <td>NaN</td>\n      <td>NaN</td>\n      <td>NaN</td>\n      <td>NaN</td>\n      <td>NaN</td>\n      <td>15</td>\n      <td>5</td>\n      <td>22</td>\n    </tr>\n    <tr>\n      <th>2</th>\n      <td>87</td>\n      <td>23</td>\n      <td>Trader_10</td>\n      <td>1.482759</td>\n      <td>47.300000</td>\n      <td>118.250000</td>\n      <td>0.0</td>\n      <td>686.300630</td>\n      <td>0.000071</td>\n      <td>0.000599</td>\n      <td>...</td>\n      <td>NaN</td>\n      <td>NaN</td>\n      <td>NaN</td>\n      <td>NaN</td>\n      <td>NaN</td>\n      <td>NaN</td>\n      <td>NaN</td>\n      <td>63</td>\n      <td>4</td>\n      <td>22</td>\n    </tr>\n    <tr>\n      <th>3</th>\n      <td>12</td>\n      <td>11</td>\n      <td>Trader_10</td>\n      <td>1.705882</td>\n      <td>14.500000</td>\n      <td>29.000000</td>\n      <td>0.0</td>\n      <td>2174.335265</td>\n      <td>0.000000</td>\n      <td>6.152666</td>\n      <td>...</td>\n      <td>NaN</td>\n      <td>NaN</td>\n      <td>NaN</td>\n      <td>NaN</td>\n      <td>NaN</td>\n      <td>NaN</td>\n      <td>NaN</td>\n      <td>4</td>\n      <td>3</td>\n      <td>15</td>\n    </tr>\n    <tr>\n      <th>4</th>\n      <td>87</td>\n      <td>9</td>\n      <td>Trader_10</td>\n      <td>1.517730</td>\n      <td>26.750000</td>\n      <td>NaN</td>\n      <td>0.0</td>\n      <td>944.008551</td>\n      <td>0.000071</td>\n      <td>0.001364</td>\n      <td>...</td>\n      <td>NaN</td>\n      <td>NaN</td>\n      <td>NaN</td>\n      <td>NaN</td>\n      <td>NaN</td>\n      <td>NaN</td>\n      <td>NaN</td>\n      <td>38</td>\n      <td>1</td>\n      <td>22</td>\n    </tr>\n    <tr>\n      <th>...</th>\n      <td>...</td>\n      <td>...</td>\n      <td>...</td>\n      <td>...</td>\n      <td>...</td>\n      <td>...</td>\n      <td>...</td>\n      <td>...</td>\n      <td>...</td>\n      <td>...</td>\n      <td>...</td>\n      <td>...</td>\n      <td>...</td>\n      <td>...</td>\n      <td>...</td>\n      <td>...</td>\n      <td>...</td>\n      <td>...</td>\n      <td>...</td>\n      <td>...</td>\n      <td>...</td>\n    </tr>\n    <tr>\n      <th>105777</th>\n      <td>84</td>\n      <td>27</td>\n      <td>Trader_60</td>\n      <td>1.150000</td>\n      <td>23.000000</td>\n      <td>NaN</td>\n      <td>0.0</td>\n      <td>736.500080</td>\n      <td>0.000000</td>\n      <td>0.000188</td>\n      <td>...</td>\n      <td>NaN</td>\n      <td>NaN</td>\n      <td>NaN</td>\n      <td>NaN</td>\n      <td>NaN</td>\n      <td>NaN</td>\n      <td>NaN</td>\n      <td>3</td>\n      <td>3</td>\n      <td>2</td>\n    </tr>\n    <tr>\n      <th>105778</th>\n      <td>102</td>\n      <td>18</td>\n      <td>Trader_60</td>\n      <td>1.352941</td>\n      <td>23.000000</td>\n      <td>NaN</td>\n      <td>0.0</td>\n      <td>63.672695</td>\n      <td>0.000000</td>\n      <td>0.000963</td>\n      <td>...</td>\n      <td>NaN</td>\n      <td>NaN</td>\n      <td>NaN</td>\n      <td>NaN</td>\n      <td>NaN</td>\n      <td>NaN</td>\n      <td>NaN</td>\n      <td>7</td>\n      <td>2</td>\n      <td>2</td>\n    </tr>\n    <tr>\n      <th>105779</th>\n      <td>12</td>\n      <td>13</td>\n      <td>Trader_60</td>\n      <td>1.146667</td>\n      <td>86.000000</td>\n      <td>NaN</td>\n      <td>0.0</td>\n      <td>708.440816</td>\n      <td>0.000000</td>\n      <td>0.000578</td>\n      <td>...</td>\n      <td>NaN</td>\n      <td>NaN</td>\n      <td>NaN</td>\n      <td>NaN</td>\n      <td>NaN</td>\n      <td>NaN</td>\n      <td>NaN</td>\n      <td>16</td>\n      <td>1</td>\n      <td>1</td>\n    </tr>\n    <tr>\n      <th>105780</th>\n      <td>27</td>\n      <td>30</td>\n      <td>Trader_60</td>\n      <td>1.179191</td>\n      <td>204.000000</td>\n      <td>NaN</td>\n      <td>0.0</td>\n      <td>384.893976</td>\n      <td>0.000000</td>\n      <td>0.000536</td>\n      <td>...</td>\n      <td>NaN</td>\n      <td>NaN</td>\n      <td>NaN</td>\n      <td>NaN</td>\n      <td>NaN</td>\n      <td>NaN</td>\n      <td>NaN</td>\n      <td>35</td>\n      <td>1</td>\n      <td>6</td>\n    </tr>\n    <tr>\n      <th>105781</th>\n      <td>47</td>\n      <td>12</td>\n      <td>Trader_60</td>\n      <td>1.178571</td>\n      <td>66.000000</td>\n      <td>NaN</td>\n      <td>0.0</td>\n      <td>122.636320</td>\n      <td>0.000000</td>\n      <td>0.000689</td>\n      <td>...</td>\n      <td>NaN</td>\n      <td>NaN</td>\n      <td>NaN</td>\n      <td>NaN</td>\n      <td>NaN</td>\n      <td>NaN</td>\n      <td>NaN</td>\n      <td>9</td>\n      <td>4</td>\n      <td>2</td>\n    </tr>\n  </tbody>\n</table>\n<p>105782 rows × 40 columns</p>\n</div>"
     },
     "metadata": {},
     "execution_count": 68
    }
   ],
   "source": [
    "x_train"
   ]
  },
  {
   "cell_type": "code",
   "execution_count": 73,
   "metadata": {},
   "outputs": [
    {
     "output_type": "execute_result",
     "data": {
      "text/plain": [
       "     share_hft_ratio  share_mix_ratio  share_non_hft_ratio  Share\n",
       "8           0.236364         0.381818             0.381818      8\n",
       "87          0.218750         0.343750             0.437500     87\n",
       "12          0.200000         0.338462             0.461538     12\n",
       "27          0.214286         0.328571             0.457143     27\n",
       "117         0.174603         0.317460             0.507937    117\n",
       "..               ...              ...                  ...    ...\n",
       "56          0.289474         0.447368             0.263158     56\n",
       "65          0.295455         0.431818             0.272727     65\n",
       "107         0.276596         0.404255             0.319149    107\n",
       "93          0.295455         0.431818             0.272727     93\n",
       "111         0.258065         0.483871             0.258065    111\n",
       "\n",
       "[119 rows x 4 columns]"
      ],
      "text/html": "<div>\n<style scoped>\n    .dataframe tbody tr th:only-of-type {\n        vertical-align: middle;\n    }\n\n    .dataframe tbody tr th {\n        vertical-align: top;\n    }\n\n    .dataframe thead th {\n        text-align: right;\n    }\n</style>\n<table border=\"1\" class=\"dataframe\">\n  <thead>\n    <tr style=\"text-align: right;\">\n      <th></th>\n      <th>share_hft_ratio</th>\n      <th>share_mix_ratio</th>\n      <th>share_non_hft_ratio</th>\n      <th>Share</th>\n    </tr>\n  </thead>\n  <tbody>\n    <tr>\n      <th>8</th>\n      <td>0.236364</td>\n      <td>0.381818</td>\n      <td>0.381818</td>\n      <td>8</td>\n    </tr>\n    <tr>\n      <th>87</th>\n      <td>0.218750</td>\n      <td>0.343750</td>\n      <td>0.437500</td>\n      <td>87</td>\n    </tr>\n    <tr>\n      <th>12</th>\n      <td>0.200000</td>\n      <td>0.338462</td>\n      <td>0.461538</td>\n      <td>12</td>\n    </tr>\n    <tr>\n      <th>27</th>\n      <td>0.214286</td>\n      <td>0.328571</td>\n      <td>0.457143</td>\n      <td>27</td>\n    </tr>\n    <tr>\n      <th>117</th>\n      <td>0.174603</td>\n      <td>0.317460</td>\n      <td>0.507937</td>\n      <td>117</td>\n    </tr>\n    <tr>\n      <th>...</th>\n      <td>...</td>\n      <td>...</td>\n      <td>...</td>\n      <td>...</td>\n    </tr>\n    <tr>\n      <th>56</th>\n      <td>0.289474</td>\n      <td>0.447368</td>\n      <td>0.263158</td>\n      <td>56</td>\n    </tr>\n    <tr>\n      <th>65</th>\n      <td>0.295455</td>\n      <td>0.431818</td>\n      <td>0.272727</td>\n      <td>65</td>\n    </tr>\n    <tr>\n      <th>107</th>\n      <td>0.276596</td>\n      <td>0.404255</td>\n      <td>0.319149</td>\n      <td>107</td>\n    </tr>\n    <tr>\n      <th>93</th>\n      <td>0.295455</td>\n      <td>0.431818</td>\n      <td>0.272727</td>\n      <td>93</td>\n    </tr>\n    <tr>\n      <th>111</th>\n      <td>0.258065</td>\n      <td>0.483871</td>\n      <td>0.258065</td>\n      <td>111</td>\n    </tr>\n  </tbody>\n</table>\n<p>119 rows × 4 columns</p>\n</div>"
     },
     "metadata": {},
     "execution_count": 73
    }
   ],
   "source": [
    "share_info = pd.DataFrame.from_dict(get_share_trader_distribution(x_train), orient='index', columns=['share_hft_ratio', 'share_mix_ratio', 'share_non_hft_ratio'])\n",
    "share_info['Share'] = share_info.index\n",
    "share_info"
   ]
  },
  {
   "cell_type": "code",
   "execution_count": 75,
   "metadata": {},
   "outputs": [
    {
     "output_type": "execute_result",
     "data": {
      "text/plain": [
       "       Share  Day            Trader       OTR        OCR         OMR  \\\n",
       "0        106   12          Adelaide  1.114754  68.000000         NaN   \n",
       "1         94    2          Adelaide  1.666667   5.000000         NaN   \n",
       "2        106   13          Adelaide  1.088235  37.000000         NaN   \n",
       "3        106    7          Adelaide  2.250000   4.500000         NaN   \n",
       "4        106   20          Adelaide  1.266667  19.000000         NaN   \n",
       "...      ...  ...               ...       ...        ...         ...   \n",
       "85299     63   22  The Magic Mirror  2.871595   5.857143  123.000000   \n",
       "85300     64   17  The Magic Mirror  5.212121   3.071429         NaN   \n",
       "85301     68    2  The Magic Mirror  4.455210   3.856013   16.355705   \n",
       "85302     70    5  The Magic Mirror  6.447761   2.989619  432.000000   \n",
       "85303     80    7  The Magic Mirror  7.700315   2.630388  135.611111   \n",
       "\n",
       "       min_time_two_events  mean_time_two_events  10_p_time_two_events  \\\n",
       "0                 0.000012             22.905096              0.000061   \n",
       "1                 0.001970             67.630572              0.001970   \n",
       "2                 0.000000             39.506490              0.000000   \n",
       "3                 0.000000            103.378733              0.000000   \n",
       "4                 0.000026             49.417177              0.000063   \n",
       "...                    ...                   ...                   ...   \n",
       "85299             0.000000            883.517330              0.000007   \n",
       "85300             0.000000            172.979466              0.000005   \n",
       "85301             0.000000             89.774309              0.000083   \n",
       "85302             0.000000            160.000783              0.000000   \n",
       "85303             0.000000             76.635420              0.204431   \n",
       "\n",
       "       med_time_two_events  ...  min_dt_TV1_TV3  mean_dt_TV1_TV3  \\\n",
       "0                 0.003870  ...             NaN              NaN   \n",
       "1                 0.005786  ...             NaN              NaN   \n",
       "2                 0.000485  ...             NaN              NaN   \n",
       "3                 0.004708  ...             NaN              NaN   \n",
       "4                 0.000152  ...             NaN              NaN   \n",
       "...                    ...  ...             ...              ...   \n",
       "85299            17.002092  ...           0.001       167.194486   \n",
       "85300            68.548670  ...           0.001       248.172895   \n",
       "85301             1.865339  ...           0.001        40.202416   \n",
       "85302            31.689264  ...           0.001       199.806264   \n",
       "85303            28.711662  ...           0.001        97.406735   \n",
       "\n",
       "       med_dt_TV1_TV3  min_dt_TV1_TV4  mean_dt_TV1_TV4  med_dt_TV1_TV4  \\\n",
       "0                 NaN             NaN              NaN             NaN   \n",
       "1                 NaN             NaN              NaN             NaN   \n",
       "2                 NaN             NaN              NaN             NaN   \n",
       "3                 NaN             NaN              NaN             NaN   \n",
       "4                 NaN             NaN              NaN             NaN   \n",
       "...               ...             ...              ...             ...   \n",
       "85299          59.901           0.001       141.082862          59.901   \n",
       "85300          78.285           0.054       170.699750          78.285   \n",
       "85301          15.388           0.001        41.509048          16.328   \n",
       "85302         109.091           0.001       181.848526          88.792   \n",
       "85303          50.193           0.001        83.814411          31.515   \n",
       "\n",
       "       NbSecondWithAtLeatOneTrade  share_hft_ratio  share_mix_ratio  \\\n",
       "0                              16         0.244444         0.422222   \n",
       "1                               1         0.260870         0.456522   \n",
       "2                               6         0.244444         0.422222   \n",
       "3                               2         0.244444         0.422222   \n",
       "4                               5         0.244444         0.422222   \n",
       "...                           ...              ...              ...   \n",
       "85299                         219         0.193548         0.483871   \n",
       "85300                          48         0.282609         0.434783   \n",
       "85301                         671         0.285714         0.408163   \n",
       "85302                         165         0.241379         0.379310   \n",
       "85303                         250         0.250000         0.454545   \n",
       "\n",
       "       share_non_hft_ratio  \n",
       "0                 0.333333  \n",
       "1                 0.282609  \n",
       "2                 0.333333  \n",
       "3                 0.333333  \n",
       "4                 0.333333  \n",
       "...                    ...  \n",
       "85299             0.322581  \n",
       "85300             0.282609  \n",
       "85301             0.306122  \n",
       "85302             0.379310  \n",
       "85303             0.295455  \n",
       "\n",
       "[85304 rows x 41 columns]"
      ],
      "text/html": "<div>\n<style scoped>\n    .dataframe tbody tr th:only-of-type {\n        vertical-align: middle;\n    }\n\n    .dataframe tbody tr th {\n        vertical-align: top;\n    }\n\n    .dataframe thead th {\n        text-align: right;\n    }\n</style>\n<table border=\"1\" class=\"dataframe\">\n  <thead>\n    <tr style=\"text-align: right;\">\n      <th></th>\n      <th>Share</th>\n      <th>Day</th>\n      <th>Trader</th>\n      <th>OTR</th>\n      <th>OCR</th>\n      <th>OMR</th>\n      <th>min_time_two_events</th>\n      <th>mean_time_two_events</th>\n      <th>10_p_time_two_events</th>\n      <th>med_time_two_events</th>\n      <th>...</th>\n      <th>min_dt_TV1_TV3</th>\n      <th>mean_dt_TV1_TV3</th>\n      <th>med_dt_TV1_TV3</th>\n      <th>min_dt_TV1_TV4</th>\n      <th>mean_dt_TV1_TV4</th>\n      <th>med_dt_TV1_TV4</th>\n      <th>NbSecondWithAtLeatOneTrade</th>\n      <th>share_hft_ratio</th>\n      <th>share_mix_ratio</th>\n      <th>share_non_hft_ratio</th>\n    </tr>\n  </thead>\n  <tbody>\n    <tr>\n      <th>0</th>\n      <td>106</td>\n      <td>12</td>\n      <td>Adelaide</td>\n      <td>1.114754</td>\n      <td>68.000000</td>\n      <td>NaN</td>\n      <td>0.000012</td>\n      <td>22.905096</td>\n      <td>0.000061</td>\n      <td>0.003870</td>\n      <td>...</td>\n      <td>NaN</td>\n      <td>NaN</td>\n      <td>NaN</td>\n      <td>NaN</td>\n      <td>NaN</td>\n      <td>NaN</td>\n      <td>16</td>\n      <td>0.244444</td>\n      <td>0.422222</td>\n      <td>0.333333</td>\n    </tr>\n    <tr>\n      <th>1</th>\n      <td>94</td>\n      <td>2</td>\n      <td>Adelaide</td>\n      <td>1.666667</td>\n      <td>5.000000</td>\n      <td>NaN</td>\n      <td>0.001970</td>\n      <td>67.630572</td>\n      <td>0.001970</td>\n      <td>0.005786</td>\n      <td>...</td>\n      <td>NaN</td>\n      <td>NaN</td>\n      <td>NaN</td>\n      <td>NaN</td>\n      <td>NaN</td>\n      <td>NaN</td>\n      <td>1</td>\n      <td>0.260870</td>\n      <td>0.456522</td>\n      <td>0.282609</td>\n    </tr>\n    <tr>\n      <th>2</th>\n      <td>106</td>\n      <td>13</td>\n      <td>Adelaide</td>\n      <td>1.088235</td>\n      <td>37.000000</td>\n      <td>NaN</td>\n      <td>0.000000</td>\n      <td>39.506490</td>\n      <td>0.000000</td>\n      <td>0.000485</td>\n      <td>...</td>\n      <td>NaN</td>\n      <td>NaN</td>\n      <td>NaN</td>\n      <td>NaN</td>\n      <td>NaN</td>\n      <td>NaN</td>\n      <td>6</td>\n      <td>0.244444</td>\n      <td>0.422222</td>\n      <td>0.333333</td>\n    </tr>\n    <tr>\n      <th>3</th>\n      <td>106</td>\n      <td>7</td>\n      <td>Adelaide</td>\n      <td>2.250000</td>\n      <td>4.500000</td>\n      <td>NaN</td>\n      <td>0.000000</td>\n      <td>103.378733</td>\n      <td>0.000000</td>\n      <td>0.004708</td>\n      <td>...</td>\n      <td>NaN</td>\n      <td>NaN</td>\n      <td>NaN</td>\n      <td>NaN</td>\n      <td>NaN</td>\n      <td>NaN</td>\n      <td>2</td>\n      <td>0.244444</td>\n      <td>0.422222</td>\n      <td>0.333333</td>\n    </tr>\n    <tr>\n      <th>4</th>\n      <td>106</td>\n      <td>20</td>\n      <td>Adelaide</td>\n      <td>1.266667</td>\n      <td>19.000000</td>\n      <td>NaN</td>\n      <td>0.000026</td>\n      <td>49.417177</td>\n      <td>0.000063</td>\n      <td>0.000152</td>\n      <td>...</td>\n      <td>NaN</td>\n      <td>NaN</td>\n      <td>NaN</td>\n      <td>NaN</td>\n      <td>NaN</td>\n      <td>NaN</td>\n      <td>5</td>\n      <td>0.244444</td>\n      <td>0.422222</td>\n      <td>0.333333</td>\n    </tr>\n    <tr>\n      <th>...</th>\n      <td>...</td>\n      <td>...</td>\n      <td>...</td>\n      <td>...</td>\n      <td>...</td>\n      <td>...</td>\n      <td>...</td>\n      <td>...</td>\n      <td>...</td>\n      <td>...</td>\n      <td>...</td>\n      <td>...</td>\n      <td>...</td>\n      <td>...</td>\n      <td>...</td>\n      <td>...</td>\n      <td>...</td>\n      <td>...</td>\n      <td>...</td>\n      <td>...</td>\n      <td>...</td>\n    </tr>\n    <tr>\n      <th>85299</th>\n      <td>63</td>\n      <td>22</td>\n      <td>The Magic Mirror</td>\n      <td>2.871595</td>\n      <td>5.857143</td>\n      <td>123.000000</td>\n      <td>0.000000</td>\n      <td>883.517330</td>\n      <td>0.000007</td>\n      <td>17.002092</td>\n      <td>...</td>\n      <td>0.001</td>\n      <td>167.194486</td>\n      <td>59.901</td>\n      <td>0.001</td>\n      <td>141.082862</td>\n      <td>59.901</td>\n      <td>219</td>\n      <td>0.193548</td>\n      <td>0.483871</td>\n      <td>0.322581</td>\n    </tr>\n    <tr>\n      <th>85300</th>\n      <td>64</td>\n      <td>17</td>\n      <td>The Magic Mirror</td>\n      <td>5.212121</td>\n      <td>3.071429</td>\n      <td>NaN</td>\n      <td>0.000000</td>\n      <td>172.979466</td>\n      <td>0.000005</td>\n      <td>68.548670</td>\n      <td>...</td>\n      <td>0.001</td>\n      <td>248.172895</td>\n      <td>78.285</td>\n      <td>0.054</td>\n      <td>170.699750</td>\n      <td>78.285</td>\n      <td>48</td>\n      <td>0.282609</td>\n      <td>0.434783</td>\n      <td>0.282609</td>\n    </tr>\n    <tr>\n      <th>85301</th>\n      <td>68</td>\n      <td>2</td>\n      <td>The Magic Mirror</td>\n      <td>4.455210</td>\n      <td>3.856013</td>\n      <td>16.355705</td>\n      <td>0.000000</td>\n      <td>89.774309</td>\n      <td>0.000083</td>\n      <td>1.865339</td>\n      <td>...</td>\n      <td>0.001</td>\n      <td>40.202416</td>\n      <td>15.388</td>\n      <td>0.001</td>\n      <td>41.509048</td>\n      <td>16.328</td>\n      <td>671</td>\n      <td>0.285714</td>\n      <td>0.408163</td>\n      <td>0.306122</td>\n    </tr>\n    <tr>\n      <th>85302</th>\n      <td>70</td>\n      <td>5</td>\n      <td>The Magic Mirror</td>\n      <td>6.447761</td>\n      <td>2.989619</td>\n      <td>432.000000</td>\n      <td>0.000000</td>\n      <td>160.000783</td>\n      <td>0.000000</td>\n      <td>31.689264</td>\n      <td>...</td>\n      <td>0.001</td>\n      <td>199.806264</td>\n      <td>109.091</td>\n      <td>0.001</td>\n      <td>181.848526</td>\n      <td>88.792</td>\n      <td>165</td>\n      <td>0.241379</td>\n      <td>0.379310</td>\n      <td>0.379310</td>\n    </tr>\n    <tr>\n      <th>85303</th>\n      <td>80</td>\n      <td>7</td>\n      <td>The Magic Mirror</td>\n      <td>7.700315</td>\n      <td>2.630388</td>\n      <td>135.611111</td>\n      <td>0.000000</td>\n      <td>76.635420</td>\n      <td>0.204431</td>\n      <td>28.711662</td>\n      <td>...</td>\n      <td>0.001</td>\n      <td>97.406735</td>\n      <td>50.193</td>\n      <td>0.001</td>\n      <td>83.814411</td>\n      <td>31.515</td>\n      <td>250</td>\n      <td>0.250000</td>\n      <td>0.454545</td>\n      <td>0.295455</td>\n    </tr>\n  </tbody>\n</table>\n<p>85304 rows × 41 columns</p>\n</div>"
     },
     "metadata": {},
     "execution_count": 75
    }
   ],
   "source": [
    "x_test.join(share_info.set_index(['Share']), on=['Share'])"
   ]
  },
  {
   "cell_type": "code",
   "execution_count": null,
   "metadata": {},
   "outputs": [],
   "source": [
    "scale_list = ['OTR', 'OCR', 'OMR', 'mean_time_two_events', 'med_time_two_events']"
   ]
  },
  {
   "cell_type": "code",
   "execution_count": 14,
   "metadata": {},
   "outputs": [],
   "source": [
    "x_train['10_p_time_two_events'] = preprocessing.scale(x_train['10_p_time_two_events'])"
   ]
  },
  {
   "cell_type": "code",
   "execution_count": 15,
   "metadata": {},
   "outputs": [
    {
     "output_type": "execute_result",
     "data": {
      "text/plain": [
       "        Share  Day     Trader       OTR       OCR       OMR  \\\n",
       "0           8   24  Trader_10 -0.234316 -0.127020 -0.163583   \n",
       "1          87   29  Trader_10 -0.238513  0.107288 -0.153818   \n",
       "2          87   23  Trader_10 -0.240071  0.415368 -0.049751   \n",
       "3          12   11  Trader_10 -0.238446 -0.041184 -0.145822   \n",
       "4          87    9  Trader_10 -0.239816  0.129327       NaN   \n",
       "...       ...  ...        ...       ...       ...       ...   \n",
       "105777     84   27  Trader_60 -0.242495  0.077130       NaN   \n",
       "105778    102   18  Trader_60 -0.241017  0.077130       NaN   \n",
       "105779     12   13  Trader_60 -0.242520  0.954043       NaN   \n",
       "105780     27   30  Trader_60 -0.242283  2.596516       NaN   \n",
       "105781     47   12  Trader_60 -0.242287  0.675658       NaN   \n",
       "\n",
       "        min_time_two_events  mean_time_two_events  10_p_time_two_events  \\\n",
       "0                 -0.056435           5117.830300             -0.063888   \n",
       "1                 -0.056435           1846.968401             -0.063888   \n",
       "2                 -0.056435            686.300630             -0.063888   \n",
       "3                 -0.056435           2174.335265             -0.063888   \n",
       "4                 -0.056435            944.008551             -0.063888   \n",
       "...                     ...                   ...                   ...   \n",
       "105777            -0.056435            736.500080             -0.063888   \n",
       "105778            -0.056435             63.672695             -0.063888   \n",
       "105779            -0.056435            708.440816             -0.063888   \n",
       "105780            -0.056435            384.893976             -0.063888   \n",
       "105781            -0.056435            122.636320             -0.063888   \n",
       "\n",
       "        med_time_two_events  ...  min_dt_TV1_TV2  mean_dt_TV1_TV2  \\\n",
       "0                419.688500  ...             NaN              NaN   \n",
       "1                  0.003374  ...             NaN              NaN   \n",
       "2                  0.000599  ...             NaN              NaN   \n",
       "3                  6.152666  ...             NaN              NaN   \n",
       "4                  0.001364  ...             NaN              NaN   \n",
       "...                     ...  ...             ...              ...   \n",
       "105777             0.000188  ...             NaN              NaN   \n",
       "105778             0.000963  ...             NaN              NaN   \n",
       "105779             0.000578  ...             NaN              NaN   \n",
       "105780             0.000536  ...             NaN              NaN   \n",
       "105781             0.000689  ...             NaN              NaN   \n",
       "\n",
       "        med_dt_TV1_TV2  min_dt_TV1_TV3  mean_dt_TV1_TV3  med_dt_TV1_TV3  \\\n",
       "0                  NaN             NaN              NaN             NaN   \n",
       "1                  NaN             NaN              NaN             NaN   \n",
       "2                  NaN             NaN              NaN             NaN   \n",
       "3                  NaN             NaN              NaN             NaN   \n",
       "4                  NaN             NaN              NaN             NaN   \n",
       "...                ...             ...              ...             ...   \n",
       "105777             NaN             NaN              NaN             NaN   \n",
       "105778             NaN             NaN              NaN             NaN   \n",
       "105779             NaN             NaN              NaN             NaN   \n",
       "105780             NaN             NaN              NaN             NaN   \n",
       "105781             NaN             NaN              NaN             NaN   \n",
       "\n",
       "        min_dt_TV1_TV4  mean_dt_TV1_TV4  med_dt_TV1_TV4  \\\n",
       "0                  NaN              NaN             NaN   \n",
       "1                  NaN              NaN             NaN   \n",
       "2                  NaN              NaN             NaN   \n",
       "3                  NaN              NaN             NaN   \n",
       "4                  NaN              NaN             NaN   \n",
       "...                ...              ...             ...   \n",
       "105777             NaN              NaN             NaN   \n",
       "105778             NaN              NaN             NaN   \n",
       "105779             NaN              NaN             NaN   \n",
       "105780             NaN              NaN             NaN   \n",
       "105781             NaN              NaN             NaN   \n",
       "\n",
       "        NbSecondWithAtLeatOneTrade  \n",
       "0                                4  \n",
       "1                               15  \n",
       "2                               63  \n",
       "3                                4  \n",
       "4                               38  \n",
       "...                            ...  \n",
       "105777                           3  \n",
       "105778                           7  \n",
       "105779                          16  \n",
       "105780                          35  \n",
       "105781                           9  \n",
       "\n",
       "[105782 rows x 38 columns]"
      ],
      "text/html": "<div>\n<style scoped>\n    .dataframe tbody tr th:only-of-type {\n        vertical-align: middle;\n    }\n\n    .dataframe tbody tr th {\n        vertical-align: top;\n    }\n\n    .dataframe thead th {\n        text-align: right;\n    }\n</style>\n<table border=\"1\" class=\"dataframe\">\n  <thead>\n    <tr style=\"text-align: right;\">\n      <th></th>\n      <th>Share</th>\n      <th>Day</th>\n      <th>Trader</th>\n      <th>OTR</th>\n      <th>OCR</th>\n      <th>OMR</th>\n      <th>min_time_two_events</th>\n      <th>mean_time_two_events</th>\n      <th>10_p_time_two_events</th>\n      <th>med_time_two_events</th>\n      <th>...</th>\n      <th>min_dt_TV1_TV2</th>\n      <th>mean_dt_TV1_TV2</th>\n      <th>med_dt_TV1_TV2</th>\n      <th>min_dt_TV1_TV3</th>\n      <th>mean_dt_TV1_TV3</th>\n      <th>med_dt_TV1_TV3</th>\n      <th>min_dt_TV1_TV4</th>\n      <th>mean_dt_TV1_TV4</th>\n      <th>med_dt_TV1_TV4</th>\n      <th>NbSecondWithAtLeatOneTrade</th>\n    </tr>\n  </thead>\n  <tbody>\n    <tr>\n      <th>0</th>\n      <td>8</td>\n      <td>24</td>\n      <td>Trader_10</td>\n      <td>-0.234316</td>\n      <td>-0.127020</td>\n      <td>-0.163583</td>\n      <td>-0.056435</td>\n      <td>5117.830300</td>\n      <td>-0.063888</td>\n      <td>419.688500</td>\n      <td>...</td>\n      <td>NaN</td>\n      <td>NaN</td>\n      <td>NaN</td>\n      <td>NaN</td>\n      <td>NaN</td>\n      <td>NaN</td>\n      <td>NaN</td>\n      <td>NaN</td>\n      <td>NaN</td>\n      <td>4</td>\n    </tr>\n    <tr>\n      <th>1</th>\n      <td>87</td>\n      <td>29</td>\n      <td>Trader_10</td>\n      <td>-0.238513</td>\n      <td>0.107288</td>\n      <td>-0.153818</td>\n      <td>-0.056435</td>\n      <td>1846.968401</td>\n      <td>-0.063888</td>\n      <td>0.003374</td>\n      <td>...</td>\n      <td>NaN</td>\n      <td>NaN</td>\n      <td>NaN</td>\n      <td>NaN</td>\n      <td>NaN</td>\n      <td>NaN</td>\n      <td>NaN</td>\n      <td>NaN</td>\n      <td>NaN</td>\n      <td>15</td>\n    </tr>\n    <tr>\n      <th>2</th>\n      <td>87</td>\n      <td>23</td>\n      <td>Trader_10</td>\n      <td>-0.240071</td>\n      <td>0.415368</td>\n      <td>-0.049751</td>\n      <td>-0.056435</td>\n      <td>686.300630</td>\n      <td>-0.063888</td>\n      <td>0.000599</td>\n      <td>...</td>\n      <td>NaN</td>\n      <td>NaN</td>\n      <td>NaN</td>\n      <td>NaN</td>\n      <td>NaN</td>\n      <td>NaN</td>\n      <td>NaN</td>\n      <td>NaN</td>\n      <td>NaN</td>\n      <td>63</td>\n    </tr>\n    <tr>\n      <th>3</th>\n      <td>12</td>\n      <td>11</td>\n      <td>Trader_10</td>\n      <td>-0.238446</td>\n      <td>-0.041184</td>\n      <td>-0.145822</td>\n      <td>-0.056435</td>\n      <td>2174.335265</td>\n      <td>-0.063888</td>\n      <td>6.152666</td>\n      <td>...</td>\n      <td>NaN</td>\n      <td>NaN</td>\n      <td>NaN</td>\n      <td>NaN</td>\n      <td>NaN</td>\n      <td>NaN</td>\n      <td>NaN</td>\n      <td>NaN</td>\n      <td>NaN</td>\n      <td>4</td>\n    </tr>\n    <tr>\n      <th>4</th>\n      <td>87</td>\n      <td>9</td>\n      <td>Trader_10</td>\n      <td>-0.239816</td>\n      <td>0.129327</td>\n      <td>NaN</td>\n      <td>-0.056435</td>\n      <td>944.008551</td>\n      <td>-0.063888</td>\n      <td>0.001364</td>\n      <td>...</td>\n      <td>NaN</td>\n      <td>NaN</td>\n      <td>NaN</td>\n      <td>NaN</td>\n      <td>NaN</td>\n      <td>NaN</td>\n      <td>NaN</td>\n      <td>NaN</td>\n      <td>NaN</td>\n      <td>38</td>\n    </tr>\n    <tr>\n      <th>...</th>\n      <td>...</td>\n      <td>...</td>\n      <td>...</td>\n      <td>...</td>\n      <td>...</td>\n      <td>...</td>\n      <td>...</td>\n      <td>...</td>\n      <td>...</td>\n      <td>...</td>\n      <td>...</td>\n      <td>...</td>\n      <td>...</td>\n      <td>...</td>\n      <td>...</td>\n      <td>...</td>\n      <td>...</td>\n      <td>...</td>\n      <td>...</td>\n      <td>...</td>\n      <td>...</td>\n    </tr>\n    <tr>\n      <th>105777</th>\n      <td>84</td>\n      <td>27</td>\n      <td>Trader_60</td>\n      <td>-0.242495</td>\n      <td>0.077130</td>\n      <td>NaN</td>\n      <td>-0.056435</td>\n      <td>736.500080</td>\n      <td>-0.063888</td>\n      <td>0.000188</td>\n      <td>...</td>\n      <td>NaN</td>\n      <td>NaN</td>\n      <td>NaN</td>\n      <td>NaN</td>\n      <td>NaN</td>\n      <td>NaN</td>\n      <td>NaN</td>\n      <td>NaN</td>\n      <td>NaN</td>\n      <td>3</td>\n    </tr>\n    <tr>\n      <th>105778</th>\n      <td>102</td>\n      <td>18</td>\n      <td>Trader_60</td>\n      <td>-0.241017</td>\n      <td>0.077130</td>\n      <td>NaN</td>\n      <td>-0.056435</td>\n      <td>63.672695</td>\n      <td>-0.063888</td>\n      <td>0.000963</td>\n      <td>...</td>\n      <td>NaN</td>\n      <td>NaN</td>\n      <td>NaN</td>\n      <td>NaN</td>\n      <td>NaN</td>\n      <td>NaN</td>\n      <td>NaN</td>\n      <td>NaN</td>\n      <td>NaN</td>\n      <td>7</td>\n    </tr>\n    <tr>\n      <th>105779</th>\n      <td>12</td>\n      <td>13</td>\n      <td>Trader_60</td>\n      <td>-0.242520</td>\n      <td>0.954043</td>\n      <td>NaN</td>\n      <td>-0.056435</td>\n      <td>708.440816</td>\n      <td>-0.063888</td>\n      <td>0.000578</td>\n      <td>...</td>\n      <td>NaN</td>\n      <td>NaN</td>\n      <td>NaN</td>\n      <td>NaN</td>\n      <td>NaN</td>\n      <td>NaN</td>\n      <td>NaN</td>\n      <td>NaN</td>\n      <td>NaN</td>\n      <td>16</td>\n    </tr>\n    <tr>\n      <th>105780</th>\n      <td>27</td>\n      <td>30</td>\n      <td>Trader_60</td>\n      <td>-0.242283</td>\n      <td>2.596516</td>\n      <td>NaN</td>\n      <td>-0.056435</td>\n      <td>384.893976</td>\n      <td>-0.063888</td>\n      <td>0.000536</td>\n      <td>...</td>\n      <td>NaN</td>\n      <td>NaN</td>\n      <td>NaN</td>\n      <td>NaN</td>\n      <td>NaN</td>\n      <td>NaN</td>\n      <td>NaN</td>\n      <td>NaN</td>\n      <td>NaN</td>\n      <td>35</td>\n    </tr>\n    <tr>\n      <th>105781</th>\n      <td>47</td>\n      <td>12</td>\n      <td>Trader_60</td>\n      <td>-0.242287</td>\n      <td>0.675658</td>\n      <td>NaN</td>\n      <td>-0.056435</td>\n      <td>122.636320</td>\n      <td>-0.063888</td>\n      <td>0.000689</td>\n      <td>...</td>\n      <td>NaN</td>\n      <td>NaN</td>\n      <td>NaN</td>\n      <td>NaN</td>\n      <td>NaN</td>\n      <td>NaN</td>\n      <td>NaN</td>\n      <td>NaN</td>\n      <td>NaN</td>\n      <td>9</td>\n    </tr>\n  </tbody>\n</table>\n<p>105782 rows × 38 columns</p>\n</div>"
     },
     "metadata": {},
     "execution_count": 15
    }
   ],
   "source": [
    "x_train"
   ]
  },
  {
   "cell_type": "code",
   "execution_count": 18,
   "metadata": {},
   "outputs": [
    {
     "output_type": "execute_result",
     "data": {
      "text/plain": [
       "count      15.000000\n",
       "mean     2130.000000\n",
       "std      2089.542602\n",
       "min         8.000000\n",
       "25%       643.000000\n",
       "50%      1709.000000\n",
       "75%      2500.500000\n",
       "max      7587.000000\n",
       "Name: Day, dtype: float64"
      ]
     },
     "metadata": {},
     "execution_count": 18
    }
   ],
   "source": [
    "x_train[x_train.apply(lambda x: name2type[x['Trader']] == 'HFT', axis=1)].groupby('Trader')['Day'].count().describe()"
   ]
  },
  {
   "cell_type": "code",
   "execution_count": 19,
   "metadata": {},
   "outputs": [
    {
     "output_type": "execute_result",
     "data": {
      "text/plain": [
       "count       24.00000\n",
       "mean      2145.12500\n",
       "std       2097.22598\n",
       "min          9.00000\n",
       "25%        670.50000\n",
       "50%       2329.50000\n",
       "75%       2547.50000\n",
       "max      10208.00000\n",
       "Name: Day, dtype: float64"
      ]
     },
     "metadata": {},
     "execution_count": 19
    }
   ],
   "source": [
    "x_train[x_train.apply(lambda x: name2type[x['Trader']] == 'MIX', axis=1)].groupby('Trader')['Day'].count().describe()"
   ]
  },
  {
   "cell_type": "code",
   "execution_count": 20,
   "metadata": {},
   "outputs": [
    {
     "output_type": "execute_result",
     "data": {
      "text/plain": [
       "count      47.000000\n",
       "mean      475.510638\n",
       "std       787.638625\n",
       "min         1.000000\n",
       "25%        26.000000\n",
       "50%        95.000000\n",
       "75%       306.000000\n",
       "max      2393.000000\n",
       "Name: Day, dtype: float64"
      ]
     },
     "metadata": {},
     "execution_count": 20
    }
   ],
   "source": [
    "x_train[x_train.apply(lambda x: name2type[x['Trader']] == 'NON HFT', axis=1)].groupby('Trader')['Day'].count().describe()"
   ]
  },
  {
   "cell_type": "code",
   "execution_count": 23,
   "metadata": {},
   "outputs": [],
   "source": [
    "trader_list = x_train['Trader'].unique()\n",
    "trader_list.sort()"
   ]
  },
  {
   "cell_type": "code",
   "execution_count": 47,
   "metadata": {},
   "outputs": [
    {
     "output_type": "execute_result",
     "data": {
      "text/plain": [
       "array(['Trader_10', 'Trader_105', 'Trader_107', 'Trader_110',\n",
       "       'Trader_114', 'Trader_120', 'Trader_127', 'Trader_128',\n",
       "       'Trader_132', 'Trader_136', 'Trader_140', 'Trader_149',\n",
       "       'Trader_150', 'Trader_155', 'Trader_158', 'Trader_16',\n",
       "       'Trader_161', 'Trader_164', 'Trader_169', 'Trader_172',\n",
       "       'Trader_177', 'Trader_178', 'Trader_179', 'Trader_184',\n",
       "       'Trader_191', 'Trader_195', 'Trader_205', 'Trader_208',\n",
       "       'Trader_209', 'Trader_221', 'Trader_222', 'Trader_226',\n",
       "       'Trader_233', 'Trader_237', 'Trader_241', 'Trader_244',\n",
       "       'Trader_245', 'Trader_255', 'Trader_256', 'Trader_257',\n",
       "       'Trader_26', 'Trader_264', 'Trader_275', 'Trader_278',\n",
       "       'Trader_279', 'Trader_280', 'Trader_285', 'Trader_288',\n",
       "       'Trader_293', 'Trader_310', 'Trader_312', 'Trader_328',\n",
       "       'Trader_329', 'Trader_330', 'Trader_338', 'Trader_340',\n",
       "       'Trader_341', 'Trader_35', 'Trader_358', 'Trader_375', 'Trader_38',\n",
       "       'Trader_380', 'Trader_385', 'Trader_386', 'Trader_395',\n",
       "       'Trader_398', 'Trader_40', 'Trader_41', 'Trader_422', 'Trader_424',\n",
       "       'Trader_425', 'Trader_430', 'Trader_431', 'Trader_435',\n",
       "       'Trader_438', 'Trader_442', 'Trader_446', 'Trader_451',\n",
       "       'Trader_453', 'Trader_46', 'Trader_461', 'Trader_51', 'Trader_54',\n",
       "       'Trader_57', 'Trader_59', 'Trader_60'], dtype=object)"
      ]
     },
     "metadata": {},
     "execution_count": 47
    }
   ],
   "source": [
    "trader_list"
   ]
  },
  {
   "cell_type": "code",
   "execution_count": 92,
   "metadata": {},
   "outputs": [],
   "source": [
    "a =[np.array(x_train[x_train['Trader'] == trader].sort_values(\n",
    "        by=['Day']).drop(['Trader'], axis=1).values.tolist()).reshape(-1,37).flatten().reshape(1,-1) for trader in trader_list]"
   ]
  },
  {
   "cell_type": "code",
   "execution_count": 98,
   "metadata": {},
   "outputs": [
    {
     "output_type": "execute_result",
     "data": {
      "text/plain": [
       "(1, 67932)"
      ]
     },
     "metadata": {},
     "execution_count": 98
    }
   ],
   "source": [
    "a[2].shape"
   ]
  },
  {
   "cell_type": "code",
   "execution_count": 42,
   "metadata": {},
   "outputs": [
    {
     "output_type": "stream",
     "name": "stdout",
     "text": [
      "(77, 37)\n(77, 37)\n(77, 37)\n(77, 37)\n(77, 37)\n(77, 37)\n(77, 37)\n(77, 37)\n(77, 37)\n(77, 37)\n(77, 37)\n(77, 37)\n(77, 37)\n(77, 37)\n(77, 37)\n(77, 37)\n(77, 37)\n(77, 37)\n(77, 37)\n(77, 37)\n(77, 37)\n(77, 37)\n(77, 37)\n(77, 37)\n(77, 37)\n(77, 37)\n(77, 37)\n(77, 37)\n(77, 37)\n(77, 37)\n(77, 37)\n(77, 37)\n(77, 37)\n(77, 37)\n(77, 37)\n(77, 37)\n(77, 37)\n(77, 37)\n(77, 37)\n(77, 37)\n(77, 37)\n(77, 37)\n(77, 37)\n(77, 37)\n(77, 37)\n(77, 37)\n(77, 37)\n(77, 37)\n(77, 37)\n(77, 37)\n(77, 37)\n(77, 37)\n(77, 37)\n(77, 37)\n(77, 37)\n(77, 37)\n(77, 37)\n(77, 37)\n(77, 37)\n(77, 37)\n(77, 37)\n(77, 37)\n(77, 37)\n(77, 37)\n(77, 37)\n(77, 37)\n(77, 37)\n(77, 37)\n(77, 37)\n(77, 37)\n(77, 37)\n(77, 37)\n(77, 37)\n(77, 37)\n(77, 37)\n(77, 37)\n(77, 37)\n(77, 37)\n(77, 37)\n(77, 37)\n(77, 37)\n(77, 37)\n(77, 37)\n(77, 37)\n(77, 37)\n(77, 37)\n"
     ]
    }
   ],
   "source": [
    "for data in trader_data:\n",
    "    print(data.shape)"
   ]
  },
  {
   "cell_type": "code",
   "execution_count": 52,
   "metadata": {},
   "outputs": [
    {
     "output_type": "execute_result",
     "data": {
      "text/plain": [
       "[[0, 0, 1],\n",
       " [0, 0, 1],\n",
       " [0, 1, 0],\n",
       " [0, 0, 1],\n",
       " [0, 0, 1],\n",
       " [1, 0, 0],\n",
       " [0, 0, 1],\n",
       " [0, 0, 1],\n",
       " [1, 0, 0],\n",
       " [1, 0, 0],\n",
       " [0, 1, 0],\n",
       " [0, 0, 1],\n",
       " [0, 0, 1],\n",
       " [0, 0, 1],\n",
       " [0, 0, 1],\n",
       " [0, 0, 1],\n",
       " [1, 0, 0],\n",
       " [0, 1, 0],\n",
       " [0, 0, 1],\n",
       " [0, 1, 0],\n",
       " [0, 0, 1],\n",
       " [0, 0, 1],\n",
       " [0, 0, 1],\n",
       " [0, 0, 1],\n",
       " [0, 0, 1],\n",
       " [0, 0, 1],\n",
       " [0, 1, 0],\n",
       " [0, 0, 1],\n",
       " [0, 1, 0],\n",
       " [0, 0, 1],\n",
       " [0, 0, 1],\n",
       " [1, 0, 0],\n",
       " [0, 1, 0],\n",
       " [0, 0, 1],\n",
       " [0, 1, 0],\n",
       " [1, 0, 0],\n",
       " [0, 1, 0],\n",
       " [0, 0, 1],\n",
       " [0, 0, 1],\n",
       " [0, 0, 1],\n",
       " [0, 1, 0],\n",
       " [0, 1, 0],\n",
       " [0, 0, 1],\n",
       " [1, 0, 0],\n",
       " [0, 0, 1],\n",
       " [0, 0, 1],\n",
       " [0, 1, 0],\n",
       " [0, 0, 1],\n",
       " [0, 0, 1],\n",
       " [0, 1, 0],\n",
       " [0, 0, 1],\n",
       " [1, 0, 0],\n",
       " [0, 1, 0],\n",
       " [0, 1, 0],\n",
       " [0, 1, 0],\n",
       " [0, 0, 1],\n",
       " [1, 0, 0],\n",
       " [1, 0, 0],\n",
       " [0, 1, 0],\n",
       " [0, 0, 1],\n",
       " [0, 1, 0],\n",
       " [0, 0, 1],\n",
       " [1, 0, 0],\n",
       " [1, 0, 0],\n",
       " [0, 1, 0],\n",
       " [0, 0, 1],\n",
       " [1, 0, 0],\n",
       " [0, 0, 1],\n",
       " [1, 0, 0],\n",
       " [0, 0, 1],\n",
       " [0, 0, 1],\n",
       " [0, 1, 0],\n",
       " [0, 1, 0],\n",
       " [0, 0, 1],\n",
       " [0, 1, 0],\n",
       " [0, 0, 1],\n",
       " [0, 0, 1],\n",
       " [0, 1, 0],\n",
       " [1, 0, 0],\n",
       " [0, 0, 1],\n",
       " [0, 1, 0],\n",
       " [0, 0, 1],\n",
       " [0, 0, 1],\n",
       " [0, 0, 1],\n",
       " [0, 0, 1],\n",
       " [0, 0, 1]]"
      ]
     },
     "metadata": {},
     "execution_count": 52
    }
   ],
   "source": [
    "list(y_train.sort_values(by=['Trader'])['type'].apply(lambda x: [1, 0, 0] if x=='HFT' else ([0, 1, 0] if x=='MIX' else [0, 0, 1])))"
   ]
  },
  {
   "cell_type": "code",
   "execution_count": 95,
   "metadata": {},
   "outputs": [],
   "source": [
    "a = np.vstack(x_train.groupby(['Trader', 'Day']).apply(np.array))"
   ]
  },
  {
   "cell_type": "code",
   "execution_count": 100,
   "metadata": {},
   "outputs": [
    {
     "output_type": "execute_result",
     "data": {
      "text/plain": [
       "array([8, 2, 'Trader_10', 1.326086956521739, 30.5, 30.5, 0.0,\n",
       "       101.49396872997386, 0.0, 0.0, 0.0, 0.000711, 207.46196, 1404.7513,\n",
       "       3.745041, 704.2481918334961, 3.745041, 3.745041, 3.745041,\n",
       "       1404.7513, 1404.7513, 1404.7513, 1, 12, 4.6, 0.000307,\n",
       "       2332.9639597692303, 1207.43965, nan, nan, nan, nan, nan, nan, nan,\n",
       "       nan, nan, 10], dtype=object)"
      ]
     },
     "metadata": {},
     "execution_count": 100
    }
   ],
   "source": [
    "a[0]"
   ]
  },
  {
   "cell_type": "code",
   "execution_count": 99,
   "metadata": {},
   "outputs": [
    {
     "output_type": "execute_result",
     "data": {
      "text/plain": [
       "(1, 1, 1)"
      ]
     },
     "metadata": {},
     "execution_count": 99
    }
   ],
   "source": [
    "b.shape"
   ]
  },
  {
   "cell_type": "code",
   "execution_count": 41,
   "metadata": {},
   "outputs": [],
   "source": [
    "x_train_data = np.array(x_train.drop(['Trader'], axis = 1))"
   ]
  },
  {
   "cell_type": "code",
   "execution_count": 42,
   "metadata": {},
   "outputs": [],
   "source": [
    "ind2type = {0: 'HFT', 1: 'MIX', 2: 'NON HFT'}\n",
    "type2ind = {'HFT': 0, 'MIX': 1, 'NON HFT': 2}"
   ]
  },
  {
   "cell_type": "code",
   "execution_count": 43,
   "metadata": {},
   "outputs": [
    {
     "output_type": "execute_result",
     "data": {
      "text/plain": [
       "        Trader     type\n",
       "0   Trader_285      MIX\n",
       "1   Trader_114  NON HFT\n",
       "2   Trader_110  NON HFT\n",
       "3    Trader_57  NON HFT\n",
       "4   Trader_128  NON HFT\n",
       "..         ...      ...\n",
       "81  Trader_140      MIX\n",
       "82  Trader_451      MIX\n",
       "83  Trader_438      MIX\n",
       "84  Trader_278      HFT\n",
       "85  Trader_330      MIX\n",
       "\n",
       "[86 rows x 2 columns]"
      ],
      "text/html": "<div>\n<style scoped>\n    .dataframe tbody tr th:only-of-type {\n        vertical-align: middle;\n    }\n\n    .dataframe tbody tr th {\n        vertical-align: top;\n    }\n\n    .dataframe thead th {\n        text-align: right;\n    }\n</style>\n<table border=\"1\" class=\"dataframe\">\n  <thead>\n    <tr style=\"text-align: right;\">\n      <th></th>\n      <th>Trader</th>\n      <th>type</th>\n    </tr>\n  </thead>\n  <tbody>\n    <tr>\n      <th>0</th>\n      <td>Trader_285</td>\n      <td>MIX</td>\n    </tr>\n    <tr>\n      <th>1</th>\n      <td>Trader_114</td>\n      <td>NON HFT</td>\n    </tr>\n    <tr>\n      <th>2</th>\n      <td>Trader_110</td>\n      <td>NON HFT</td>\n    </tr>\n    <tr>\n      <th>3</th>\n      <td>Trader_57</td>\n      <td>NON HFT</td>\n    </tr>\n    <tr>\n      <th>4</th>\n      <td>Trader_128</td>\n      <td>NON HFT</td>\n    </tr>\n    <tr>\n      <th>...</th>\n      <td>...</td>\n      <td>...</td>\n    </tr>\n    <tr>\n      <th>81</th>\n      <td>Trader_140</td>\n      <td>MIX</td>\n    </tr>\n    <tr>\n      <th>82</th>\n      <td>Trader_451</td>\n      <td>MIX</td>\n    </tr>\n    <tr>\n      <th>83</th>\n      <td>Trader_438</td>\n      <td>MIX</td>\n    </tr>\n    <tr>\n      <th>84</th>\n      <td>Trader_278</td>\n      <td>HFT</td>\n    </tr>\n    <tr>\n      <th>85</th>\n      <td>Trader_330</td>\n      <td>MIX</td>\n    </tr>\n  </tbody>\n</table>\n<p>86 rows × 2 columns</p>\n</div>"
     },
     "metadata": {},
     "execution_count": 43
    }
   ],
   "source": [
    "y_train"
   ]
  },
  {
   "cell_type": "code",
   "execution_count": 44,
   "metadata": {},
   "outputs": [],
   "source": [
    "name2type = dict(zip(y_train.Trader, y_train.type))"
   ]
  },
  {
   "cell_type": "code",
   "execution_count": 45,
   "metadata": {},
   "outputs": [],
   "source": [
    "x_train = x_train.fillna(-1)"
   ]
  },
  {
   "cell_type": "code",
   "execution_count": 46,
   "metadata": {
    "tags": []
   },
   "outputs": [],
   "source": [
    "x_train['label'] = x_train.apply(lambda row: 0 if name2type[row.Trader] == 'HFT' else (1 if name2type[row.Trader] == 'MIX' else 2), axis=1)"
   ]
  },
  {
   "cell_type": "code",
   "execution_count": 47,
   "metadata": {},
   "outputs": [],
   "source": [
    "y_train_data = x_train['label']"
   ]
  },
  {
   "cell_type": "code",
   "execution_count": 48,
   "metadata": {},
   "outputs": [],
   "source": [
    "from sklearn.model_selection import train_test_split"
   ]
  },
  {
   "cell_type": "code",
   "execution_count": 51,
   "metadata": {},
   "outputs": [],
   "source": [
    "x_train_b, x_test_b, y_train_b, y_test_b = train_test_split(x_train_data, y_train_data, test_size=0.3)"
   ]
  },
  {
   "cell_type": "code",
   "execution_count": 52,
   "metadata": {},
   "outputs": [
    {
     "output_type": "execute_result",
     "data": {
      "text/plain": [
       "RandomForestRegressor(n_estimators=1000, random_state=42)"
      ]
     },
     "metadata": {},
     "execution_count": 52
    }
   ],
   "source": [
    "from sklearn.ensemble import RandomForestRegressor\n",
    "# Instantiate model with 1000 decision trees\n",
    "rf = RandomForestRegressor(n_estimators = 1000, random_state = 42)\n",
    "# Train the model on training data\n",
    "rf.fit(x_train_b, y_train_b)"
   ]
  },
  {
   "cell_type": "code",
   "execution_count": 50,
   "metadata": {},
   "outputs": [],
   "source": [
    "from sklearn.multioutput import MultiOutputClassifier\n",
    "from sklearn.svm import LinearSVC\n",
    "\n",
    "# Create the SVM\n",
    "svm = LinearSVC(random_state=42)\n",
    "\n",
    "# Make it an Multilabel classifier\n",
    "\n",
    "# Fit the data to the Multilabel classifier\n",
    "svm.fit(x_train_b, y_train_b)\n",
    "\n",
    "# Get predictions for test data\n",
    "y_test_pred = svm.predict(x_test_b)"
   ]
  },
  {
   "cell_type": "code",
   "execution_count": 20,
   "metadata": {},
   "outputs": [
    {
     "output_type": "execute_result",
     "data": {
      "text/plain": [
       "0.47981723648968017"
      ]
     },
     "metadata": {},
     "execution_count": 20
    }
   ],
   "source": [
    "len(np.where(y_test_pred == y_test_b)[0]) / len(y_test_b)"
   ]
  },
  {
   "cell_type": "code",
   "execution_count": 23,
   "metadata": {},
   "outputs": [],
   "source": [
    "x_real_test = read_x_train('data/AMF_test_X.csv', includeShare=False, includeDay=False)\n",
    "x_real_test = fill_nan(x_real_test)"
   ]
  },
  {
   "cell_type": "code",
   "execution_count": 24,
   "metadata": {},
   "outputs": [],
   "source": [
    "x_real_test_data = np.array(x_real_test)[:,1:]"
   ]
  },
  {
   "cell_type": "code",
   "execution_count": 25,
   "metadata": {},
   "outputs": [],
   "source": [
    "y_test_predict = svm.predict(x_real_test_data)"
   ]
  },
  {
   "cell_type": "code",
   "execution_count": 26,
   "metadata": {},
   "outputs": [
    {
     "output_type": "execute_result",
     "data": {
      "text/plain": [
       "(85304, 35)"
      ]
     },
     "metadata": {},
     "execution_count": 26
    }
   ],
   "source": [
    "x_real_test_data.shape"
   ]
  },
  {
   "cell_type": "code",
   "execution_count": 27,
   "metadata": {},
   "outputs": [
    {
     "output_type": "execute_result",
     "data": {
      "text/plain": [
       "(105782, 35)"
      ]
     },
     "metadata": {},
     "execution_count": 27
    }
   ],
   "source": [
    "x_train_data.shape"
   ]
  },
  {
   "cell_type": "code",
   "execution_count": 28,
   "metadata": {},
   "outputs": [
    {
     "output_type": "execute_result",
     "data": {
      "text/plain": [
       "array([1, 0, 1, ..., 1, 1, 1], dtype=int64)"
      ]
     },
     "metadata": {},
     "execution_count": 28
    }
   ],
   "source": [
    "y_test_predict\n"
   ]
  },
  {
   "cell_type": "code",
   "execution_count": 29,
   "metadata": {},
   "outputs": [],
   "source": [
    "res = [(row.Trader, y_test_predict[i])  for i, row in x_real_test.iterrows()]\n",
    "    "
   ]
  },
  {
   "cell_type": "code",
   "execution_count": 30,
   "metadata": {},
   "outputs": [],
   "source": [
    "dicts = {}\n",
    "for row in res:\n",
    "    if row[0] in dicts:\n",
    "        dicts[row[0]].append(row[1])\n",
    "    else:\n",
    "        dicts[row[0]] = [row[1]]"
   ]
  },
  {
   "cell_type": "code",
   "execution_count": 31,
   "metadata": {},
   "outputs": [],
   "source": [
    "final = {}\n",
    "for k,v in dicts.items():\n",
    "    if len(np.where(np.array(v) == 0)[0])/len(v) > 0.4:\n",
    "        final[k] = 'HFT'\n",
    "    elif len(np.where(np.array(v) == 0)[0])/len(v) > 0.2:\n",
    "        final[k] = 'MIX'\n",
    "    else:\n",
    "        final[k] = 'NON HFT'"
   ]
  },
  {
   "cell_type": "code",
   "execution_count": 32,
   "metadata": {},
   "outputs": [],
   "source": [
    "import csv\n",
    "(pd.DataFrame.from_dict(data=final, orient='index').to_csv('dict_file.csv'))"
   ]
  },
  {
   "cell_type": "code",
   "execution_count": 162,
   "metadata": {},
   "outputs": [
    {
     "output_type": "execute_result",
     "data": {
      "text/plain": [
       "array([], dtype=int64)"
      ]
     },
     "metadata": {},
     "execution_count": 162
    }
   ],
   "source": [
    "np.where(dicts['Adelaide']==0)[0]"
   ]
  },
  {
   "cell_type": "code",
   "execution_count": 161,
   "metadata": {},
   "outputs": [
    {
     "output_type": "execute_result",
     "data": {
      "text/plain": [
       "[2, 2, 2, 2, 1, 0, 0, 0, 2, 1]"
      ]
     },
     "metadata": {},
     "execution_count": 161
    }
   ],
   "source": [
    "dicts['Adelaide']"
   ]
  },
  {
   "cell_type": "code",
   "execution_count": null,
   "metadata": {},
   "outputs": [],
   "source": []
  }
 ]
}